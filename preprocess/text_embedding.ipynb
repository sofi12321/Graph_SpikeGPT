{
  "nbformat": 4,
  "nbformat_minor": 0,
  "metadata": {
    "colab": {
      "provenance": []
    },
    "kernelspec": {
      "name": "python3",
      "display_name": "Python 3"
    },
    "language_info": {
      "name": "python"
    }
  },
  "cells": [
    {
      "cell_type": "code",
      "source": [
        "!git clone https://huggingface.co/ridger/SpikeGPT-OpenWebText-216M\n",
        "!git clone https://github.com/ridgerchu/SpikeGPT.git"
      ],
      "metadata": {
        "colab": {
          "base_uri": "https://localhost:8080/"
        },
        "id": "RodfoNUXSa3A",
        "outputId": "4bb1aa72-c6da-4521-ba36-779cc03a7d3a"
      },
      "execution_count": 2,
      "outputs": [
        {
          "output_type": "stream",
          "name": "stdout",
          "text": [
            "Cloning into 'SpikeGPT-OpenWebText-216M'...\n",
            "remote: Enumerating objects: 13, done.\u001b[K\n",
            "remote: Total 13 (delta 0), reused 0 (delta 0), pack-reused 13\u001b[K\n",
            "Unpacking objects: 100% (13/13), 1.51 KiB | 515.00 KiB/s, done.\n",
            "Cloning into 'SpikeGPT'...\n",
            "remote: Enumerating objects: 252, done.\u001b[K\n",
            "remote: Counting objects: 100% (65/65), done.\u001b[K\n",
            "remote: Compressing objects: 100% (64/64), done.\u001b[K\n",
            "remote: Total 252 (delta 37), reused 6 (delta 1), pack-reused 187\u001b[K\n",
            "Receiving objects: 100% (252/252), 1.28 MiB | 10.71 MiB/s, done.\n",
            "Resolving deltas: 100% (94/94), done.\n"
          ]
        }
      ]
    },
    {
      "cell_type": "code",
      "source": [
        "!pip install torch matplotlib numpy tqdm torchvision scipy ninja accelerate transformers"
      ],
      "metadata": {
        "colab": {
          "base_uri": "https://localhost:8080/"
        },
        "id": "oY3sbsXeCB1i",
        "outputId": "537ef42b-2e2d-4e7a-e885-894ff83a936a"
      },
      "execution_count": 6,
      "outputs": [
        {
          "output_type": "stream",
          "name": "stdout",
          "text": [
            "Requirement already satisfied: torch in /usr/local/lib/python3.10/dist-packages (2.0.1+cu118)\n",
            "Requirement already satisfied: matplotlib in /usr/local/lib/python3.10/dist-packages (3.7.1)\n",
            "Requirement already satisfied: numpy in /usr/local/lib/python3.10/dist-packages (1.23.5)\n",
            "Requirement already satisfied: tqdm in /usr/local/lib/python3.10/dist-packages (4.66.1)\n",
            "Requirement already satisfied: torchvision in /usr/local/lib/python3.10/dist-packages (0.15.2+cu118)\n",
            "Requirement already satisfied: scipy in /usr/local/lib/python3.10/dist-packages (1.11.3)\n",
            "Collecting ninja\n",
            "  Downloading ninja-1.11.1-py2.py3-none-manylinux_2_12_x86_64.manylinux2010_x86_64.whl (145 kB)\n",
            "\u001b[2K     \u001b[90m━━━━━━━━━━━━━━━━━━━━━━━━━━━━━━━━━━━━━━━\u001b[0m \u001b[32m146.0/146.0 kB\u001b[0m \u001b[31m2.8 MB/s\u001b[0m eta \u001b[36m0:00:00\u001b[0m\n",
            "\u001b[?25hCollecting accelerate\n",
            "  Downloading accelerate-0.23.0-py3-none-any.whl (258 kB)\n",
            "\u001b[2K     \u001b[90m━━━━━━━━━━━━━━━━━━━━━━━━━━━━━━━━━━━━━━\u001b[0m \u001b[32m258.1/258.1 kB\u001b[0m \u001b[31m13.2 MB/s\u001b[0m eta \u001b[36m0:00:00\u001b[0m\n",
            "\u001b[?25hCollecting transformers\n",
            "  Downloading transformers-4.34.0-py3-none-any.whl (7.7 MB)\n",
            "\u001b[2K     \u001b[90m━━━━━━━━━━━━━━━━━━━━━━━━━━━━━━━━━━━━━━━━\u001b[0m \u001b[32m7.7/7.7 MB\u001b[0m \u001b[31m73.3 MB/s\u001b[0m eta \u001b[36m0:00:00\u001b[0m\n",
            "\u001b[?25hRequirement already satisfied: filelock in /usr/local/lib/python3.10/dist-packages (from torch) (3.12.4)\n",
            "Requirement already satisfied: typing-extensions in /usr/local/lib/python3.10/dist-packages (from torch) (4.5.0)\n",
            "Requirement already satisfied: sympy in /usr/local/lib/python3.10/dist-packages (from torch) (1.12)\n",
            "Requirement already satisfied: networkx in /usr/local/lib/python3.10/dist-packages (from torch) (3.1)\n",
            "Requirement already satisfied: jinja2 in /usr/local/lib/python3.10/dist-packages (from torch) (3.1.2)\n",
            "Requirement already satisfied: triton==2.0.0 in /usr/local/lib/python3.10/dist-packages (from torch) (2.0.0)\n",
            "Requirement already satisfied: cmake in /usr/local/lib/python3.10/dist-packages (from triton==2.0.0->torch) (3.27.6)\n",
            "Requirement already satisfied: lit in /usr/local/lib/python3.10/dist-packages (from triton==2.0.0->torch) (17.0.2)\n",
            "Requirement already satisfied: contourpy>=1.0.1 in /usr/local/lib/python3.10/dist-packages (from matplotlib) (1.1.1)\n",
            "Requirement already satisfied: cycler>=0.10 in /usr/local/lib/python3.10/dist-packages (from matplotlib) (0.12.0)\n",
            "Requirement already satisfied: fonttools>=4.22.0 in /usr/local/lib/python3.10/dist-packages (from matplotlib) (4.43.0)\n",
            "Requirement already satisfied: kiwisolver>=1.0.1 in /usr/local/lib/python3.10/dist-packages (from matplotlib) (1.4.5)\n",
            "Requirement already satisfied: packaging>=20.0 in /usr/local/lib/python3.10/dist-packages (from matplotlib) (23.2)\n",
            "Requirement already satisfied: pillow>=6.2.0 in /usr/local/lib/python3.10/dist-packages (from matplotlib) (9.4.0)\n",
            "Requirement already satisfied: pyparsing>=2.3.1 in /usr/local/lib/python3.10/dist-packages (from matplotlib) (3.1.1)\n",
            "Requirement already satisfied: python-dateutil>=2.7 in /usr/local/lib/python3.10/dist-packages (from matplotlib) (2.8.2)\n",
            "Requirement already satisfied: requests in /usr/local/lib/python3.10/dist-packages (from torchvision) (2.31.0)\n",
            "Requirement already satisfied: psutil in /usr/local/lib/python3.10/dist-packages (from accelerate) (5.9.5)\n",
            "Requirement already satisfied: pyyaml in /usr/local/lib/python3.10/dist-packages (from accelerate) (6.0.1)\n",
            "Requirement already satisfied: huggingface-hub in /usr/local/lib/python3.10/dist-packages (from accelerate) (0.17.3)\n",
            "Requirement already satisfied: regex!=2019.12.17 in /usr/local/lib/python3.10/dist-packages (from transformers) (2023.6.3)\n",
            "Collecting tokenizers<0.15,>=0.14 (from transformers)\n",
            "  Downloading tokenizers-0.14.1-cp310-cp310-manylinux_2_17_x86_64.manylinux2014_x86_64.whl (3.8 MB)\n",
            "\u001b[2K     \u001b[90m━━━━━━━━━━━━━━━━━━━━━━━━━━━━━━━━━━━━━━━━\u001b[0m \u001b[32m3.8/3.8 MB\u001b[0m \u001b[31m87.5 MB/s\u001b[0m eta \u001b[36m0:00:00\u001b[0m\n",
            "\u001b[?25hCollecting safetensors>=0.3.1 (from transformers)\n",
            "  Downloading safetensors-0.4.0-cp310-cp310-manylinux_2_17_x86_64.manylinux2014_x86_64.whl (1.3 MB)\n",
            "\u001b[2K     \u001b[90m━━━━━━━━━━━━━━━━━━━━━━━━━━━━━━━━━━━━━━━━\u001b[0m \u001b[32m1.3/1.3 MB\u001b[0m \u001b[31m69.3 MB/s\u001b[0m eta \u001b[36m0:00:00\u001b[0m\n",
            "\u001b[?25hRequirement already satisfied: fsspec in /usr/local/lib/python3.10/dist-packages (from huggingface-hub->accelerate) (2023.6.0)\n",
            "Requirement already satisfied: six>=1.5 in /usr/local/lib/python3.10/dist-packages (from python-dateutil>=2.7->matplotlib) (1.16.0)\n",
            "Requirement already satisfied: MarkupSafe>=2.0 in /usr/local/lib/python3.10/dist-packages (from jinja2->torch) (2.1.3)\n",
            "Requirement already satisfied: charset-normalizer<4,>=2 in /usr/local/lib/python3.10/dist-packages (from requests->torchvision) (3.3.0)\n",
            "Requirement already satisfied: idna<4,>=2.5 in /usr/local/lib/python3.10/dist-packages (from requests->torchvision) (3.4)\n",
            "Requirement already satisfied: urllib3<3,>=1.21.1 in /usr/local/lib/python3.10/dist-packages (from requests->torchvision) (2.0.6)\n",
            "Requirement already satisfied: certifi>=2017.4.17 in /usr/local/lib/python3.10/dist-packages (from requests->torchvision) (2023.7.22)\n",
            "Requirement already satisfied: mpmath>=0.19 in /usr/local/lib/python3.10/dist-packages (from sympy->torch) (1.3.0)\n",
            "Installing collected packages: ninja, safetensors, tokenizers, transformers, accelerate\n",
            "Successfully installed accelerate-0.23.0 ninja-1.11.1 safetensors-0.4.0 tokenizers-0.14.1 transformers-4.34.0\n"
          ]
        }
      ]
    },
    {
      "cell_type": "code",
      "source": [
        "%cd SpikeGPT"
      ],
      "metadata": {
        "colab": {
          "base_uri": "https://localhost:8080/"
        },
        "id": "eQhcTu7lBW94",
        "outputId": "2a6d2edc-18d6-4e73-9716-42f1ba76d4f0"
      },
      "execution_count": 3,
      "outputs": [
        {
          "output_type": "stream",
          "name": "stdout",
          "text": [
            "/content/SpikeGPT\n"
          ]
        }
      ]
    },
    {
      "cell_type": "code",
      "source": [
        "import numpy as np\n",
        "import math, os, sys, types, time, gc\n",
        "import torch\n",
        "from src.utils import TOKENIZER\n",
        "from src.model_run import RWKV_RNN\n",
        "import matplotlib.ticker as ticker\n",
        "from torch import nn\n",
        "\n",
        "def load_embedding_weights(model_path):\n",
        "    try:\n",
        "        os.environ[\"CUDA_VISIBLE_DEVICES\"] = sys.argv[1]\n",
        "    except:\n",
        "        pass\n",
        "    torch.backends.cudnn.benchmark = True\n",
        "    torch.backends.cudnn.allow_tf32 = True\n",
        "    torch.backends.cuda.matmul.allow_tf32 = True\n",
        "    np.set_printoptions(precision=4, suppress=True, linewidth=200)\n",
        "    args = types.SimpleNamespace()\n",
        "\n",
        "    args.RUN_DEVICE = \"cpu\" # 'cuda' // 'cpu' (already fast)\n",
        "    args.FLOAT_MODE = \"fp32\" # fp16 (good for GPU, does not work for CPU) // fp32 (good for CPU) // bf16 (less accurate, but works for CPU)\n",
        "    os.environ[\"RWKV_JIT_ON\"] = '1' # '1' or '0'. very useful for GPU/CPU fp32, but might be harmful for GPU fp16. please benchmark !!!\n",
        "    vocab_size = 50277\n",
        "\n",
        "    MODEL_NAME = model_path + 'SpikeGPT-216M'\n",
        "    n_layer = 18\n",
        "    n_embd = 768\n",
        "    ctx_len = 1024\n",
        "\n",
        "    args.MODEL_NAME = MODEL_NAME\n",
        "    args.n_layer = n_layer\n",
        "    args.n_embd = n_embd\n",
        "    args.ctx_len = ctx_len\n",
        "    args.vocab_size = vocab_size\n",
        "    args.head_qk = 0\n",
        "    args.pre_ffn = 0\n",
        "    args.grad_cp = 0\n",
        "    args.my_pos_emb = 0\n",
        "    os.environ[\"RWKV_RUN_DEVICE\"] = args.RUN_DEVICE\n",
        "\n",
        "    # Load pretrained state\n",
        "    model = RWKV_RNN(args)\n",
        "\n",
        "    # Get embedding layer from the model\n",
        "    emb = nn.Embedding(num_embeddings=vocab_size, embedding_dim=n_embd)\n",
        "    # emb.weight.data = torch.rand(num_node,embedding_dim)\n",
        "    # print(emb.weight.data)\n",
        "    emb.weight.data = model.w.emb.weight.data\n",
        "\n",
        "    return emb\n",
        "\n",
        "def load_tokenizer():\n",
        "    TOKEN_MODE = \"pile\"\n",
        "    WORD_NAME = [\n",
        "        \"20B_tokenizer.json\",\n",
        "        \"20B_tokenizer.json\",\n",
        "    ]  # [vocab, vocab] for Pile model\n",
        "    UNKNOWN_CHAR = None\n",
        "\n",
        "    tokenizer = TOKENIZER(WORD_NAME, UNKNOWN_CHAR=UNKNOWN_CHAR)\n",
        "    if TOKEN_MODE == \"pile\":\n",
        "        assert tokenizer.tokenizer.decode([187]) == '\\n'\n",
        "    return tokenizer\n",
        "\n",
        "\n",
        "def transform_text_pretrained_embedding(text, emb, tokenizer):\n",
        "    if tokenizer.charMode:\n",
        "        context = tokenizer.refine_context(text)\n",
        "        ctx = [tokenizer.stoi.get(s, tokenizer.UNKNOWN_CHAR) for s in text]\n",
        "    else:\n",
        "        ctx = tokenizer.tokenizer.encode(text)\n",
        "    print(\"Number of tokens:\", len(ctx))\n",
        "\n",
        "    return emb(torch.tensor(ctx))\n",
        "\n",
        "emb = load_embedding_weights(\"/content/SpikeGPT-OpenWebText-216M/\")\n",
        "tokenizer = load_tokenizer()\n",
        "text = \"In a shocking finding, scientist discovered a herd of dragons living in a remote, previously unexplored valley, in Tibet.\"\n",
        "transform_text_pretrained_embedding(text, emb, tokenizer)"
      ],
      "metadata": {
        "colab": {
          "base_uri": "https://localhost:8080/"
        },
        "id": "iHRjo_vyG9KJ",
        "outputId": "55ff63b9-1502-4b69-e785-0730c1045740"
      },
      "execution_count": 28,
      "outputs": [
        {
          "output_type": "stream",
          "name": "stdout",
          "text": [
            "emb.weight                               float32    cpu\n",
            "blocks.0.ln1.weight                      float32    cpu\n",
            "blocks.0.ln1.bias                        float32    cpu\n",
            "blocks.0.ln2.weight                      float32    cpu\n",
            "blocks.0.ln2.bias                        float32    cpu\n",
            "blocks.0.ln0.weight                      float32    cpu\n",
            "blocks.0.ln0.bias                        float32    cpu\n",
            "blocks.0.att.time_decay                  float32    cpu\n",
            "blocks.0.att.time_first                  float32    cpu\n",
            "blocks.0.att.time_mix_k                  float32    cpu\n",
            "blocks.0.att.time_mix_v                  float32    cpu\n",
            "blocks.0.att.time_mix_r                  float32    cpu\n",
            "blocks.0.att.key.weight                  float32    cpu\n",
            "blocks.0.att.value.weight                float32    cpu\n",
            "blocks.0.att.receptance.weight           float32    cpu\n",
            "blocks.0.att.output.weight               float32    cpu\n",
            "blocks.0.ffn.time_mix_k                  float32    cpu\n",
            "blocks.0.ffn.time_mix_r                  float32    cpu\n",
            "blocks.0.ffn.key.weight                  float32    cpu\n",
            "blocks.0.ffn.receptance.weight           float32    cpu\n",
            "blocks.0.ffn.value.weight                float32    cpu\n",
            "..................................................................................................................................................................................................................................................................................................................\n",
            "ln_out.weight                            float32    cpu\n",
            "ln_out.bias                              float32    cpu\n",
            "head.weight                              float32    cpu\n",
            "Number of tokens: 24\n"
          ]
        },
        {
          "output_type": "execute_result",
          "data": {
            "text/plain": [
              "tensor([[ 0.2670, -0.0613,  0.2563,  ..., -0.0652,  0.0423,  0.0334],\n",
              "        [ 0.0528, -0.0115,  0.2056,  ..., -0.2686,  0.0228,  0.0199],\n",
              "        [ 0.1391,  0.0236,  0.1507,  ..., -0.0139,  0.1105,  0.3136],\n",
              "        ...,\n",
              "        [ 0.0697, -0.0099,  0.4996,  ..., -0.1872, -0.1179,  0.0978],\n",
              "        [ 0.0641, -0.0057, -0.0210,  ..., -0.0274,  0.0193,  0.0831],\n",
              "        [ 0.1805, -0.0024, -0.0600,  ...,  0.3261,  0.0504, -0.1003]],\n",
              "       grad_fn=<EmbeddingBackward0>)"
            ]
          },
          "metadata": {},
          "execution_count": 28
        }
      ]
    }
  ]
}