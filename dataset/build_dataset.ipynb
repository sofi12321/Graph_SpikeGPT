{
  "nbformat": 4,
  "nbformat_minor": 0,
  "metadata": {
    "colab": {
      "provenance": []
    },
    "kernelspec": {
      "name": "python3",
      "display_name": "Python 3"
    },
    "language_info": {
      "name": "python"
    }
  },
  "cells": [
    {
      "cell_type": "markdown",
      "source": [
        "## Embedding preparing"
      ],
      "metadata": {
        "id": "sD5nQk1XIMZL"
      }
    },
    {
      "cell_type": "code",
      "source": [
        "# !git clone https://huggingface.co/ridger/SpikeGPT-OpenWebText-216M\n",
        "# !git clone https://github.com/ridgerchu/SpikeGPT.git\n",
        "# !pip install torch matplotlib numpy tqdm torchvision scipy ninja accelerate transformers\n"
      ],
      "metadata": {
        "colab": {
          "base_uri": "https://localhost:8080/"
        },
        "id": "9ZiRWzzFISEF",
        "outputId": "541013ff-3839-49da-994f-d0984d84632a"
      },
      "execution_count": 2,
      "outputs": [
        {
          "output_type": "stream",
          "name": "stdout",
          "text": [
            "/content/SpikeGPT\n"
          ]
        }
      ]
    },
    {
      "cell_type": "code",
      "source": [
        "%cd SpikeGPT\n",
        "import matplotlib.ticker as ticker\n",
        "import numpy as np\n",
        "import math, os, sys, types, time, gc\n",
        "import torch\n",
        "from torch import nn\n",
        "\n",
        "def prepare_env():\n",
        "    try:\n",
        "        os.environ[\"CUDA_VISIBLE_DEVICES\"] = sys.argv[1]\n",
        "    except:\n",
        "        pass\n",
        "    torch.backends.cudnn.benchmark = True\n",
        "    torch.backends.cudnn.allow_tf32 = True\n",
        "    torch.backends.cuda.matmul.allow_tf32 = True\n",
        "    np.set_printoptions(precision=4, suppress=True, linewidth=200)\n",
        "    args = types.SimpleNamespace()\n",
        "\n",
        "    args.RUN_DEVICE = \"cpu\" # 'cuda' // 'cpu' (already fast)\n",
        "    args.FLOAT_MODE = \"fp32\" # fp16 (good for GPU, does not work for CPU) // fp32 (good for CPU) // bf16 (less accurate, but works for CPU)\n",
        "    os.environ[\"RWKV_JIT_ON\"] = '1' # '1' or '0'. very useful for GPU/CPU fp32, but might be harmful for GPU fp16. please benchmark !!!\n",
        "    vocab_size = 50277\n",
        "\n",
        "    # MODEL_NAME = model_path + 'SpikeGPT-216M'\n",
        "    n_layer = 18\n",
        "    n_embd = 768\n",
        "    ctx_len = 1024\n",
        "\n",
        "    # args.MODEL_NAME = MODEL_NAME\n",
        "    args.n_layer = n_layer\n",
        "    args.n_embd = n_embd\n",
        "    args.ctx_len = ctx_len\n",
        "    args.vocab_size = vocab_size\n",
        "    args.head_qk = 0\n",
        "    args.pre_ffn = 0\n",
        "    args.grad_cp = 0\n",
        "    args.my_pos_emb = 0\n",
        "    os.environ[\"RWKV_RUN_DEVICE\"] = args.RUN_DEVICE\n",
        "    return args"
      ],
      "metadata": {
        "id": "0N05Yu3IL0MB"
      },
      "execution_count": 10,
      "outputs": []
    },
    {
      "cell_type": "code",
      "source": [
        "args = prepare_env()\n",
        "\n",
        "from src.utils import TOKENIZER\n",
        "from src.model_run import RWKV_RNN\n",
        "\n",
        "def load_embedding_weights(model_path, args):\n",
        "\n",
        "    MODEL_NAME = model_path + 'SpikeGPT-216M'\n",
        "    args.MODEL_NAME = MODEL_NAME\n",
        "\n",
        "    # Load pretrained state\n",
        "    model = RWKV_RNN(args)\n",
        "\n",
        "    # Get embedding layer from the model\n",
        "    emb = nn.Embedding(num_embeddings=args.vocab_size, embedding_dim=args.n_embd)\n",
        "    # emb.weight.data = torch.rand(num_node,embedding_dim)\n",
        "    # print(emb.weight.data)\n",
        "    emb.weight.data = model.w.emb.weight.data\n",
        "\n",
        "    return emb\n",
        "\n",
        "def load_tokenizer():\n",
        "    TOKEN_MODE = \"pile\"\n",
        "    WORD_NAME = [\n",
        "        \"20B_tokenizer.json\",\n",
        "        \"20B_tokenizer.json\",\n",
        "    ]  # [vocab, vocab] for Pile model\n",
        "    UNKNOWN_CHAR = None\n",
        "\n",
        "    tokenizer = TOKENIZER(WORD_NAME, UNKNOWN_CHAR=UNKNOWN_CHAR)\n",
        "    if TOKEN_MODE == \"pile\":\n",
        "        assert tokenizer.tokenizer.decode([187]) == '\\n'\n",
        "    return tokenizer\n",
        "\n",
        "\n",
        "def transform_text_pretrained_embedding(text, emb, tokenizer):\n",
        "    if tokenizer.charMode:\n",
        "        context = tokenizer.refine_context(text)\n",
        "        ctx = [tokenizer.stoi.get(s, tokenizer.UNKNOWN_CHAR) for s in text]\n",
        "    else:\n",
        "        ctx = tokenizer.tokenizer.encode(text)\n",
        "    # print(\"Number of tokens:\", len(ctx))\n",
        "\n",
        "    return emb(torch.tensor(ctx))\n",
        "\n",
        "\n",
        "emb = load_embedding_weights(\"/content/SpikeGPT-OpenWebText-216M/\", args)\n",
        "tokenizer = load_tokenizer()\n",
        "%cd ..\n",
        "text = \"In a shocking finding, scientist discovered a herd of dragons living in a remote, previously unexplored valley, in Tibet.\"\n",
        "result = transform_text_pretrained_embedding(text, emb, tokenizer)\n",
        "result"
      ],
      "metadata": {
        "colab": {
          "base_uri": "https://localhost:8080/"
        },
        "id": "vvbrKHhyIPwj",
        "outputId": "2742b3be-2dc9-46a2-ffea-69995b5d0a46"
      },
      "execution_count": 36,
      "outputs": [
        {
          "output_type": "stream",
          "name": "stdout",
          "text": [
            "/\n"
          ]
        },
        {
          "output_type": "execute_result",
          "data": {
            "text/plain": [
              "tensor([[ 0.2670, -0.0613,  0.2563,  ..., -0.0652,  0.0423,  0.0334],\n",
              "        [ 0.0528, -0.0115,  0.2056,  ..., -0.2686,  0.0228,  0.0199],\n",
              "        [ 0.1391,  0.0236,  0.1507,  ..., -0.0139,  0.1105,  0.3136],\n",
              "        ...,\n",
              "        [ 0.0697, -0.0099,  0.4996,  ..., -0.1872, -0.1179,  0.0978],\n",
              "        [ 0.0641, -0.0057, -0.0210,  ..., -0.0274,  0.0193,  0.0831],\n",
              "        [ 0.1805, -0.0024, -0.0600,  ...,  0.3261,  0.0504, -0.1003]],\n",
              "       grad_fn=<EmbeddingBackward0>)"
            ]
          },
          "metadata": {},
          "execution_count": 36
        }
      ]
    },
    {
      "cell_type": "code",
      "source": [
        "result = transform_text_pretrained_embedding(text, emb, tokenizer)"
      ],
      "metadata": {
        "colab": {
          "base_uri": "https://localhost:8080/"
        },
        "id": "dx1FzEl8MEch",
        "outputId": "5496c4bc-c474-4c4c-db6c-2f748e2b47b3"
      },
      "execution_count": 14,
      "outputs": [
        {
          "output_type": "stream",
          "name": "stdout",
          "text": [
            "Number of tokens: 24\n"
          ]
        }
      ]
    },
    {
      "cell_type": "code",
      "source": [
        "text = \"Hello\"\n",
        "r1 = transform_text_pretrained_embedding(text, emb, tokenizer)\n",
        "r2 = transform_text_pretrained_embedding(text.lower(), emb, tokenizer)\n",
        "r1==r2"
      ],
      "metadata": {
        "id": "HzB0EbYBMcpu"
      },
      "execution_count": null,
      "outputs": []
    },
    {
      "cell_type": "markdown",
      "source": [
        "# Graph creation"
      ],
      "metadata": {
        "id": "Yg-ONWh2IJVd"
      }
    },
    {
      "cell_type": "code",
      "source": [
        "# !pip install gdown\n",
        "# !pip install torch_geometric"
      ],
      "metadata": {
        "colab": {
          "base_uri": "https://localhost:8080/"
        },
        "id": "zm5zvB4X07E1",
        "outputId": "4acc8420-cd1f-4943-f471-2c7083819fb5"
      },
      "execution_count": 15,
      "outputs": [
        {
          "output_type": "stream",
          "name": "stdout",
          "text": [
            "Collecting torch_geometric\n",
            "  Downloading torch_geometric-2.4.0-py3-none-any.whl (1.0 MB)\n",
            "\u001b[?25l     \u001b[90m━━━━━━━━━━━━━━━━━━━━━━━━━━━━━━━━━━━━━━━━\u001b[0m \u001b[32m0.0/1.0 MB\u001b[0m \u001b[31m?\u001b[0m eta \u001b[36m-:--:--\u001b[0m\r\u001b[2K     \u001b[91m━━━━━\u001b[0m\u001b[91m╸\u001b[0m\u001b[90m━━━━━━━━━━━━━━━━━━━━━━━━━━━━━━━━━━\u001b[0m \u001b[32m0.2/1.0 MB\u001b[0m \u001b[31m4.5 MB/s\u001b[0m eta \u001b[36m0:00:01\u001b[0m\r\u001b[2K     \u001b[91m━━━━━━━━━━━━━━━━━━━━━\u001b[0m\u001b[91m╸\u001b[0m\u001b[90m━━━━━━━━━━━━━━━━━━\u001b[0m \u001b[32m0.6/1.0 MB\u001b[0m \u001b[31m8.1 MB/s\u001b[0m eta \u001b[36m0:00:01\u001b[0m\r\u001b[2K     \u001b[91m━━━━━━━━━━━━━━━━━━━━━━━━━━━━━━━━━━━━━━━\u001b[0m\u001b[91m╸\u001b[0m \u001b[32m1.0/1.0 MB\u001b[0m \u001b[31m9.7 MB/s\u001b[0m eta \u001b[36m0:00:01\u001b[0m\r\u001b[2K     \u001b[90m━━━━━━━━━━━━━━━━━━━━━━━━━━━━━━━━━━━━━━━━\u001b[0m \u001b[32m1.0/1.0 MB\u001b[0m \u001b[31m8.6 MB/s\u001b[0m eta \u001b[36m0:00:00\u001b[0m\n",
            "\u001b[?25hRequirement already satisfied: tqdm in /usr/local/lib/python3.10/dist-packages (from torch_geometric) (4.66.1)\n",
            "Requirement already satisfied: numpy in /usr/local/lib/python3.10/dist-packages (from torch_geometric) (1.23.5)\n",
            "Requirement already satisfied: scipy in /usr/local/lib/python3.10/dist-packages (from torch_geometric) (1.11.3)\n",
            "Requirement already satisfied: jinja2 in /usr/local/lib/python3.10/dist-packages (from torch_geometric) (3.1.2)\n",
            "Requirement already satisfied: requests in /usr/local/lib/python3.10/dist-packages (from torch_geometric) (2.31.0)\n",
            "Requirement already satisfied: pyparsing in /usr/local/lib/python3.10/dist-packages (from torch_geometric) (3.1.1)\n",
            "Requirement already satisfied: scikit-learn in /usr/local/lib/python3.10/dist-packages (from torch_geometric) (1.2.2)\n",
            "Requirement already satisfied: psutil>=5.8.0 in /usr/local/lib/python3.10/dist-packages (from torch_geometric) (5.9.5)\n",
            "Requirement already satisfied: MarkupSafe>=2.0 in /usr/local/lib/python3.10/dist-packages (from jinja2->torch_geometric) (2.1.3)\n",
            "Requirement already satisfied: charset-normalizer<4,>=2 in /usr/local/lib/python3.10/dist-packages (from requests->torch_geometric) (3.3.1)\n",
            "Requirement already satisfied: idna<4,>=2.5 in /usr/local/lib/python3.10/dist-packages (from requests->torch_geometric) (3.4)\n",
            "Requirement already satisfied: urllib3<3,>=1.21.1 in /usr/local/lib/python3.10/dist-packages (from requests->torch_geometric) (2.0.7)\n",
            "Requirement already satisfied: certifi>=2017.4.17 in /usr/local/lib/python3.10/dist-packages (from requests->torch_geometric) (2023.7.22)\n",
            "Requirement already satisfied: joblib>=1.1.1 in /usr/local/lib/python3.10/dist-packages (from scikit-learn->torch_geometric) (1.3.2)\n",
            "Requirement already satisfied: threadpoolctl>=2.0.0 in /usr/local/lib/python3.10/dist-packages (from scikit-learn->torch_geometric) (3.2.0)\n",
            "Installing collected packages: torch_geometric\n",
            "Successfully installed torch_geometric-2.4.0\n"
          ]
        }
      ]
    },
    {
      "cell_type": "code",
      "execution_count": 27,
      "metadata": {
        "colab": {
          "base_uri": "https://localhost:8080/"
        },
        "id": "JdbklB0iuA3x",
        "outputId": "409a0eef-b56f-4d38-edf3-7853066449f1"
      },
      "outputs": [
        {
          "output_type": "execute_result",
          "data": {
            "text/plain": [
              "['./webnlg/test.json',\n",
              " './webnlg/test.source',\n",
              " './webnlg/test.target',\n",
              " './webnlg/train.json',\n",
              " './webnlg/val.json']"
            ]
          },
          "metadata": {},
          "execution_count": 27
        }
      ],
      "source": [
        "import gdown\n",
        "\n",
        "url = \"https://drive.google.com/drive/folders/1Jx3Cz7t0hiNdtlBWUdPjhtLwPOH3LtzC\"\n",
        "output = './'\n",
        "\n",
        "gdown.download_folder(url, output = output, quiet = True)"
      ]
    },
    {
      "cell_type": "code",
      "source": [
        "import json\n",
        "file_dir = \"./webnlg/\"\n",
        "\n",
        "with open (file_dir + \"train.json\", \"r\") as f:\n",
        "    train_set = json.load(f)\n",
        "\n",
        "\n",
        "with open (file_dir + \"val.json\", \"r\") as f:\n",
        "    val_set = json.load(f)\n",
        "\n",
        "\n",
        "with open (file_dir + \"test.json\", \"r\") as f:\n",
        "    test_set = json.load(f)\n",
        "\n",
        "test_set[2]['kbs']"
      ],
      "metadata": {
        "colab": {
          "base_uri": "https://localhost:8080/"
        },
        "id": "-5-GuAKz88NH",
        "outputId": "5223c4c0-a1b4-4683-96dd-38ec03f0580a"
      },
      "execution_count": 30,
      "outputs": [
        {
          "output_type": "execute_result",
          "data": {
            "text/plain": [
              "{'W1016': ['California',\n",
              "  'California',\n",
              "  [['is part of', 'Anaheim, California']]],\n",
              " 'W1277': ['United States',\n",
              "  'United States',\n",
              "  [['location', 'United States House of Representatives']]],\n",
              " 'W3706': ['United States House of Representatives',\n",
              "  'United States House of Representatives',\n",
              "  [['leader title', 'Anaheim, California']]]}"
            ]
          },
          "metadata": {},
          "execution_count": 30
        }
      ]
    },
    {
      "cell_type": "code",
      "source": [
        "def get_triplets(dataset_element):\n",
        "    triplets = []\n",
        "    for key, value in dataset_element['kbs'].items():\n",
        "        triplets.append([value[0]]+value[-1][0])\n",
        "        # !!! value[-1] могут быть и др значения?\n",
        "        # if len(value[-1]) > 1:\n",
        "        #     print(value)\n",
        "    return triplets\n",
        "\n",
        "get_triplets(test_set[2])"
      ],
      "metadata": {
        "colab": {
          "base_uri": "https://localhost:8080/"
        },
        "id": "RteVK-C3-bdW",
        "outputId": "fc5764b9-4a02-45ad-b1f0-f9809901ef5d"
      },
      "execution_count": 55,
      "outputs": [
        {
          "output_type": "execute_result",
          "data": {
            "text/plain": [
              "[['California', 'is part of', 'Anaheim, California'],\n",
              " ['United States', 'location', 'United States House of Representatives'],\n",
              " ['United States House of Representatives',\n",
              "  'leader title',\n",
              "  'Anaheim, California']]"
            ]
          },
          "metadata": {},
          "execution_count": 55
        }
      ]
    },
    {
      "cell_type": "markdown",
      "source": [
        "Albany , Georgia is in the United States , a country led by the President of the United States and where the inhabitants are called Americans . One of the ethnic groups in the country are the African Americans"
      ],
      "metadata": {
        "id": "GUGt-YUFCUQz"
      }
    },
    {
      "cell_type": "code",
      "source": [
        "test_set[27]"
      ],
      "metadata": {
        "colab": {
          "base_uri": "https://localhost:8080/"
        },
        "id": "Xs94YRDMBzUN",
        "outputId": "adb47d54-ab41-4532-d62a-630995744402"
      },
      "execution_count": 32,
      "outputs": [
        {
          "output_type": "execute_result",
          "data": {
            "text/plain": [
              "{'id': 1457,\n",
              " 'kbs': {'W2849': ['President of the United States',\n",
              "   'President of the United States',\n",
              "   [['leader title', 'United States']]],\n",
              "  'W915': ['Americans', 'Americans', [['demonym', 'United States']]],\n",
              "  'W1277': ['United States',\n",
              "   'United States',\n",
              "   [['country', 'Albany, Georgia'], ['is part of', 'Albany, Georgia']]],\n",
              "  'W1639': ['African Americans',\n",
              "   'African Americans',\n",
              "   [['ethnic group', 'United States']]]},\n",
              " 'text': ['Albany , Georgia is in the United States , a country led by the President of the United States and where the inhabitants are called Americans . One of the ethnic groups in the country are the African Americans .',\n",
              "  'The leader of the United States , which includes the ethnic group of African Americans among its population of Americans , is the President . The country is the location of Albany in Georgia .',\n",
              "  'Americans live in the United States where the leader if known as the President . The country includes the ethnic group of African Americans and is the location of Albany , Georgia .']}"
            ]
          },
          "metadata": {},
          "execution_count": 32
        }
      ]
    },
    {
      "cell_type": "code",
      "source": [
        "import numpy as np\n",
        "import torch\n",
        "from torch_geometric.data import Data\n",
        "\n",
        "def replace_embedding(nodes_list):\n",
        "    result = []\n",
        "    for el in nodes_list:\n",
        "        result.append([transform_text_pretrained_embedding(text, emb, tokenizer)])\n",
        "    return result\n",
        "\n",
        "def create_graph(triplets, text):\n",
        "    x = []\n",
        "    edge_index = []\n",
        "    edge_attr = []\n",
        "    y = replace_embedding([text])[0]\n",
        "\n",
        "    for t in triplets:\n",
        "\n",
        "        # Create nodes\n",
        "        if t[0] not in x:\n",
        "            x.append(t[0])\n",
        "        if t[1] not in x:\n",
        "            x.append(t[2])\n",
        "\n",
        "        # Add edge\n",
        "        edge_index.append([x.index(t[0]), x.index(t[2])])\n",
        "\n",
        "        # Add edge attribute\n",
        "        edge_attr.append(replace_embedding([t[1]])[0])\n",
        "\n",
        "    x = replace_embedding(x)\n",
        "    edge_index = np.array(edge_index).T\n",
        "\n",
        "    # x = torch.tensor(x, dtype=torch.float)\n",
        "    # edge_index = torch.tensor(edge_index, dtype=torch.long)\n",
        "    # edge_attr=torch.tensor(edge_attr, dtype=torch.float)\n",
        "    # y=torch.tensor(y, dtype=torch.float)\n",
        "\n",
        "    data = Data(x=x, edge_index=edge_index, edge_attr=edge_attr, y=y)\n",
        "    return data\n",
        "\n",
        "data = create_graph(get_triplets(test_set[0]), test_set[0]['text'][0])"
      ],
      "metadata": {
        "id": "-j9EkTElDq4V"
      },
      "execution_count": 51,
      "outputs": []
    },
    {
      "cell_type": "code",
      "source": [
        "import torch\n",
        "from torch_geometric.data import InMemoryDataset, download_url\n",
        "\n",
        "\n",
        "class MyOwnDataset(InMemoryDataset):\n",
        "    def __init__(self, root, file_path, transform=None, pre_transform=None, pre_filter=None):\n",
        "        self.file_path = file_path\n",
        "        super().__init__(root, transform, pre_transform, pre_filter)\n",
        "        self.load(self.processed_paths[0])\n",
        "        # For PyG<2.4:\n",
        "        # self.data, self.slices = torch.load(self.processed_paths[0])\n",
        "\n",
        "    @property\n",
        "    def raw_file_names(self):\n",
        "        return [self.file_path]\n",
        "\n",
        "    @property\n",
        "    def processed_file_names(self):\n",
        "        return [\".\".join(self.file_path.split(\".\")[:-1])+\".pt\"]\n",
        "\n",
        "    def download(self):\n",
        "        # Download to `self.raw_dir`.\n",
        "        with open (self.raw_file_names[0], \"r\") as f:\n",
        "            return json.load(f)\n",
        "\n",
        "    def process(self):\n",
        "        # Read data into huge `Data` list.\n",
        "        data_list = []\n",
        "        data  = self.download()\n",
        "        for datapoint in data:\n",
        "            data_list.append(create_graph(get_triplets(datapoint), datapoint['text'][0]))\n",
        "\n",
        "        if self.pre_filter is not None:\n",
        "            data_list = [data for data in data_list if self.pre_filter(data)]\n",
        "\n",
        "        if self.pre_transform is not None:\n",
        "            data_list = [self.pre_transform(data) for data in data_list]\n",
        "\n",
        "        self.save(data_list, self.processed_paths[0])\n",
        "        # For PyG<2.4:\n",
        "        # torch.save(self.collate(data_list), self.processed_paths[0])"
      ],
      "metadata": {
        "id": "pomhrp18UGiw"
      },
      "execution_count": 62,
      "outputs": []
    },
    {
      "cell_type": "code",
      "source": [
        "dataset = MyOwnDataset(\".\", \"/content/webnlg/test.json\")"
      ],
      "metadata": {
        "colab": {
          "base_uri": "https://localhost:8080/"
        },
        "id": "Ukq0fk-hV2AP",
        "outputId": "bfaebe14-e1c5-43e3-c5b3-63237971afcd"
      },
      "execution_count": 63,
      "outputs": [
        {
          "output_type": "stream",
          "name": "stderr",
          "text": [
            "Processing...\n",
            "Done!\n"
          ]
        }
      ]
    }
  ]
}