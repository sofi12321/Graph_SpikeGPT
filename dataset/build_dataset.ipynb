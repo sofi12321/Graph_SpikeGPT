{
  "cells": [
    {
      "cell_type": "markdown",
      "metadata": {
        "id": "sD5nQk1XIMZL"
      },
      "source": [
        "## Embedding preparing"
      ]
    },
    {
      "cell_type": "code",
      "execution_count": 4,
      "metadata": {
        "id": "9ZiRWzzFISEF",
        "colab": {
          "base_uri": "https://localhost:8080/"
        },
        "outputId": "1163b120-e980-4747-eb6d-90c078bc36b9"
      },
      "outputs": [
        {
          "output_type": "stream",
          "name": "stdout",
          "text": [
            "Cloning into 'SpikeGPT'...\n",
            "remote: Enumerating objects: 267, done.\u001b[K\n",
            "remote: Counting objects: 100% (79/79), done.\u001b[K\n",
            "remote: Compressing objects: 100% (72/72), done.\u001b[K\n",
            "remote: Total 267 (delta 47), reused 15 (delta 7), pack-reused 188\u001b[K\n",
            "Receiving objects: 100% (267/267), 1.28 MiB | 10.83 MiB/s, done.\n",
            "Resolving deltas: 100% (104/104), done.\n"
          ]
        }
      ],
      "source": [
        "# !git clone https://huggingface.co/ridger/SpikeGPT-OpenWebText-216M\n",
        "# !git clone https://github.com/ridgerchu/SpikeGPT.git\n",
        "# !pip install torch matplotlib numpy tqdm torchvision scipy ninja accelerate transformers\n"
      ]
    },
    {
      "cell_type": "code",
      "execution_count": 5,
      "metadata": {
        "id": "0N05Yu3IL0MB",
        "colab": {
          "base_uri": "https://localhost:8080/"
        },
        "outputId": "274ad5bf-3ba7-4104-93b7-2c8b30ebd48a"
      },
      "outputs": [
        {
          "output_type": "stream",
          "name": "stdout",
          "text": [
            "/content/SpikeGPT\n"
          ]
        }
      ],
      "source": [
        "%cd SpikeGPT\n",
        "import matplotlib.ticker as ticker\n",
        "import numpy as np\n",
        "import math, os, sys, types, time, gc\n",
        "import torch\n",
        "from torch import nn\n",
        "\n",
        "def prepare_env():\n",
        "    try:\n",
        "        os.environ[\"CUDA_VISIBLE_DEVICES\"] = sys.argv[1]\n",
        "    except:\n",
        "        pass\n",
        "    torch.backends.cudnn.benchmark = True\n",
        "    torch.backends.cudnn.allow_tf32 = True\n",
        "    torch.backends.cuda.matmul.allow_tf32 = True\n",
        "    np.set_printoptions(precision=4, suppress=True, linewidth=200)\n",
        "    args = types.SimpleNamespace()\n",
        "\n",
        "    args.RUN_DEVICE = \"cpu\" # 'cuda' // 'cpu' (already fast)\n",
        "    args.FLOAT_MODE = \"fp32\" # fp16 (good for GPU, does not work for CPU) // fp32 (good for CPU) // bf16 (less accurate, but works for CPU)\n",
        "    os.environ[\"RWKV_JIT_ON\"] = '1' # '1' or '0'. very useful for GPU/CPU fp32, but might be harmful for GPU fp16. please benchmark !!!\n",
        "    vocab_size = 50277\n",
        "\n",
        "    # MODEL_NAME = model_path + 'SpikeGPT-216M'\n",
        "    n_layer = 18\n",
        "    n_embd = 768\n",
        "    ctx_len = 1024\n",
        "\n",
        "    # args.MODEL_NAME = MODEL_NAME\n",
        "    args.n_layer = n_layer\n",
        "    args.n_embd = n_embd\n",
        "    args.ctx_len = ctx_len\n",
        "    args.vocab_size = vocab_size\n",
        "    args.head_qk = 0\n",
        "    args.pre_ffn = 0\n",
        "    args.grad_cp = 0\n",
        "    args.my_pos_emb = 0\n",
        "    os.environ[\"RWKV_RUN_DEVICE\"] = args.RUN_DEVICE\n",
        "    return args"
      ]
    },
    {
      "cell_type": "code",
      "execution_count": 6,
      "metadata": {
        "colab": {
          "base_uri": "https://localhost:8080/"
        },
        "id": "vvbrKHhyIPwj",
        "outputId": "911e3f4d-b1a9-45d2-cc46-4d4cef2f3e75"
      },
      "outputs": [
        {
          "output_type": "stream",
          "name": "stdout",
          "text": [
            "\n",
            "RWKV_HEAD_QK_DIM 0 RWKV_JIT_ON 1\n",
            "\n",
            "emb.weight                               float32    cpu\n",
            "blocks.0.ln1.weight                      float32    cpu\n",
            "blocks.0.ln1.bias                        float32    cpu\n",
            "blocks.0.ln2.weight                      float32    cpu\n",
            "blocks.0.ln2.bias                        float32    cpu\n",
            "blocks.0.ln0.weight                      float32    cpu\n",
            "blocks.0.ln0.bias                        float32    cpu\n",
            "blocks.0.att.time_decay                  float32    cpu\n",
            "blocks.0.att.time_first                  float32    cpu\n",
            "blocks.0.att.time_mix_k                  float32    cpu\n",
            "blocks.0.att.time_mix_v                  float32    cpu\n",
            "blocks.0.att.time_mix_r                  float32    cpu\n",
            "blocks.0.att.key.weight                  float32    cpu\n",
            "blocks.0.att.value.weight                float32    cpu\n",
            "blocks.0.att.receptance.weight           float32    cpu\n",
            "blocks.0.att.output.weight               float32    cpu\n",
            "blocks.0.ffn.time_mix_k                  float32    cpu\n",
            "blocks.0.ffn.time_mix_r                  float32    cpu\n",
            "blocks.0.ffn.key.weight                  float32    cpu\n",
            "blocks.0.ffn.receptance.weight           float32    cpu\n",
            "blocks.0.ffn.value.weight                float32    cpu\n",
            "..................................................................................................................................................................................................................................................................................................................\n",
            "ln_out.weight                            float32    cpu\n",
            "ln_out.bias                              float32    cpu\n",
            "head.weight                              float32    cpu\n",
            "/content\n"
          ]
        },
        {
          "output_type": "execute_result",
          "data": {
            "text/plain": [
              "tensor([[ 0.2670, -0.0613,  0.2563,  ..., -0.0652,  0.0423,  0.0334],\n",
              "        [ 0.0528, -0.0115,  0.2056,  ..., -0.2686,  0.0228,  0.0199],\n",
              "        [ 0.1391,  0.0236,  0.1507,  ..., -0.0139,  0.1105,  0.3136],\n",
              "        ...,\n",
              "        [ 0.0697, -0.0099,  0.4996,  ..., -0.1872, -0.1179,  0.0978],\n",
              "        [ 0.0641, -0.0057, -0.0210,  ..., -0.0274,  0.0193,  0.0831],\n",
              "        [ 0.1805, -0.0024, -0.0600,  ...,  0.3261,  0.0504, -0.1003]],\n",
              "       grad_fn=<EmbeddingBackward0>)"
            ]
          },
          "metadata": {},
          "execution_count": 6
        }
      ],
      "source": [
        "args = prepare_env()\n",
        "\n",
        "from src.utils import TOKENIZER\n",
        "from src.model_run import RWKV_RNN\n",
        "\n",
        "def load_embedding_weights(model_path, args):\n",
        "\n",
        "    MODEL_NAME = model_path + 'SpikeGPT-216M'\n",
        "    args.MODEL_NAME = MODEL_NAME\n",
        "\n",
        "    # Load pretrained state\n",
        "    model = RWKV_RNN(args)\n",
        "\n",
        "    # Get embedding layer from the model\n",
        "    emb = nn.Embedding(num_embeddings=args.vocab_size, embedding_dim=args.n_embd)\n",
        "    # emb.weight.data = torch.rand(num_node,embedding_dim)\n",
        "    # print(emb.weight.data)\n",
        "    emb.weight.data = model.w.emb.weight.data\n",
        "\n",
        "    return emb\n",
        "\n",
        "def load_tokenizer():\n",
        "    TOKEN_MODE = \"pile\"\n",
        "    WORD_NAME = [\n",
        "        \"20B_tokenizer.json\",\n",
        "        \"20B_tokenizer.json\",\n",
        "    ]  # [vocab, vocab] for Pile model\n",
        "    UNKNOWN_CHAR = None\n",
        "\n",
        "    tokenizer = TOKENIZER(WORD_NAME, UNKNOWN_CHAR=UNKNOWN_CHAR)\n",
        "    if TOKEN_MODE == \"pile\":\n",
        "        assert tokenizer.tokenizer.decode([187]) == '\\n'\n",
        "    return tokenizer\n",
        "\n",
        "\n",
        "def transform_text_pretrained_embedding(text, emb, tokenizer):\n",
        "    if tokenizer.charMode:\n",
        "        context = tokenizer.refine_context(text)\n",
        "        ctx = [tokenizer.stoi.get(s, tokenizer.UNKNOWN_CHAR) for s in text]\n",
        "    else:\n",
        "        ctx = tokenizer.tokenizer.encode(text)\n",
        "    # print(\"Number of tokens:\", len(ctx))\n",
        "\n",
        "    return emb(torch.tensor(ctx))\n",
        "\n",
        "\n",
        "emb = load_embedding_weights(\"/content/SpikeGPT-OpenWebText-216M/\", args)\n",
        "tokenizer = load_tokenizer()\n",
        "%cd .."
      ]
    },
    {
      "cell_type": "code",
      "source": [
        "text = \"In a shocking finding, scientist discovered a herd of dragons living in a remote, previously unexplored valley, in Tibet.\"\n",
        "len(tokenizer.tokenizer.encode(text))"
      ],
      "metadata": {
        "colab": {
          "base_uri": "https://localhost:8080/"
        },
        "id": "ZXREOSqOXVtM",
        "outputId": "211df55d-ebf0-472e-e6d3-6ff316b1083a"
      },
      "execution_count": 30,
      "outputs": [
        {
          "output_type": "execute_result",
          "data": {
            "text/plain": [
              "24"
            ]
          },
          "metadata": {},
          "execution_count": 30
        }
      ]
    },
    {
      "cell_type": "code",
      "execution_count": 29,
      "metadata": {
        "id": "dx1FzEl8MEch",
        "colab": {
          "base_uri": "https://localhost:8080/"
        },
        "outputId": "d307831f-c954-4415-de31-b86ed244e2f0"
      },
      "outputs": [
        {
          "output_type": "execute_result",
          "data": {
            "text/plain": [
              "torch.Size([24, 768])"
            ]
          },
          "metadata": {},
          "execution_count": 29
        }
      ],
      "source": [
        "text = \"In a shocking finding, scientist discovered a herd of dragons living in a remote, previously unexplored valley, in Tibet.\"\n",
        "result = transform_text_pretrained_embedding(text, emb, tokenizer)\n",
        "result.shape"
      ]
    },
    {
      "cell_type": "code",
      "execution_count": 14,
      "metadata": {
        "id": "HzB0EbYBMcpu",
        "colab": {
          "base_uri": "https://localhost:8080/"
        },
        "outputId": "0b941980-b6ba-49a8-e527-6118916885d4"
      },
      "outputs": [
        {
          "output_type": "execute_result",
          "data": {
            "text/plain": [
              "tensor([[False, False, False, False, False, False, False, False, False, False,\n",
              "         False, False, False, False, False, False, False, False, False, False,\n",
              "         False, False, False, False, False, False, False, False, False, False,\n",
              "         False, False, False, False, False, False, False, False, False, False,\n",
              "         False, False, False, False, False, False, False, False, False, False,\n",
              "         False, False, False, False, False, False, False, False, False, False,\n",
              "         False, False, False, False, False, False, False, False, False, False,\n",
              "         False, False, False, False, False, False, False, False, False, False,\n",
              "         False, False, False, False, False, False, False, False, False, False,\n",
              "         False, False, False, False, False, False, False, False, False, False,\n",
              "         False, False, False, False, False, False, False, False, False, False,\n",
              "         False, False, False, False, False, False, False, False, False, False,\n",
              "         False, False, False, False, False, False, False, False, False, False,\n",
              "         False, False, False, False, False, False, False, False, False, False,\n",
              "         False, False, False, False, False, False, False, False, False, False,\n",
              "         False, False, False, False, False, False, False, False, False, False,\n",
              "         False, False, False, False, False, False, False, False, False, False,\n",
              "         False, False, False, False, False, False, False, False, False, False,\n",
              "         False, False, False, False, False, False, False, False, False, False,\n",
              "         False, False, False, False, False, False, False, False, False, False,\n",
              "         False, False, False, False, False, False, False, False, False, False,\n",
              "         False, False, False, False, False, False, False, False, False, False,\n",
              "         False, False, False, False, False, False, False, False, False, False,\n",
              "         False, False, False, False, False, False, False, False, False, False,\n",
              "         False, False, False, False, False, False, False, False, False, False,\n",
              "         False, False, False, False, False, False, False, False, False, False,\n",
              "         False, False, False, False, False, False, False, False, False, False,\n",
              "         False, False, False, False, False, False, False, False, False, False,\n",
              "         False, False, False, False, False, False, False, False, False, False,\n",
              "         False, False, False, False, False, False, False, False, False, False,\n",
              "         False, False, False, False, False, False, False, False, False, False,\n",
              "         False, False, False, False, False, False, False, False, False, False,\n",
              "         False, False, False, False, False, False, False, False, False, False,\n",
              "         False, False, False, False, False, False, False, False, False, False,\n",
              "         False, False, False, False, False, False, False, False, False, False,\n",
              "         False, False, False, False, False, False, False, False, False, False,\n",
              "         False, False, False, False, False, False, False, False, False, False,\n",
              "         False, False, False, False, False, False, False, False, False, False,\n",
              "         False, False, False, False, False, False, False, False, False, False,\n",
              "         False, False, False, False, False, False, False, False, False, False,\n",
              "         False, False, False, False, False, False, False, False, False, False,\n",
              "         False, False, False, False, False, False, False, False, False, False,\n",
              "         False, False, False, False, False, False, False, False, False, False,\n",
              "         False, False, False, False, False, False, False, False, False, False,\n",
              "         False, False, False, False, False, False, False, False, False, False,\n",
              "         False, False, False, False, False, False, False, False, False, False,\n",
              "         False, False, False, False, False, False, False, False, False, False,\n",
              "         False, False, False, False, False, False, False, False, False, False,\n",
              "         False, False, False, False, False, False, False, False, False, False,\n",
              "         False, False, False, False, False, False, False, False, False, False,\n",
              "         False, False, False, False, False, False, False, False, False, False,\n",
              "         False, False, False, False, False, False, False, False, False, False,\n",
              "         False, False, False, False, False, False, False, False, False, False,\n",
              "         False, False, False, False, False, False, False, False, False, False,\n",
              "         False, False, False, False, False, False, False, False, False, False,\n",
              "         False, False, False, False, False, False, False, False, False, False,\n",
              "         False, False, False, False, False, False, False, False, False, False,\n",
              "         False, False, False, False, False, False, False, False, False, False,\n",
              "         False, False, False, False, False, False, False, False, False, False,\n",
              "         False, False, False, False, False, False, False, False, False, False,\n",
              "         False, False, False, False, False, False, False, False, False, False,\n",
              "         False, False, False, False, False, False, False, False, False, False,\n",
              "         False, False, False, False, False, False, False, False, False, False,\n",
              "         False, False, False, False, False, False, False, False, False, False,\n",
              "         False, False, False, False, False, False, False, False, False, False,\n",
              "         False, False, False, False, False, False, False, False, False, False,\n",
              "         False, False, False, False, False, False, False, False, False, False,\n",
              "         False, False, False, False, False, False, False, False, False, False,\n",
              "         False, False, False, False, False, False, False, False, False, False,\n",
              "         False, False, False, False, False, False, False, False, False, False,\n",
              "         False, False, False, False, False, False, False, False, False, False,\n",
              "         False, False, False, False, False, False, False, False, False, False,\n",
              "         False, False, False, False, False, False, False, False, False, False,\n",
              "         False, False, False, False, False, False, False, False, False, False,\n",
              "         False, False, False, False, False, False, False, False, False, False,\n",
              "         False, False, False, False, False, False, False, False, False, False,\n",
              "         False, False, False, False, False, False, False, False]])"
            ]
          },
          "metadata": {},
          "execution_count": 14
        }
      ],
      "source": [
        "text = \"Hello\"\n",
        "r1 = transform_text_pretrained_embedding(text, emb, tokenizer)\n",
        "r2 = transform_text_pretrained_embedding(text.lower(), emb, tokenizer)\n",
        "r1==r2"
      ]
    },
    {
      "cell_type": "markdown",
      "metadata": {
        "id": "Yg-ONWh2IJVd"
      },
      "source": [
        "# Graph creation"
      ]
    },
    {
      "cell_type": "code",
      "execution_count": 15,
      "metadata": {
        "id": "zm5zvB4X07E1",
        "colab": {
          "base_uri": "https://localhost:8080/"
        },
        "outputId": "d6584d87-79df-447b-a5bf-b9cf2ecbef7e"
      },
      "outputs": [
        {
          "output_type": "stream",
          "name": "stdout",
          "text": [
            "Requirement already satisfied: gdown in /usr/local/lib/python3.10/dist-packages (4.6.6)\n",
            "Requirement already satisfied: filelock in /usr/local/lib/python3.10/dist-packages (from gdown) (3.13.1)\n",
            "Requirement already satisfied: requests[socks] in /usr/local/lib/python3.10/dist-packages (from gdown) (2.31.0)\n",
            "Requirement already satisfied: six in /usr/local/lib/python3.10/dist-packages (from gdown) (1.16.0)\n",
            "Requirement already satisfied: tqdm in /usr/local/lib/python3.10/dist-packages (from gdown) (4.66.1)\n",
            "Requirement already satisfied: beautifulsoup4 in /usr/local/lib/python3.10/dist-packages (from gdown) (4.11.2)\n",
            "Requirement already satisfied: soupsieve>1.2 in /usr/local/lib/python3.10/dist-packages (from beautifulsoup4->gdown) (2.5)\n",
            "Requirement already satisfied: charset-normalizer<4,>=2 in /usr/local/lib/python3.10/dist-packages (from requests[socks]->gdown) (3.3.2)\n",
            "Requirement already satisfied: idna<4,>=2.5 in /usr/local/lib/python3.10/dist-packages (from requests[socks]->gdown) (3.4)\n",
            "Requirement already satisfied: urllib3<3,>=1.21.1 in /usr/local/lib/python3.10/dist-packages (from requests[socks]->gdown) (2.0.7)\n",
            "Requirement already satisfied: certifi>=2017.4.17 in /usr/local/lib/python3.10/dist-packages (from requests[socks]->gdown) (2023.7.22)\n",
            "Requirement already satisfied: PySocks!=1.5.7,>=1.5.6 in /usr/local/lib/python3.10/dist-packages (from requests[socks]->gdown) (1.7.1)\n",
            "Collecting torch_geometric\n",
            "  Downloading torch_geometric-2.4.0-py3-none-any.whl (1.0 MB)\n",
            "\u001b[2K     \u001b[90m━━━━━━━━━━━━━━━━━━━━━━━━━━━━━━━━━━━━━━━━\u001b[0m \u001b[32m1.0/1.0 MB\u001b[0m \u001b[31m12.4 MB/s\u001b[0m eta \u001b[36m0:00:00\u001b[0m\n",
            "\u001b[?25hRequirement already satisfied: tqdm in /usr/local/lib/python3.10/dist-packages (from torch_geometric) (4.66.1)\n",
            "Requirement already satisfied: numpy in /usr/local/lib/python3.10/dist-packages (from torch_geometric) (1.23.5)\n",
            "Requirement already satisfied: scipy in /usr/local/lib/python3.10/dist-packages (from torch_geometric) (1.11.3)\n",
            "Requirement already satisfied: jinja2 in /usr/local/lib/python3.10/dist-packages (from torch_geometric) (3.1.2)\n",
            "Requirement already satisfied: requests in /usr/local/lib/python3.10/dist-packages (from torch_geometric) (2.31.0)\n",
            "Requirement already satisfied: pyparsing in /usr/local/lib/python3.10/dist-packages (from torch_geometric) (3.1.1)\n",
            "Requirement already satisfied: scikit-learn in /usr/local/lib/python3.10/dist-packages (from torch_geometric) (1.2.2)\n",
            "Requirement already satisfied: psutil>=5.8.0 in /usr/local/lib/python3.10/dist-packages (from torch_geometric) (5.9.5)\n",
            "Requirement already satisfied: MarkupSafe>=2.0 in /usr/local/lib/python3.10/dist-packages (from jinja2->torch_geometric) (2.1.3)\n",
            "Requirement already satisfied: charset-normalizer<4,>=2 in /usr/local/lib/python3.10/dist-packages (from requests->torch_geometric) (3.3.2)\n",
            "Requirement already satisfied: idna<4,>=2.5 in /usr/local/lib/python3.10/dist-packages (from requests->torch_geometric) (3.4)\n",
            "Requirement already satisfied: urllib3<3,>=1.21.1 in /usr/local/lib/python3.10/dist-packages (from requests->torch_geometric) (2.0.7)\n",
            "Requirement already satisfied: certifi>=2017.4.17 in /usr/local/lib/python3.10/dist-packages (from requests->torch_geometric) (2023.7.22)\n",
            "Requirement already satisfied: joblib>=1.1.1 in /usr/local/lib/python3.10/dist-packages (from scikit-learn->torch_geometric) (1.3.2)\n",
            "Requirement already satisfied: threadpoolctl>=2.0.0 in /usr/local/lib/python3.10/dist-packages (from scikit-learn->torch_geometric) (3.2.0)\n",
            "Installing collected packages: torch_geometric\n",
            "Successfully installed torch_geometric-2.4.0\n"
          ]
        }
      ],
      "source": [
        "# !pip install gdown\n",
        "# !pip install torch_geometric"
      ]
    },
    {
      "cell_type": "code",
      "execution_count": 16,
      "metadata": {
        "colab": {
          "base_uri": "https://localhost:8080/"
        },
        "id": "JdbklB0iuA3x",
        "outputId": "e2baf9e9-1607-4444-b151-fe8699c4d7d8"
      },
      "outputs": [
        {
          "output_type": "execute_result",
          "data": {
            "text/plain": [
              "['./webnlg/test.json',\n",
              " './webnlg/test.source',\n",
              " './webnlg/test.target',\n",
              " './webnlg/train.json',\n",
              " './webnlg/val.json']"
            ]
          },
          "metadata": {},
          "execution_count": 16
        }
      ],
      "source": [
        "import gdown\n",
        "\n",
        "url = \"https://drive.google.com/drive/folders/1Jx3Cz7t0hiNdtlBWUdPjhtLwPOH3LtzC\"\n",
        "output = './'\n",
        "\n",
        "gdown.download_folder(url, output = output, quiet = True)"
      ]
    },
    {
      "cell_type": "code",
      "execution_count": 17,
      "metadata": {
        "colab": {
          "base_uri": "https://localhost:8080/"
        },
        "id": "-5-GuAKz88NH",
        "outputId": "b515338b-187d-4d9b-bc46-c5fdbe46cd8d"
      },
      "outputs": [
        {
          "output_type": "execute_result",
          "data": {
            "text/plain": [
              "{'W1016': ['California',\n",
              "  'California',\n",
              "  [['is part of', 'Anaheim, California']]],\n",
              " 'W1277': ['United States',\n",
              "  'United States',\n",
              "  [['location', 'United States House of Representatives']]],\n",
              " 'W3706': ['United States House of Representatives',\n",
              "  'United States House of Representatives',\n",
              "  [['leader title', 'Anaheim, California']]]}"
            ]
          },
          "metadata": {},
          "execution_count": 17
        }
      ],
      "source": [
        "import json\n",
        "file_dir = \"./webnlg/\"\n",
        "\n",
        "with open (file_dir + \"train.json\", \"r\") as f:\n",
        "    train_set = json.load(f)\n",
        "\n",
        "\n",
        "with open (file_dir + \"val.json\", \"r\") as f:\n",
        "    val_set = json.load(f)\n",
        "\n",
        "\n",
        "with open (file_dir + \"test.json\", \"r\") as f:\n",
        "    test_set = json.load(f)\n",
        "\n",
        "test_set[2]['kbs']"
      ]
    },
    {
      "cell_type": "code",
      "execution_count": 18,
      "metadata": {
        "colab": {
          "base_uri": "https://localhost:8080/"
        },
        "id": "RteVK-C3-bdW",
        "outputId": "bc463881-c401-450f-ca6a-5bd3c667ab5a"
      },
      "outputs": [
        {
          "output_type": "execute_result",
          "data": {
            "text/plain": [
              "[['California', 'is part of', 'Anaheim, California'],\n",
              " ['United States', 'location', 'United States House of Representatives'],\n",
              " ['United States House of Representatives',\n",
              "  'leader title',\n",
              "  'Anaheim, California']]"
            ]
          },
          "metadata": {},
          "execution_count": 18
        }
      ],
      "source": [
        "def get_triplets(dataset_element):\n",
        "    triplets = []\n",
        "    for key, value in dataset_element['kbs'].items():\n",
        "        triplets.append([value[0]]+value[-1][0])\n",
        "        # !!! value[-1] могут быть и др значения?\n",
        "        # if len(value[-1]) > 1:\n",
        "        #     print(value)\n",
        "    return triplets\n",
        "\n",
        "get_triplets(test_set[2])"
      ]
    },
    {
      "cell_type": "markdown",
      "metadata": {
        "id": "GUGt-YUFCUQz"
      },
      "source": [
        "Albany , Georgia is in the United States , a country led by the President of the United States and where the inhabitants are called Americans . One of the ethnic groups in the country are the African Americans"
      ]
    },
    {
      "cell_type": "code",
      "execution_count": 54,
      "metadata": {
        "id": "-j9EkTElDq4V"
      },
      "outputs": [],
      "source": [
        "import numpy as np\n",
        "import torch\n",
        "from torch_geometric.data import Data\n",
        "\n",
        "def replace_embedding(nodes_list, averaging=False):\n",
        "    global emb, tokenizer\n",
        "    result = []\n",
        "    for el in nodes_list:\n",
        "        embeddings = transform_text_pretrained_embedding(el, emb, tokenizer)\n",
        "        if averaging:\n",
        "            embeddings = torch.mean(embeddings, dim=0)\n",
        "        result.append(embeddings.detach().numpy())\n",
        "    return result\n",
        "\n",
        "def create_graph(triplets, text):\n",
        "    x = []\n",
        "    edge_index = []\n",
        "    edge_attr = []\n",
        "    y = replace_embedding([text])[0]\n",
        "\n",
        "    for t in triplets:\n",
        "\n",
        "        # Create nodes as unique words\n",
        "        if t[0] not in x:\n",
        "            x.append(t[0])\n",
        "        if t[2] not in x:\n",
        "            x.append(t[2])\n",
        "\n",
        "        # Add edge\n",
        "        edge_index.append([x.index(t[0]), x.index(t[2])])\n",
        "\n",
        "        # Add edge attribute\n",
        "        edge_attr.append(replace_embedding([t[1]], averaging=True)[0])\n",
        "\n",
        "    x = np.array(replace_embedding(x, averaging=True))\n",
        "    x = torch.tensor(x, dtype=torch.float)\n",
        "\n",
        "    edge_index = np.array(edge_index).T\n",
        "    edge_index = torch.tensor(edge_index, dtype=torch.long)\n",
        "    edge_attr=torch.tensor(edge_attr, dtype=torch.float)\n",
        "    # y=torch.tensor(y, dtype=torch.float)\n",
        "\n",
        "    data = Data(x=x, edge_index=edge_index, edge_attr=edge_attr, y=y, text=text)\n",
        "    return data\n",
        "\n",
        "data = create_graph(get_triplets(test_set[0]), test_set[0]['text'][0])"
      ]
    },
    {
      "cell_type": "code",
      "source": [
        "data.x.shape"
      ],
      "metadata": {
        "colab": {
          "base_uri": "https://localhost:8080/"
        },
        "id": "4X3oTglsXDMs",
        "outputId": "d2b53502-ad96-4d8b-b82c-bae4ea48f022"
      },
      "execution_count": 56,
      "outputs": [
        {
          "output_type": "execute_result",
          "data": {
            "text/plain": [
              "torch.Size([5, 768])"
            ]
          },
          "metadata": {},
          "execution_count": 56
        }
      ]
    },
    {
      "cell_type": "code",
      "source": [
        "get_triplets(test_set[0])"
      ],
      "metadata": {
        "colab": {
          "base_uri": "https://localhost:8080/"
        },
        "id": "FKnURcgUTFza",
        "outputId": "5e07c832-526b-49ba-bcdd-418670bc59c6"
      },
      "execution_count": 21,
      "outputs": [
        {
          "output_type": "execute_result",
          "data": {
            "text/plain": [
              "[['Pakistan', 'location', 'Allama Iqbal International Airport'],\n",
              " ['2900.0', 'runway length', 'Allama Iqbal International Airport'],\n",
              " ['Pakistan Civil Aviation Authority',\n",
              "  'operating organisation',\n",
              "  'Allama Iqbal International Airport'],\n",
              " ['Lahore', 'city served', 'Allama Iqbal International Airport']]"
            ]
          },
          "metadata": {},
          "execution_count": 21
        }
      ]
    },
    {
      "cell_type": "code",
      "execution_count": 57,
      "metadata": {
        "id": "pomhrp18UGiw"
      },
      "outputs": [],
      "source": [
        "import torch\n",
        "from torch_geometric.data import InMemoryDataset, download_url\n",
        "import json\n",
        "\n",
        "\n",
        "class MyOwnDataset(InMemoryDataset):\n",
        "    def __init__(self, root, file_path, transform=None, pre_transform=None, pre_filter=None):\n",
        "        self.file_path = file_path\n",
        "\n",
        "        if \".pt\" in self.raw_file_names[0]:\n",
        "            # Do not use process for already processed data\n",
        "            super().__init__(None, transform, pre_transform, pre_filter)\n",
        "        else:\n",
        "            super().__init__(root, transform, pre_transform, pre_filter)\n",
        "        self.load(self.processed_paths[0])\n",
        "        # For PyG<2.4:\n",
        "        # self.data, self.slices = torch.load(self.processed_paths[0])\n",
        "\n",
        "    @property\n",
        "    def raw_file_names(self):\n",
        "        return [self.file_path]\n",
        "\n",
        "    @property\n",
        "    def processed_file_names(self):\n",
        "        return [\".\".join(self.file_path.split(\".\")[:-1])+\".pt\"]\n",
        "\n",
        "    def download(self):\n",
        "        # Download to `self.raw_dir`.\n",
        "        if \".pt\" not in self.raw_file_names[0]:\n",
        "            with open (self.raw_file_names[0], \"r\") as f:\n",
        "                return json.load(f)\n",
        "        # else:\n",
        "        #     return torch.load(self.raw_file_names[0])\n",
        "\n",
        "    def process(self):\n",
        "        # Read data into huge `Data` list.\n",
        "        data_list = []\n",
        "\n",
        "        data  = self.download()\n",
        "        for datapoint in data:\n",
        "            data_list.append(create_graph(get_triplets(datapoint), datapoint['text'][0]))\n",
        "\n",
        "        if self.pre_filter is not None:\n",
        "            data_list = [data for data in data_list if self.pre_filter(data)]\n",
        "\n",
        "        if self.pre_transform is not None:\n",
        "            data_list = [self.pre_transform(data) for data in data_list]\n",
        "\n",
        "        self.save(data_list, self.processed_paths[0])"
      ]
    },
    {
      "cell_type": "code",
      "source": [
        "train_dataset = MyOwnDataset(\"./\", \"webnlg/train.json\")\n",
        "# val_dataset = MyOwnDataset(\"./\", \"webnlg/val.json\")\n",
        "test_dataset = MyOwnDataset(\"./\", \"webnlg/test.json\")"
      ],
      "metadata": {
        "colab": {
          "base_uri": "https://localhost:8080/"
        },
        "id": "GhMaT-xD2wQf",
        "outputId": "5a8d7723-5400-4927-f0f3-64c3bf8f8ad0"
      },
      "execution_count": 64,
      "outputs": [
        {
          "output_type": "stream",
          "name": "stderr",
          "text": [
            "Processing...\n",
            "Done!\n",
            "Processing...\n",
            "Done!\n"
          ]
        }
      ]
    },
    {
      "cell_type": "code",
      "source": [
        "dataset[0]"
      ],
      "metadata": {
        "colab": {
          "base_uri": "https://localhost:8080/"
        },
        "id": "lZlaEI9KMoDh",
        "outputId": "60d0c86d-f814-409e-c815-2788856980b9"
      },
      "execution_count": 24,
      "outputs": [
        {
          "output_type": "execute_result",
          "data": {
            "text/plain": [
              "Data(x=[6], edge_index=[2, 3], edge_attr=[3], y=[1])"
            ]
          },
          "metadata": {},
          "execution_count": 24
        }
      ]
    },
    {
      "cell_type": "code",
      "source": [
        "os.chdir('..')"
      ],
      "metadata": {
        "id": "iFtOZxI3djpc"
      },
      "execution_count": null,
      "outputs": []
    },
    {
      "cell_type": "code",
      "source": [
        "import os\n",
        "os.getcwd()"
      ],
      "metadata": {
        "colab": {
          "base_uri": "https://localhost:8080/",
          "height": 36
        },
        "id": "0XJyEcrsXsL9",
        "outputId": "12b4ccb7-b201-4a72-f181-811336644bc0"
      },
      "execution_count": null,
      "outputs": [
        {
          "output_type": "execute_result",
          "data": {
            "text/plain": [
              "'/content'"
            ],
            "application/vnd.google.colaboratory.intrinsic+json": {
              "type": "string"
            }
          },
          "metadata": {},
          "execution_count": 13
        }
      ]
    },
    {
      "cell_type": "markdown",
      "source": [
        "# Embedding"
      ],
      "metadata": {
        "id": "1AXGne5fJPti"
      }
    },
    {
      "cell_type": "code",
      "source": [
        "# !wget https://media.githubusercontent.com/media/sofi12321/Graph_SpikeGPT/main/data/interm/graph_webnlg_train.pt -P processed\n",
        "# !wget https://media.githubusercontent.com/media/sofi12321/Graph_SpikeGPT/main/data/interm/graph_webnlg_test.pt -P processed\n",
        "# !wget https://media.githubusercontent.com/media/sofi12321/Graph_SpikeGPT/main/data/interm/graph_webnlg_val.pt -P processed"
      ],
      "metadata": {
        "colab": {
          "base_uri": "https://localhost:8080/"
        },
        "id": "8N6nn_npIuFe",
        "outputId": "ede9f313-fa5c-4f31-d20b-b6a0b829635f"
      },
      "execution_count": 1,
      "outputs": [
        {
          "output_type": "stream",
          "name": "stdout",
          "text": [
            "--2023-11-25 16:02:52--  https://media.githubusercontent.com/media/sofi12321/Graph_SpikeGPT/main/data/interm/graph_webnlg_train.pt\n",
            "Resolving media.githubusercontent.com (media.githubusercontent.com)... 185.199.108.133, 185.199.111.133, 185.199.110.133, ...\n",
            "Connecting to media.githubusercontent.com (media.githubusercontent.com)|185.199.108.133|:443... connected.\n",
            "HTTP request sent, awaiting response... 200 OK\n",
            "Length: 407800165 (389M) [application/octet-stream]\n",
            "Saving to: ‘processed/graph_webnlg_train.pt’\n",
            "\n",
            "graph_webnlg_train. 100%[===================>] 388.91M   273MB/s    in 1.4s    \n",
            "\n",
            "2023-11-25 16:02:58 (273 MB/s) - ‘processed/graph_webnlg_train.pt’ saved [407800165/407800165]\n",
            "\n",
            "--2023-11-25 16:02:59--  https://media.githubusercontent.com/media/sofi12321/Graph_SpikeGPT/main/data/interm/graph_webnlg_test.pt\n",
            "Resolving media.githubusercontent.com (media.githubusercontent.com)... 185.199.108.133, 185.199.111.133, 185.199.110.133, ...\n",
            "Connecting to media.githubusercontent.com (media.githubusercontent.com)|185.199.108.133|:443... connected.\n",
            "HTTP request sent, awaiting response... 200 OK\n",
            "Length: 50271519 (48M) [application/octet-stream]\n",
            "Saving to: ‘processed/graph_webnlg_test.pt’\n",
            "\n",
            "graph_webnlg_test.p 100%[===================>]  47.94M   110MB/s    in 0.4s    \n",
            "\n",
            "2023-11-25 16:03:01 (110 MB/s) - ‘processed/graph_webnlg_test.pt’ saved [50271519/50271519]\n",
            "\n",
            "--2023-11-25 16:03:01--  https://media.githubusercontent.com/media/sofi12321/Graph_SpikeGPT/main/data/interm/graph_webnlg_val.pt\n",
            "Resolving media.githubusercontent.com (media.githubusercontent.com)... 185.199.108.133, 185.199.111.133, 185.199.110.133, ...\n",
            "Connecting to media.githubusercontent.com (media.githubusercontent.com)|185.199.108.133|:443... connected.\n",
            "HTTP request sent, awaiting response... 200 OK\n",
            "Length: 50447250 (48M) [application/octet-stream]\n",
            "Saving to: ‘processed/graph_webnlg_val.pt’\n",
            "\n",
            "graph_webnlg_val.pt 100%[===================>]  48.11M  97.7MB/s    in 0.5s    \n",
            "\n",
            "2023-11-25 16:03:02 (97.7 MB/s) - ‘processed/graph_webnlg_val.pt’ saved [50447250/50447250]\n",
            "\n"
          ]
        }
      ]
    },
    {
      "cell_type": "code",
      "source": [
        "# !pip install torch matplotlib numpy tqdm torchvision scipy\n",
        "# !pip install torch_geometric\n",
        "# ninja accelerate transformers\n",
        "# !pip3 install Cython"
      ],
      "metadata": {
        "colab": {
          "base_uri": "https://localhost:8080/"
        },
        "id": "yGou9nSQJRh0",
        "outputId": "1503d410-8c1e-48e5-b86d-622f15298178"
      },
      "execution_count": 2,
      "outputs": [
        {
          "output_type": "stream",
          "name": "stdout",
          "text": [
            "Requirement already satisfied: torch in /usr/local/lib/python3.10/dist-packages (2.1.0+cu118)\n",
            "Requirement already satisfied: matplotlib in /usr/local/lib/python3.10/dist-packages (3.7.1)\n",
            "Requirement already satisfied: numpy in /usr/local/lib/python3.10/dist-packages (1.23.5)\n",
            "Requirement already satisfied: tqdm in /usr/local/lib/python3.10/dist-packages (4.66.1)\n",
            "Requirement already satisfied: torchvision in /usr/local/lib/python3.10/dist-packages (0.16.0+cu118)\n",
            "Requirement already satisfied: scipy in /usr/local/lib/python3.10/dist-packages (1.11.3)\n",
            "Requirement already satisfied: filelock in /usr/local/lib/python3.10/dist-packages (from torch) (3.13.1)\n",
            "Requirement already satisfied: typing-extensions in /usr/local/lib/python3.10/dist-packages (from torch) (4.5.0)\n",
            "Requirement already satisfied: sympy in /usr/local/lib/python3.10/dist-packages (from torch) (1.12)\n",
            "Requirement already satisfied: networkx in /usr/local/lib/python3.10/dist-packages (from torch) (3.2.1)\n",
            "Requirement already satisfied: jinja2 in /usr/local/lib/python3.10/dist-packages (from torch) (3.1.2)\n",
            "Requirement already satisfied: fsspec in /usr/local/lib/python3.10/dist-packages (from torch) (2023.6.0)\n",
            "Requirement already satisfied: triton==2.1.0 in /usr/local/lib/python3.10/dist-packages (from torch) (2.1.0)\n",
            "Requirement already satisfied: contourpy>=1.0.1 in /usr/local/lib/python3.10/dist-packages (from matplotlib) (1.2.0)\n",
            "Requirement already satisfied: cycler>=0.10 in /usr/local/lib/python3.10/dist-packages (from matplotlib) (0.12.1)\n",
            "Requirement already satisfied: fonttools>=4.22.0 in /usr/local/lib/python3.10/dist-packages (from matplotlib) (4.44.3)\n",
            "Requirement already satisfied: kiwisolver>=1.0.1 in /usr/local/lib/python3.10/dist-packages (from matplotlib) (1.4.5)\n",
            "Requirement already satisfied: packaging>=20.0 in /usr/local/lib/python3.10/dist-packages (from matplotlib) (23.2)\n",
            "Requirement already satisfied: pillow>=6.2.0 in /usr/local/lib/python3.10/dist-packages (from matplotlib) (9.4.0)\n",
            "Requirement already satisfied: pyparsing>=2.3.1 in /usr/local/lib/python3.10/dist-packages (from matplotlib) (3.1.1)\n",
            "Requirement already satisfied: python-dateutil>=2.7 in /usr/local/lib/python3.10/dist-packages (from matplotlib) (2.8.2)\n",
            "Requirement already satisfied: requests in /usr/local/lib/python3.10/dist-packages (from torchvision) (2.31.0)\n",
            "Requirement already satisfied: six>=1.5 in /usr/local/lib/python3.10/dist-packages (from python-dateutil>=2.7->matplotlib) (1.16.0)\n",
            "Requirement already satisfied: MarkupSafe>=2.0 in /usr/local/lib/python3.10/dist-packages (from jinja2->torch) (2.1.3)\n",
            "Requirement already satisfied: charset-normalizer<4,>=2 in /usr/local/lib/python3.10/dist-packages (from requests->torchvision) (3.3.2)\n",
            "Requirement already satisfied: idna<4,>=2.5 in /usr/local/lib/python3.10/dist-packages (from requests->torchvision) (3.4)\n",
            "Requirement already satisfied: urllib3<3,>=1.21.1 in /usr/local/lib/python3.10/dist-packages (from requests->torchvision) (2.0.7)\n",
            "Requirement already satisfied: certifi>=2017.4.17 in /usr/local/lib/python3.10/dist-packages (from requests->torchvision) (2023.7.22)\n",
            "Requirement already satisfied: mpmath>=0.19 in /usr/local/lib/python3.10/dist-packages (from sympy->torch) (1.3.0)\n",
            "Collecting torch_geometric\n",
            "  Downloading torch_geometric-2.4.0-py3-none-any.whl (1.0 MB)\n",
            "\u001b[2K     \u001b[90m━━━━━━━━━━━━━━━━━━━━━━━━━━━━━━━━━━━━━━━━\u001b[0m \u001b[32m1.0/1.0 MB\u001b[0m \u001b[31m14.9 MB/s\u001b[0m eta \u001b[36m0:00:00\u001b[0m\n",
            "\u001b[?25hRequirement already satisfied: tqdm in /usr/local/lib/python3.10/dist-packages (from torch_geometric) (4.66.1)\n",
            "Requirement already satisfied: numpy in /usr/local/lib/python3.10/dist-packages (from torch_geometric) (1.23.5)\n",
            "Requirement already satisfied: scipy in /usr/local/lib/python3.10/dist-packages (from torch_geometric) (1.11.3)\n",
            "Requirement already satisfied: jinja2 in /usr/local/lib/python3.10/dist-packages (from torch_geometric) (3.1.2)\n",
            "Requirement already satisfied: requests in /usr/local/lib/python3.10/dist-packages (from torch_geometric) (2.31.0)\n",
            "Requirement already satisfied: pyparsing in /usr/local/lib/python3.10/dist-packages (from torch_geometric) (3.1.1)\n",
            "Requirement already satisfied: scikit-learn in /usr/local/lib/python3.10/dist-packages (from torch_geometric) (1.2.2)\n",
            "Requirement already satisfied: psutil>=5.8.0 in /usr/local/lib/python3.10/dist-packages (from torch_geometric) (5.9.5)\n",
            "Requirement already satisfied: MarkupSafe>=2.0 in /usr/local/lib/python3.10/dist-packages (from jinja2->torch_geometric) (2.1.3)\n",
            "Requirement already satisfied: charset-normalizer<4,>=2 in /usr/local/lib/python3.10/dist-packages (from requests->torch_geometric) (3.3.2)\n",
            "Requirement already satisfied: idna<4,>=2.5 in /usr/local/lib/python3.10/dist-packages (from requests->torch_geometric) (3.4)\n",
            "Requirement already satisfied: urllib3<3,>=1.21.1 in /usr/local/lib/python3.10/dist-packages (from requests->torch_geometric) (2.0.7)\n",
            "Requirement already satisfied: certifi>=2017.4.17 in /usr/local/lib/python3.10/dist-packages (from requests->torch_geometric) (2023.7.22)\n",
            "Requirement already satisfied: joblib>=1.1.1 in /usr/local/lib/python3.10/dist-packages (from scikit-learn->torch_geometric) (1.3.2)\n",
            "Requirement already satisfied: threadpoolctl>=2.0.0 in /usr/local/lib/python3.10/dist-packages (from scikit-learn->torch_geometric) (3.2.0)\n",
            "Installing collected packages: torch_geometric\n",
            "Successfully installed torch_geometric-2.4.0\n"
          ]
        }
      ]
    },
    {
      "cell_type": "code",
      "source": [
        "import torch\n",
        "from torch_geometric.data import InMemoryDataset, download_url\n",
        "import json\n",
        "\n",
        "\n",
        "class MyOwnDataset(InMemoryDataset):\n",
        "    def __init__(self, root, file_path, transform=None, pre_transform=None, pre_filter=None):\n",
        "        self.file_path = file_path\n",
        "\n",
        "        if \".pt\" in self.raw_file_names[0]:\n",
        "            # Do not use process for already processed data\n",
        "            super().__init__(None, transform, pre_transform, pre_filter)\n",
        "        else:\n",
        "            super().__init__(root, transform, pre_transform, pre_filter)\n",
        "        self.load(self.processed_paths[0])\n",
        "        # For PyG<2.4:\n",
        "        # self.data, self.slices = torch.load(self.processed_paths[0])\n",
        "\n",
        "    @property\n",
        "    def raw_file_names(self):\n",
        "        return [self.file_path]\n",
        "\n",
        "    @property\n",
        "    def processed_file_names(self):\n",
        "        return [\".\".join(self.file_path.split(\".\")[:-1])+\".pt\"]\n",
        "\n",
        "    def download(self):\n",
        "        # Download to `self.raw_dir`.\n",
        "        if \".pt\" not in self.raw_file_names[0]:\n",
        "            with open (self.raw_file_names[0], \"r\") as f:\n",
        "                return json.load(f)\n",
        "        # else:\n",
        "        #     return torch.load(self.raw_file_names[0])\n",
        "\n",
        "    def process(self):\n",
        "        # Read data into huge `Data` list.\n",
        "        data_list = []\n",
        "\n",
        "        data  = self.download()\n",
        "        for datapoint in data:\n",
        "            data_list.append(create_graph(get_triplets(datapoint), datapoint['text'][0]))\n",
        "\n",
        "        if self.pre_filter is not None:\n",
        "            data_list = [data for data in data_list if self.pre_filter(data)]\n",
        "\n",
        "        if self.pre_transform is not None:\n",
        "            data_list = [self.pre_transform(data) for data in data_list]\n",
        "\n",
        "        self.save(data_list, self.processed_paths[0])"
      ],
      "metadata": {
        "id": "sp0_1ApYNzXF"
      },
      "execution_count": 3,
      "outputs": []
    },
    {
      "cell_type": "code",
      "source": [
        "train_dataset = MyOwnDataset(\"./\", \"graph_webnlg_train.pt\")\n",
        "val_dataset = MyOwnDataset(\"./\", \"graph_webnlg_val.pt\")\n",
        "test_dataset = MyOwnDataset(\"./\", \"graph_webnlg_test.pt\")"
      ],
      "metadata": {
        "colab": {
          "base_uri": "https://localhost:8080/",
          "height": 355
        },
        "id": "I1518UneN5Pz",
        "outputId": "d4c62e5d-cd6a-44f8-ea1e-655ec9f221b1"
      },
      "execution_count": 4,
      "outputs": [
        {
          "output_type": "error",
          "ename": "ValueError",
          "evalue": "ignored",
          "traceback": [
            "\u001b[0;31m---------------------------------------------------------------------------\u001b[0m",
            "\u001b[0;31mValueError\u001b[0m                                Traceback (most recent call last)",
            "\u001b[0;32m<ipython-input-4-bd5e0dd28343>\u001b[0m in \u001b[0;36m<cell line: 3>\u001b[0;34m()\u001b[0m\n\u001b[1;32m      1\u001b[0m \u001b[0mtrain_dataset\u001b[0m \u001b[0;34m=\u001b[0m \u001b[0mMyOwnDataset\u001b[0m\u001b[0;34m(\u001b[0m\u001b[0;34m\"./\"\u001b[0m\u001b[0;34m,\u001b[0m \u001b[0;34m\"graph_webnlg_train.pt\"\u001b[0m\u001b[0;34m)\u001b[0m\u001b[0;34m\u001b[0m\u001b[0;34m\u001b[0m\u001b[0m\n\u001b[1;32m      2\u001b[0m \u001b[0mval_dataset\u001b[0m \u001b[0;34m=\u001b[0m \u001b[0mMyOwnDataset\u001b[0m\u001b[0;34m(\u001b[0m\u001b[0;34m\"./\"\u001b[0m\u001b[0;34m,\u001b[0m \u001b[0;34m\"graph_webnlg_val.pt\"\u001b[0m\u001b[0;34m)\u001b[0m\u001b[0;34m\u001b[0m\u001b[0;34m\u001b[0m\u001b[0m\n\u001b[0;32m----> 3\u001b[0;31m \u001b[0mtest_dataset\u001b[0m \u001b[0;34m=\u001b[0m \u001b[0mMyOwnDataset\u001b[0m\u001b[0;34m(\u001b[0m\u001b[0;34m\"./\"\u001b[0m\u001b[0;34m,\u001b[0m \u001b[0;34m\"graph_webnlg_test.pt\"\u001b[0m\u001b[0;34m)\u001b[0m\u001b[0;34m\u001b[0m\u001b[0;34m\u001b[0m\u001b[0m\n\u001b[0m",
            "\u001b[0;32m<ipython-input-3-045514ba7db1>\u001b[0m in \u001b[0;36m__init__\u001b[0;34m(self, root, file_path, transform, pre_transform, pre_filter)\u001b[0m\n\u001b[1;32m      8\u001b[0m         \u001b[0mself\u001b[0m\u001b[0;34m.\u001b[0m\u001b[0mfile_path\u001b[0m \u001b[0;34m=\u001b[0m \u001b[0mfile_path\u001b[0m\u001b[0;34m\u001b[0m\u001b[0;34m\u001b[0m\u001b[0m\n\u001b[1;32m      9\u001b[0m         \u001b[0msuper\u001b[0m\u001b[0;34m(\u001b[0m\u001b[0;34m)\u001b[0m\u001b[0;34m.\u001b[0m\u001b[0m__init__\u001b[0m\u001b[0;34m(\u001b[0m\u001b[0mroot\u001b[0m\u001b[0;34m,\u001b[0m \u001b[0mtransform\u001b[0m\u001b[0;34m,\u001b[0m \u001b[0mpre_transform\u001b[0m\u001b[0;34m,\u001b[0m \u001b[0mpre_filter\u001b[0m\u001b[0;34m)\u001b[0m\u001b[0;34m\u001b[0m\u001b[0;34m\u001b[0m\u001b[0m\n\u001b[0;32m---> 10\u001b[0;31m         \u001b[0mself\u001b[0m\u001b[0;34m.\u001b[0m\u001b[0mload\u001b[0m\u001b[0;34m(\u001b[0m\u001b[0mself\u001b[0m\u001b[0;34m.\u001b[0m\u001b[0mprocessed_paths\u001b[0m\u001b[0;34m[\u001b[0m\u001b[0;36m0\u001b[0m\u001b[0;34m]\u001b[0m\u001b[0;34m)\u001b[0m\u001b[0;34m\u001b[0m\u001b[0;34m\u001b[0m\u001b[0m\n\u001b[0m\u001b[1;32m     11\u001b[0m         \u001b[0;31m# For PyG<2.4:\u001b[0m\u001b[0;34m\u001b[0m\u001b[0;34m\u001b[0m\u001b[0m\n\u001b[1;32m     12\u001b[0m         \u001b[0;31m# self.data, self.slices = torch.load(self.processed_paths[0])\u001b[0m\u001b[0;34m\u001b[0m\u001b[0;34m\u001b[0m\u001b[0m\n",
            "\u001b[0;32m/usr/local/lib/python3.10/dist-packages/torch_geometric/data/in_memory_dataset.py\u001b[0m in \u001b[0;36mload\u001b[0;34m(self, path, data_cls)\u001b[0m\n\u001b[1;32m    122\u001b[0m     \u001b[0;32mdef\u001b[0m \u001b[0mload\u001b[0m\u001b[0;34m(\u001b[0m\u001b[0mself\u001b[0m\u001b[0;34m,\u001b[0m \u001b[0mpath\u001b[0m\u001b[0;34m:\u001b[0m \u001b[0mstr\u001b[0m\u001b[0;34m,\u001b[0m \u001b[0mdata_cls\u001b[0m\u001b[0;34m:\u001b[0m \u001b[0mType\u001b[0m\u001b[0;34m[\u001b[0m\u001b[0mBaseData\u001b[0m\u001b[0;34m]\u001b[0m \u001b[0;34m=\u001b[0m \u001b[0mData\u001b[0m\u001b[0;34m)\u001b[0m\u001b[0;34m:\u001b[0m\u001b[0;34m\u001b[0m\u001b[0;34m\u001b[0m\u001b[0m\n\u001b[1;32m    123\u001b[0m         \u001b[0;34mr\"\"\"Loads the dataset from the file path :obj:`path`.\"\"\"\u001b[0m\u001b[0;34m\u001b[0m\u001b[0;34m\u001b[0m\u001b[0m\n\u001b[0;32m--> 124\u001b[0;31m         \u001b[0mdata\u001b[0m\u001b[0;34m,\u001b[0m \u001b[0mself\u001b[0m\u001b[0;34m.\u001b[0m\u001b[0mslices\u001b[0m \u001b[0;34m=\u001b[0m \u001b[0mtorch\u001b[0m\u001b[0;34m.\u001b[0m\u001b[0mload\u001b[0m\u001b[0;34m(\u001b[0m\u001b[0mpath\u001b[0m\u001b[0;34m)\u001b[0m\u001b[0;34m\u001b[0m\u001b[0;34m\u001b[0m\u001b[0m\n\u001b[0m\u001b[1;32m    125\u001b[0m         \u001b[0;32mif\u001b[0m \u001b[0misinstance\u001b[0m\u001b[0;34m(\u001b[0m\u001b[0mdata\u001b[0m\u001b[0;34m,\u001b[0m \u001b[0mdict\u001b[0m\u001b[0;34m)\u001b[0m\u001b[0;34m:\u001b[0m  \u001b[0;31m# Backward compatibility.\u001b[0m\u001b[0;34m\u001b[0m\u001b[0;34m\u001b[0m\u001b[0m\n\u001b[1;32m    126\u001b[0m             \u001b[0mdata\u001b[0m \u001b[0;34m=\u001b[0m \u001b[0mdata_cls\u001b[0m\u001b[0;34m.\u001b[0m\u001b[0mfrom_dict\u001b[0m\u001b[0;34m(\u001b[0m\u001b[0mdata\u001b[0m\u001b[0;34m)\u001b[0m\u001b[0;34m\u001b[0m\u001b[0;34m\u001b[0m\u001b[0m\n",
            "\u001b[0;31mValueError\u001b[0m: too many values to unpack (expected 2)"
          ]
        }
      ]
    },
    {
      "cell_type": "code",
      "source": [
        "import numpy as np\n",
        "len(val_dataset[0].y[0][0])"
      ],
      "metadata": {
        "colab": {
          "base_uri": "https://localhost:8080/"
        },
        "id": "dvvX3GRJN8Xx",
        "outputId": "57910b62-4cdf-4648-ce8c-a96b71b87e50"
      },
      "execution_count": 22,
      "outputs": [
        {
          "output_type": "execute_result",
          "data": {
            "text/plain": [
              "768"
            ]
          },
          "metadata": {},
          "execution_count": 22
        }
      ]
    },
    {
      "cell_type": "code",
      "source": [
        "from torch_geometric.data import Dataset\n",
        "d = Dataset(\"graph_webnlg_test.pt\")"
      ],
      "metadata": {
        "colab": {
          "base_uri": "https://localhost:8080/",
          "height": 192
        },
        "id": "S20mKHKqPs0X",
        "outputId": "29eac311-089e-4106-9817-37fcd9cfaaad"
      },
      "execution_count": 17,
      "outputs": [
        {
          "output_type": "error",
          "ename": "TypeError",
          "evalue": "ignored",
          "traceback": [
            "\u001b[0;31m---------------------------------------------------------------------------\u001b[0m",
            "\u001b[0;31mTypeError\u001b[0m                                 Traceback (most recent call last)",
            "\u001b[0;32m<ipython-input-17-ed2665b26ef9>\u001b[0m in \u001b[0;36m<cell line: 2>\u001b[0;34m()\u001b[0m\n\u001b[1;32m      1\u001b[0m \u001b[0;32mfrom\u001b[0m \u001b[0mtorch_geometric\u001b[0m\u001b[0;34m.\u001b[0m\u001b[0mdata\u001b[0m \u001b[0;32mimport\u001b[0m \u001b[0mDataset\u001b[0m\u001b[0;34m\u001b[0m\u001b[0;34m\u001b[0m\u001b[0m\n\u001b[0;32m----> 2\u001b[0;31m \u001b[0md\u001b[0m \u001b[0;34m=\u001b[0m \u001b[0mDataset\u001b[0m\u001b[0;34m(\u001b[0m\u001b[0;34m\"graph_webnlg_test.pt\"\u001b[0m\u001b[0;34m)\u001b[0m\u001b[0;34m\u001b[0m\u001b[0;34m\u001b[0m\u001b[0m\n\u001b[0m",
            "\u001b[0;31mTypeError\u001b[0m: Can't instantiate abstract class Dataset with abstract methods get, len"
          ]
        }
      ]
    }
  ],
  "metadata": {
    "colab": {
      "provenance": []
    },
    "kernelspec": {
      "display_name": "Python 3 (ipykernel)",
      "language": "python",
      "name": "python3"
    },
    "language_info": {
      "codemirror_mode": {
        "name": "ipython",
        "version": 3
      },
      "file_extension": ".py",
      "mimetype": "text/x-python",
      "name": "python",
      "nbconvert_exporter": "python",
      "pygments_lexer": "ipython3",
      "version": "3.9.5"
    }
  },
  "nbformat": 4,
  "nbformat_minor": 0
}