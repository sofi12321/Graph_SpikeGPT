{
  "cells": [
    {
      "cell_type": "markdown",
      "metadata": {
        "id": "sD5nQk1XIMZL"
      },
      "source": [
        "## Embedding preparing\n",
        "\n",
        "Load embedding from SpikeGPT"
      ]
    },
    {
      "cell_type": "code",
      "execution_count": 1,
      "metadata": {
        "colab": {
          "base_uri": "https://localhost:8080/"
        },
        "id": "dGQpyuIK0Lgn",
        "outputId": "92574480-f5b1-4e6f-c1cb-ec0611bc61de"
      },
      "outputs": [
        {
          "output_type": "stream",
          "name": "stdout",
          "text": [
            "Cloning into 'SpikeGPT-OpenWebText-216M'...\n",
            "remote: Enumerating objects: 13, done.\u001b[K\n",
            "remote: Total 13 (delta 0), reused 0 (delta 0), pack-reused 13\u001b[K\n",
            "Unpacking objects: 100% (13/13), 1.51 KiB | 257.00 KiB/s, done.\n",
            "Cloning into 'SpikeGPT'...\n",
            "remote: Enumerating objects: 267, done.\u001b[K\n",
            "remote: Counting objects: 100% (80/80), done.\u001b[K\n",
            "remote: Compressing objects: 100% (73/73), done.\u001b[K\n",
            "remote: Total 267 (delta 47), reused 15 (delta 7), pack-reused 187\u001b[K\n",
            "Receiving objects: 100% (267/267), 1.28 MiB | 5.10 MiB/s, done.\n",
            "Resolving deltas: 100% (104/104), done.\n",
            "Requirement already satisfied: torch in /usr/local/lib/python3.10/dist-packages (2.1.0+cu118)\n",
            "Requirement already satisfied: matplotlib in /usr/local/lib/python3.10/dist-packages (3.7.1)\n",
            "Requirement already satisfied: numpy in /usr/local/lib/python3.10/dist-packages (1.23.5)\n",
            "Requirement already satisfied: tqdm in /usr/local/lib/python3.10/dist-packages (4.66.1)\n",
            "Requirement already satisfied: torchvision in /usr/local/lib/python3.10/dist-packages (0.16.0+cu118)\n",
            "Requirement already satisfied: scipy in /usr/local/lib/python3.10/dist-packages (1.11.3)\n",
            "Collecting ninja\n",
            "  Downloading ninja-1.11.1.1-py2.py3-none-manylinux1_x86_64.manylinux_2_5_x86_64.whl (307 kB)\n",
            "\u001b[2K     \u001b[90m━━━━━━━━━━━━━━━━━━━━━━━━━━━━━━━━━━━━━━━━\u001b[0m \u001b[32m307.2/307.2 kB\u001b[0m \u001b[31m4.8 MB/s\u001b[0m eta \u001b[36m0:00:00\u001b[0m\n",
            "\u001b[?25hCollecting accelerate\n",
            "  Downloading accelerate-0.24.1-py3-none-any.whl (261 kB)\n",
            "\u001b[2K     \u001b[90m━━━━━━━━━━━━━━━━━━━━━━━━━━━━━━━━━━━━━━━━\u001b[0m \u001b[32m261.4/261.4 kB\u001b[0m \u001b[31m29.8 MB/s\u001b[0m eta \u001b[36m0:00:00\u001b[0m\n",
            "\u001b[?25hRequirement already satisfied: transformers in /usr/local/lib/python3.10/dist-packages (4.35.2)\n",
            "Collecting torch_geometric\n",
            "  Downloading torch_geometric-2.4.0-py3-none-any.whl (1.0 MB)\n",
            "\u001b[2K     \u001b[90m━━━━━━━━━━━━━━━━━━━━━━━━━━━━━━━━━━━━━━━━\u001b[0m \u001b[32m1.0/1.0 MB\u001b[0m \u001b[31m53.9 MB/s\u001b[0m eta \u001b[36m0:00:00\u001b[0m\n",
            "\u001b[?25hRequirement already satisfied: filelock in /usr/local/lib/python3.10/dist-packages (from torch) (3.13.1)\n",
            "Requirement already satisfied: typing-extensions in /usr/local/lib/python3.10/dist-packages (from torch) (4.5.0)\n",
            "Requirement already satisfied: sympy in /usr/local/lib/python3.10/dist-packages (from torch) (1.12)\n",
            "Requirement already satisfied: networkx in /usr/local/lib/python3.10/dist-packages (from torch) (3.2.1)\n",
            "Requirement already satisfied: jinja2 in /usr/local/lib/python3.10/dist-packages (from torch) (3.1.2)\n",
            "Requirement already satisfied: fsspec in /usr/local/lib/python3.10/dist-packages (from torch) (2023.6.0)\n",
            "Requirement already satisfied: triton==2.1.0 in /usr/local/lib/python3.10/dist-packages (from torch) (2.1.0)\n",
            "Requirement already satisfied: contourpy>=1.0.1 in /usr/local/lib/python3.10/dist-packages (from matplotlib) (1.2.0)\n",
            "Requirement already satisfied: cycler>=0.10 in /usr/local/lib/python3.10/dist-packages (from matplotlib) (0.12.1)\n",
            "Requirement already satisfied: fonttools>=4.22.0 in /usr/local/lib/python3.10/dist-packages (from matplotlib) (4.44.3)\n",
            "Requirement already satisfied: kiwisolver>=1.0.1 in /usr/local/lib/python3.10/dist-packages (from matplotlib) (1.4.5)\n",
            "Requirement already satisfied: packaging>=20.0 in /usr/local/lib/python3.10/dist-packages (from matplotlib) (23.2)\n",
            "Requirement already satisfied: pillow>=6.2.0 in /usr/local/lib/python3.10/dist-packages (from matplotlib) (9.4.0)\n",
            "Requirement already satisfied: pyparsing>=2.3.1 in /usr/local/lib/python3.10/dist-packages (from matplotlib) (3.1.1)\n",
            "Requirement already satisfied: python-dateutil>=2.7 in /usr/local/lib/python3.10/dist-packages (from matplotlib) (2.8.2)\n",
            "Requirement already satisfied: requests in /usr/local/lib/python3.10/dist-packages (from torchvision) (2.31.0)\n",
            "Requirement already satisfied: psutil in /usr/local/lib/python3.10/dist-packages (from accelerate) (5.9.5)\n",
            "Requirement already satisfied: pyyaml in /usr/local/lib/python3.10/dist-packages (from accelerate) (6.0.1)\n",
            "Requirement already satisfied: huggingface-hub in /usr/local/lib/python3.10/dist-packages (from accelerate) (0.19.4)\n",
            "Requirement already satisfied: regex!=2019.12.17 in /usr/local/lib/python3.10/dist-packages (from transformers) (2023.6.3)\n",
            "Requirement already satisfied: tokenizers<0.19,>=0.14 in /usr/local/lib/python3.10/dist-packages (from transformers) (0.15.0)\n",
            "Requirement already satisfied: safetensors>=0.3.1 in /usr/local/lib/python3.10/dist-packages (from transformers) (0.4.0)\n",
            "Requirement already satisfied: scikit-learn in /usr/local/lib/python3.10/dist-packages (from torch_geometric) (1.2.2)\n",
            "Requirement already satisfied: six>=1.5 in /usr/local/lib/python3.10/dist-packages (from python-dateutil>=2.7->matplotlib) (1.16.0)\n",
            "Requirement already satisfied: MarkupSafe>=2.0 in /usr/local/lib/python3.10/dist-packages (from jinja2->torch) (2.1.3)\n",
            "Requirement already satisfied: charset-normalizer<4,>=2 in /usr/local/lib/python3.10/dist-packages (from requests->torchvision) (3.3.2)\n",
            "Requirement already satisfied: idna<4,>=2.5 in /usr/local/lib/python3.10/dist-packages (from requests->torchvision) (3.4)\n",
            "Requirement already satisfied: urllib3<3,>=1.21.1 in /usr/local/lib/python3.10/dist-packages (from requests->torchvision) (2.0.7)\n",
            "Requirement already satisfied: certifi>=2017.4.17 in /usr/local/lib/python3.10/dist-packages (from requests->torchvision) (2023.7.22)\n",
            "Requirement already satisfied: joblib>=1.1.1 in /usr/local/lib/python3.10/dist-packages (from scikit-learn->torch_geometric) (1.3.2)\n",
            "Requirement already satisfied: threadpoolctl>=2.0.0 in /usr/local/lib/python3.10/dist-packages (from scikit-learn->torch_geometric) (3.2.0)\n",
            "Requirement already satisfied: mpmath>=0.19 in /usr/local/lib/python3.10/dist-packages (from sympy->torch) (1.3.0)\n",
            "Installing collected packages: ninja, torch_geometric, accelerate\n",
            "Successfully installed accelerate-0.24.1 ninja-1.11.1.1 torch_geometric-2.4.0\n"
          ]
        }
      ],
      "source": [
        "# Clone needed data and repositories\n",
        "!git clone https://huggingface.co/ridger/SpikeGPT-OpenWebText-216M\n",
        "!git clone https://github.com/ridgerchu/SpikeGPT.git\n",
        "!pip install torch matplotlib numpy tqdm torchvision scipy ninja accelerate transformers torch_geometric\n"
      ]
    },
    {
      "cell_type": "code",
      "execution_count": 2,
      "metadata": {
        "id": "wJIbnk6H0Lgo"
      },
      "outputs": [],
      "source": [
        "import matplotlib.ticker as ticker\n",
        "import numpy as np\n",
        "import math, os, sys, types, time, gc\n",
        "import torch\n",
        "from torch import nn\n",
        "\n",
        "def prepare_env():\n",
        "    try:\n",
        "        os.environ[\"CUDA_VISIBLE_DEVICES\"] = sys.argv[1]\n",
        "    except:\n",
        "        pass\n",
        "    torch.backends.cudnn.benchmark = True\n",
        "    torch.backends.cudnn.allow_tf32 = True\n",
        "    torch.backends.cuda.matmul.allow_tf32 = True\n",
        "    np.set_printoptions(precision=4, suppress=True, linewidth=200)\n",
        "    args = types.SimpleNamespace()\n",
        "\n",
        "    args.RUN_DEVICE = \"cpu\" # 'cuda' // 'cpu' (already fast)\n",
        "    args.FLOAT_MODE = \"fp32\" # fp16 (good for GPU, does not work for CPU) // fp32 (good for CPU) // bf16 (less accurate, but works for CPU)\n",
        "    os.environ[\"RWKV_JIT_ON\"] = '1' # '1' or '0'. very useful for GPU/CPU fp32, but might be harmful for GPU fp16. please benchmark !!!\n",
        "    vocab_size = 50277\n",
        "\n",
        "    # MODEL_NAME = model_path + 'SpikeGPT-216M'\n",
        "    n_layer = 18\n",
        "    n_embd = 768\n",
        "    ctx_len = 1024\n",
        "\n",
        "    # args.MODEL_NAME = MODEL_NAME\n",
        "    args.n_layer = n_layer\n",
        "    args.n_embd = n_embd\n",
        "    args.ctx_len = ctx_len\n",
        "    args.vocab_size = vocab_size\n",
        "    args.head_qk = 0\n",
        "    args.pre_ffn = 0\n",
        "    args.grad_cp = 0\n",
        "    args.my_pos_emb = 0\n",
        "    os.environ[\"RWKV_RUN_DEVICE\"] = args.RUN_DEVICE\n",
        "    return args"
      ]
    },
    {
      "cell_type": "code",
      "execution_count": 3,
      "metadata": {
        "colab": {
          "base_uri": "https://localhost:8080/"
        },
        "id": "zurQmRLc0Lgo",
        "outputId": "44bf0878-728a-4616-bcc6-cb27a8523e4b"
      },
      "outputs": [
        {
          "output_type": "stream",
          "name": "stdout",
          "text": [
            "/content/SpikeGPT\n",
            "\n",
            "RWKV_HEAD_QK_DIM 0 RWKV_JIT_ON 1\n",
            "\n",
            "emb.weight                               float32    cpu\n",
            "blocks.0.ln1.weight                      float32    cpu\n",
            "blocks.0.ln1.bias                        float32    cpu\n",
            "blocks.0.ln2.weight                      float32    cpu\n",
            "blocks.0.ln2.bias                        float32    cpu\n",
            "blocks.0.ln0.weight                      float32    cpu\n",
            "blocks.0.ln0.bias                        float32    cpu\n",
            "blocks.0.att.time_decay                  float32    cpu\n",
            "blocks.0.att.time_first                  float32    cpu\n",
            "blocks.0.att.time_mix_k                  float32    cpu\n",
            "blocks.0.att.time_mix_v                  float32    cpu\n",
            "blocks.0.att.time_mix_r                  float32    cpu\n",
            "blocks.0.att.key.weight                  float32    cpu\n",
            "blocks.0.att.value.weight                float32    cpu\n",
            "blocks.0.att.receptance.weight           float32    cpu\n",
            "blocks.0.att.output.weight               float32    cpu\n",
            "blocks.0.ffn.time_mix_k                  float32    cpu\n",
            "blocks.0.ffn.time_mix_r                  float32    cpu\n",
            "blocks.0.ffn.key.weight                  float32    cpu\n",
            "blocks.0.ffn.receptance.weight           float32    cpu\n",
            "blocks.0.ffn.value.weight                float32    cpu\n",
            "..................................................................................................................................................................................................................................................................................................................\n",
            "ln_out.weight                            float32    cpu\n",
            "ln_out.bias                              float32    cpu\n",
            "head.weight                              float32    cpu\n",
            "/content\n"
          ]
        }
      ],
      "source": [
        "%cd SpikeGPT\n",
        "args = prepare_env()\n",
        "\n",
        "from src.utils import TOKENIZER\n",
        "from src.model_run import RWKV_RNN\n",
        "\n",
        "def load_embedding_weights(model_path, args):\n",
        "    # Return nn.Embedding with weights from SpikeGPT embedding\n",
        "    MODEL_NAME = model_path + 'SpikeGPT-216M'\n",
        "    args.MODEL_NAME = MODEL_NAME\n",
        "\n",
        "    # Load pretrained state\n",
        "    model = RWKV_RNN(args)\n",
        "\n",
        "    # Get embedding layer from the model\n",
        "    emb = nn.Embedding(num_embeddings=args.vocab_size, embedding_dim=args.n_embd)\n",
        "    emb.weight.data = model.w.emb.weight.data\n",
        "\n",
        "    return emb\n",
        "\n",
        "def load_tokenizer():\n",
        "    TOKEN_MODE = \"pile\"\n",
        "    WORD_NAME = [\n",
        "        \"20B_tokenizer.json\",\n",
        "        \"20B_tokenizer.json\",\n",
        "    ]  # [vocab, vocab] for Pile model\n",
        "    UNKNOWN_CHAR = None\n",
        "\n",
        "    tokenizer = TOKENIZER(WORD_NAME, UNKNOWN_CHAR=UNKNOWN_CHAR)\n",
        "    if TOKEN_MODE == \"pile\":\n",
        "        assert tokenizer.tokenizer.decode([187]) == '\\n'\n",
        "    return tokenizer\n",
        "\n",
        "\n",
        "def transform_text_pretrained_embedding(text, emb, tokenizer):\n",
        "    if tokenizer.charMode:\n",
        "        context = tokenizer.refine_context(text)\n",
        "        ctx = [tokenizer.stoi.get(s, tokenizer.UNKNOWN_CHAR) for s in text]\n",
        "    else:\n",
        "        ctx = tokenizer.tokenizer.encode(text)\n",
        "    # print(\"Number of tokens:\", len(ctx))\n",
        "\n",
        "    return emb(torch.tensor(ctx))\n",
        "\n",
        "\n",
        "emb = load_embedding_weights(\"/content/SpikeGPT-OpenWebText-216M/\", args)\n",
        "tokenizer = load_tokenizer()\n",
        "%cd .."
      ]
    },
    {
      "cell_type": "code",
      "execution_count": 4,
      "metadata": {
        "colab": {
          "base_uri": "https://localhost:8080/"
        },
        "id": "ZXREOSqOXVtM",
        "outputId": "af6c25e4-062c-40ef-cb5e-805508870946"
      },
      "outputs": [
        {
          "output_type": "execute_result",
          "data": {
            "text/plain": [
              "24"
            ]
          },
          "metadata": {},
          "execution_count": 4
        }
      ],
      "source": [
        "text = \"In a shocking finding, scientist discovered a herd of dragons living in a remote, previously unexplored valley, in Tibet.\"\n",
        "len(tokenizer.tokenizer.encode(text))"
      ]
    },
    {
      "cell_type": "code",
      "execution_count": 5,
      "metadata": {
        "colab": {
          "base_uri": "https://localhost:8080/"
        },
        "id": "dx1FzEl8MEch",
        "outputId": "75c7b5b3-5f76-4673-ab9b-a72f37948263"
      },
      "outputs": [
        {
          "output_type": "execute_result",
          "data": {
            "text/plain": [
              "torch.Size([24, 768])"
            ]
          },
          "metadata": {},
          "execution_count": 5
        }
      ],
      "source": [
        "text = \"In a shocking finding, scientist discovered a herd of dragons living in a remote, previously unexplored valley, in Tibet.\"\n",
        "result = transform_text_pretrained_embedding(text, emb, tokenizer)\n",
        "result.shape"
      ]
    },
    {
      "cell_type": "markdown",
      "metadata": {
        "id": "Yg-ONWh2IJVd"
      },
      "source": [
        "# Graph creation"
      ]
    },
    {
      "cell_type": "code",
      "execution_count": 7,
      "metadata": {
        "id": "zm5zvB4X07E1",
        "colab": {
          "base_uri": "https://localhost:8080/"
        },
        "outputId": "b8650819-0b2c-4a96-cf0f-e13e6823a945"
      },
      "outputs": [
        {
          "output_type": "stream",
          "name": "stdout",
          "text": [
            "Requirement already satisfied: gdown in /usr/local/lib/python3.10/dist-packages (4.6.6)\n",
            "Requirement already satisfied: filelock in /usr/local/lib/python3.10/dist-packages (from gdown) (3.13.1)\n",
            "Requirement already satisfied: requests[socks] in /usr/local/lib/python3.10/dist-packages (from gdown) (2.31.0)\n",
            "Requirement already satisfied: six in /usr/local/lib/python3.10/dist-packages (from gdown) (1.16.0)\n",
            "Requirement already satisfied: tqdm in /usr/local/lib/python3.10/dist-packages (from gdown) (4.66.1)\n",
            "Requirement already satisfied: beautifulsoup4 in /usr/local/lib/python3.10/dist-packages (from gdown) (4.11.2)\n",
            "Requirement already satisfied: soupsieve>1.2 in /usr/local/lib/python3.10/dist-packages (from beautifulsoup4->gdown) (2.5)\n",
            "Requirement already satisfied: charset-normalizer<4,>=2 in /usr/local/lib/python3.10/dist-packages (from requests[socks]->gdown) (3.3.2)\n",
            "Requirement already satisfied: idna<4,>=2.5 in /usr/local/lib/python3.10/dist-packages (from requests[socks]->gdown) (3.4)\n",
            "Requirement already satisfied: urllib3<3,>=1.21.1 in /usr/local/lib/python3.10/dist-packages (from requests[socks]->gdown) (2.0.7)\n",
            "Requirement already satisfied: certifi>=2017.4.17 in /usr/local/lib/python3.10/dist-packages (from requests[socks]->gdown) (2023.7.22)\n",
            "Requirement already satisfied: PySocks!=1.5.7,>=1.5.6 in /usr/local/lib/python3.10/dist-packages (from requests[socks]->gdown) (1.7.1)\n",
            "Requirement already satisfied: torch_geometric in /usr/local/lib/python3.10/dist-packages (2.4.0)\n",
            "Requirement already satisfied: tqdm in /usr/local/lib/python3.10/dist-packages (from torch_geometric) (4.66.1)\n",
            "Requirement already satisfied: numpy in /usr/local/lib/python3.10/dist-packages (from torch_geometric) (1.23.5)\n",
            "Requirement already satisfied: scipy in /usr/local/lib/python3.10/dist-packages (from torch_geometric) (1.11.3)\n",
            "Requirement already satisfied: jinja2 in /usr/local/lib/python3.10/dist-packages (from torch_geometric) (3.1.2)\n",
            "Requirement already satisfied: requests in /usr/local/lib/python3.10/dist-packages (from torch_geometric) (2.31.0)\n",
            "Requirement already satisfied: pyparsing in /usr/local/lib/python3.10/dist-packages (from torch_geometric) (3.1.1)\n",
            "Requirement already satisfied: scikit-learn in /usr/local/lib/python3.10/dist-packages (from torch_geometric) (1.2.2)\n",
            "Requirement already satisfied: psutil>=5.8.0 in /usr/local/lib/python3.10/dist-packages (from torch_geometric) (5.9.5)\n",
            "Requirement already satisfied: MarkupSafe>=2.0 in /usr/local/lib/python3.10/dist-packages (from jinja2->torch_geometric) (2.1.3)\n",
            "Requirement already satisfied: charset-normalizer<4,>=2 in /usr/local/lib/python3.10/dist-packages (from requests->torch_geometric) (3.3.2)\n",
            "Requirement already satisfied: idna<4,>=2.5 in /usr/local/lib/python3.10/dist-packages (from requests->torch_geometric) (3.4)\n",
            "Requirement already satisfied: urllib3<3,>=1.21.1 in /usr/local/lib/python3.10/dist-packages (from requests->torch_geometric) (2.0.7)\n",
            "Requirement already satisfied: certifi>=2017.4.17 in /usr/local/lib/python3.10/dist-packages (from requests->torch_geometric) (2023.7.22)\n",
            "Requirement already satisfied: joblib>=1.1.1 in /usr/local/lib/python3.10/dist-packages (from scikit-learn->torch_geometric) (1.3.2)\n",
            "Requirement already satisfied: threadpoolctl>=2.0.0 in /usr/local/lib/python3.10/dist-packages (from scikit-learn->torch_geometric) (3.2.0)\n"
          ]
        }
      ],
      "source": [
        "!pip install gdown\n",
        "!pip install torch_geometric"
      ]
    },
    {
      "cell_type": "code",
      "execution_count": 8,
      "metadata": {
        "colab": {
          "base_uri": "https://localhost:8080/"
        },
        "id": "JdbklB0iuA3x",
        "outputId": "34ff40bd-8583-4248-ac02-ec6568a3e03e"
      },
      "outputs": [
        {
          "output_type": "execute_result",
          "data": {
            "text/plain": [
              "['./webnlg/test.json',\n",
              " './webnlg/test.source',\n",
              " './webnlg/test.target',\n",
              " './webnlg/train.json',\n",
              " './webnlg/val.json']"
            ]
          },
          "metadata": {},
          "execution_count": 8
        }
      ],
      "source": [
        "import gdown\n",
        "\n",
        "url = \"https://drive.google.com/drive/folders/1Jx3Cz7t0hiNdtlBWUdPjhtLwPOH3LtzC\"\n",
        "output = './'\n",
        "\n",
        "gdown.download_folder(url, output = output, quiet = True)"
      ]
    },
    {
      "cell_type": "code",
      "execution_count": 9,
      "metadata": {
        "colab": {
          "base_uri": "https://localhost:8080/"
        },
        "id": "-5-GuAKz88NH",
        "outputId": "df9e3fed-769a-4dd4-d4d6-62cba23ebb6b"
      },
      "outputs": [
        {
          "output_type": "execute_result",
          "data": {
            "text/plain": [
              "{'W1016': ['California',\n",
              "  'California',\n",
              "  [['is part of', 'Anaheim, California']]],\n",
              " 'W1277': ['United States',\n",
              "  'United States',\n",
              "  [['location', 'United States House of Representatives']]],\n",
              " 'W3706': ['United States House of Representatives',\n",
              "  'United States House of Representatives',\n",
              "  [['leader title', 'Anaheim, California']]]}"
            ]
          },
          "metadata": {},
          "execution_count": 9
        }
      ],
      "source": [
        "import json\n",
        "file_dir = \"./webnlg/\"\n",
        "\n",
        "with open (file_dir + \"train.json\", \"r\") as f:\n",
        "    train_set = json.load(f)\n",
        "\n",
        "\n",
        "with open (file_dir + \"val.json\", \"r\") as f:\n",
        "    val_set = json.load(f)\n",
        "\n",
        "\n",
        "with open (file_dir + \"test.json\", \"r\") as f:\n",
        "    test_set = json.load(f)\n",
        "\n",
        "test_set[2]['kbs']"
      ]
    },
    {
      "cell_type": "code",
      "execution_count": 10,
      "metadata": {
        "colab": {
          "base_uri": "https://localhost:8080/"
        },
        "id": "RteVK-C3-bdW",
        "outputId": "09dd6516-785d-4aa9-9632-3f2946f6955e"
      },
      "outputs": [
        {
          "output_type": "execute_result",
          "data": {
            "text/plain": [
              "[['California', 'is part of', 'Anaheim, California'],\n",
              " ['United States', 'location', 'United States House of Representatives'],\n",
              " ['United States House of Representatives',\n",
              "  'leader title',\n",
              "  'Anaheim, California']]"
            ]
          },
          "metadata": {},
          "execution_count": 10
        }
      ],
      "source": [
        "def get_triplets(dataset_element):\n",
        "    triplets = []\n",
        "    for key, value in dataset_element['kbs'].items():\n",
        "        triplets.append([value[0]]+value[-1][0])\n",
        "    return triplets\n",
        "\n",
        "get_triplets(test_set[2])"
      ]
    },
    {
      "cell_type": "markdown",
      "metadata": {
        "id": "GUGt-YUFCUQz"
      },
      "source": [
        "Albany , Georgia is in the United States , a country led by the President of the United States and where the inhabitants are called Americans . One of the ethnic groups in the country are the African Americans"
      ]
    },
    {
      "cell_type": "code",
      "execution_count": 11,
      "metadata": {
        "id": "-j9EkTElDq4V"
      },
      "outputs": [],
      "source": [
        "import numpy as np\n",
        "import torch\n",
        "from torch_geometric.data import Data\n",
        "\n",
        "def get_tokens(nodes_list, averaging=False):\n",
        "    global emb, tokenizer\n",
        "    result = []\n",
        "    for el in nodes_list:\n",
        "        embeddings = transform_text_pretrained_embedding(el, emb, tokenizer)\n",
        "        result.append(embeddings.detach().tolist())\n",
        "    return result\n",
        "\n",
        "def replace_embedding(nodes_tokens):\n",
        "    global emb\n",
        "    res = []\n",
        "    for n in nodes_tokens:\n",
        "        res.append([])\n",
        "        for i in n:\n",
        "            print(i)\n",
        "            res[-1].append(emb(i))\n",
        "    return res\n",
        "\n",
        "def create_graph(triplets, text, with_text=True):\n",
        "    x = []\n",
        "    edge_index = []\n",
        "    y = text\n",
        "\n",
        "    for t in triplets:\n",
        "\n",
        "        # Create nodes as unique words\n",
        "        if t[0] not in x:\n",
        "            x.append(t[0])\n",
        "        if t[2] not in x:\n",
        "            x.append(t[2])\n",
        "\n",
        "        # Add edge\n",
        "        edge_index.append([x.index(t[0]), x.index(t[2])])\n",
        "\n",
        "    x = get_tokens(x, averaging=True)\n",
        "    k = 3\n",
        "    # print(len(x))\n",
        "    for i in range(len(x)):\n",
        "        if len(x[i]) < k:\n",
        "            x[i] += emb(torch.tensor( [1] * (k - len(x[i])))).detach().tolist()\n",
        "        else:\n",
        "            x[i] = x[i][:k]\n",
        "        x[i] = sum(x[i], [])\n",
        "    x = torch.tensor(x)\n",
        "\n",
        "    edge_index = np.array(edge_index).T\n",
        "    edge_index = torch.tensor(edge_index, dtype=torch.long)\n",
        "\n",
        "    # Do not store initial text for train sets\n",
        "    data = Data(x=x, edge_index=edge_index, edge_attr=edge_attr, y=y)\n",
        "    return data\n",
        "\n",
        "data = create_graph(get_triplets(test_set[0]), test_set[0]['text'][0], with_text=True)"
      ]
    },
    {
      "cell_type": "code",
      "execution_count": 13,
      "metadata": {
        "colab": {
          "base_uri": "https://localhost:8080/"
        },
        "id": "FKnURcgUTFza",
        "outputId": "53316c3c-2f07-4f3a-e3e5-7049897c383e"
      },
      "outputs": [
        {
          "output_type": "execute_result",
          "data": {
            "text/plain": [
              "[['Pakistan', 'location', 'Allama Iqbal International Airport'],\n",
              " ['2900.0', 'runway length', 'Allama Iqbal International Airport'],\n",
              " ['Pakistan Civil Aviation Authority',\n",
              "  'operating organisation',\n",
              "  'Allama Iqbal International Airport'],\n",
              " ['Lahore', 'city served', 'Allama Iqbal International Airport']]"
            ]
          },
          "metadata": {},
          "execution_count": 13
        }
      ],
      "source": [
        "get_triplets(test_set[0])"
      ]
    },
    {
      "cell_type": "code",
      "execution_count": 14,
      "metadata": {
        "id": "pomhrp18UGiw"
      },
      "outputs": [],
      "source": [
        "import torch\n",
        "from torch_geometric.data import InMemoryDataset, download_url\n",
        "import json\n",
        "\n",
        "class GraphDataset(InMemoryDataset):\n",
        "    def __init__(self, root, file_path, transform=None, pre_transform=None, pre_filter=None):\n",
        "        self.file_path = file_path\n",
        "        super().__init__(root, transform, pre_transform, pre_filter)\n",
        "        self.load(self.processed_paths[0])\n",
        "\n",
        "    @property\n",
        "    def raw_file_names(self):\n",
        "        return [self.file_path]\n",
        "\n",
        "    @property\n",
        "    def processed_file_names(self):\n",
        "        return [\".\".join(self.file_path.split(\".\")[:-1])+\".pt\"]\n",
        "\n",
        "    def download(self):\n",
        "        # Download to `self.raw_dir`.\n",
        "        if \".pt\" not in self.raw_file_names[0]:\n",
        "            with open (self.raw_file_names[0], \"r\") as f:\n",
        "                return json.load(f)\n",
        "        else:\n",
        "            return torch.load(\"processed/\"+self.raw_file_names[0])\n",
        "\n",
        "    def process(self):\n",
        "        # Read data into huge `Data` list.\n",
        "        data_list = []\n",
        "\n",
        "        if \".pt\" in self.raw_file_names[0]:\n",
        "            return\n",
        "        data  = self.download()\n",
        "        for datapoint in data:\n",
        "            data_list.append(create_graph(get_triplets(datapoint), datapoint['text'][0]))\n",
        "        # print(\"processing\")\n",
        "        if self.pre_filter is not None:\n",
        "            data_list = [data for data in data_list if self.pre_filter(data)]\n",
        "\n",
        "        if self.pre_transform is not None:\n",
        "            data_list = [self.pre_transform(data) for data in data_list]\n",
        "\n",
        "        self.save(data_list, self.processed_paths[0])"
      ]
    },
    {
      "cell_type": "code",
      "execution_count": null,
      "metadata": {
        "id": "GhMaT-xD2wQf"
      },
      "outputs": [],
      "source": [
        "%mkdir processed\n",
        "%mkdir processed/webnlg\n",
        "\n",
        "val_dataset = GraphDataset(\"./\", \"webnlg/val.json\")\n",
        "train_dataset = GraphDataset(\"./\", \"webnlg/train.json\")\n",
        "test_dataset = GraphDataset(\"./\", \"webnlg/test.json\")"
      ]
    },
    {
      "cell_type": "code",
      "execution_count": 16,
      "metadata": {
        "colab": {
          "base_uri": "https://localhost:8080/"
        },
        "id": "SSG0m3zSfbGL",
        "outputId": "581bbb7b-afca-4c59-dc8c-758e3cd86e10"
      },
      "outputs": [
        {
          "output_type": "execute_result",
          "data": {
            "text/plain": [
              "9"
            ]
          },
          "metadata": {},
          "execution_count": 16
        }
      ],
      "source": [
        "import gc\n",
        "gc.collect()"
      ]
    },
    {
      "cell_type": "code",
      "execution_count": 17,
      "metadata": {
        "colab": {
          "base_uri": "https://localhost:8080/"
        },
        "id": "lZlaEI9KMoDh",
        "outputId": "713df720-082d-43eb-ef28-0b7873d66259"
      },
      "outputs": [
        {
          "output_type": "execute_result",
          "data": {
            "text/plain": [
              "torch.Size([4, 2304])"
            ]
          },
          "metadata": {},
          "execution_count": 17
        }
      ],
      "source": [
        "val_dataset[0].x.shape"
      ]
    },
    {
      "cell_type": "markdown",
      "source": [
        "## Graph visualization"
      ],
      "metadata": {
        "id": "gU_-4rFFRMli"
      }
    },
    {
      "cell_type": "code",
      "source": [
        "import numpy as np\n",
        "import torch\n",
        "from torch_geometric.data import Data\n",
        "import torch_geometric\n",
        "import networkx as nx\n",
        "\n",
        "def get_tokens(nodes_list, averaging=False):\n",
        "    global emb, tokenizer\n",
        "    result = []\n",
        "    for el in nodes_list:\n",
        "        embeddings = transform_text_pretrained_embedding(el, emb, tokenizer)\n",
        "        result.append(embeddings.detach().tolist())\n",
        "    return result\n",
        "\n",
        "def replace_embedding(nodes_tokens):\n",
        "    global emb\n",
        "    res = []\n",
        "    for n in nodes_tokens:\n",
        "        res.append([])\n",
        "        for i in n:\n",
        "            print(i)\n",
        "            res[-1].append(emb(i))\n",
        "    return res\n",
        "\n",
        "def create_graph_in_text(triplets, text):\n",
        "    x = []\n",
        "    edge_index = []\n",
        "    edge_attr = []\n",
        "    y = text\n",
        "\n",
        "    for t in triplets:\n",
        "\n",
        "        # Create nodes as unique words\n",
        "        if t[0] not in x:\n",
        "            x.append(t[0])\n",
        "        if t[2] not in x:\n",
        "            x.append(t[2])\n",
        "\n",
        "        # Add edge\n",
        "        ind1, ind2 = x.index(t[0]), x.index(t[2])\n",
        "        edge_index.append([min(ind1, ind2), max(ind1, ind2)])\n",
        "\n",
        "        # Add edge attribute\n",
        "        edge_attr.append(t[1])\n",
        "\n",
        "    edge_index = np.array(edge_index).T\n",
        "    edge_index = torch.tensor(edge_index, dtype=torch.long)\n",
        "\n",
        "    # Do not store initial text for train sets\n",
        "    data = Data(x=x, edge_index=edge_index, edge_attr=edge_attr, y=text)\n",
        "    return data\n",
        "\n",
        "def draw_graph(graph):\n",
        "    data = create_graph_in_text(get_triplets(graph),graph['text'][0])\n",
        "    g = torch_geometric.utils.to_networkx(data, to_undirected=True)\n",
        "    nx.draw_shell(g, labels={i:p for i, p in enumerate(data.x)})\n",
        "\n",
        "draw_graph(test_set[2])"
      ],
      "metadata": {
        "colab": {
          "base_uri": "https://localhost:8080/",
          "height": 516
        },
        "id": "zDP4Xmn2OOjf",
        "outputId": "50cda573-4463-4d60-b317-64c31a6d92d5"
      },
      "execution_count": null,
      "outputs": [
        {
          "output_type": "display_data",
          "data": {
            "text/plain": [
              "<Figure size 640x480 with 1 Axes>"
            ],
            "image/png": "[encoded data removed]"
          },
          "metadata": {}
        }
      ]
    }
  ],
  "metadata": {
    "colab": {
      "collapsed_sections": [
        "sD5nQk1XIMZL",
        "3UkudSTLbq7i",
        "TVJAAwuRRuT1",
        "fyHlgD4lXix2",
        "QIEAgDWVEqSn"
      ],
      "provenance": [],
      "gpuType": "T4"
    },
    "kernelspec": {
      "display_name": "Python 3",
      "name": "python3"
    },
    "language_info": {
      "codemirror_mode": {
        "name": "ipython",
        "version": 3
      },
      "file_extension": ".py",
      "mimetype": "text/x-python",
      "name": "python",
      "nbconvert_exporter": "python",
      "pygments_lexer": "ipython3",
      "version": "3.9.5"
    },
    "accelerator": "GPU"
  },
  "nbformat": 4,
  "nbformat_minor": 0
}