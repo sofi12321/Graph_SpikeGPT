{
  "cells": [
    {
      "cell_type": "markdown",
      "metadata": {
        "id": "sD5nQk1XIMZL"
      },
      "source": [
        "## Embedding preparing\n",
        "\n",
        "Load embedding from SpikeGPT"
      ]
    },
    {
      "cell_type": "code",
      "execution_count": 1,
      "metadata": {
        "colab": {
          "base_uri": "https://localhost:8080/"
        },
        "id": "dGQpyuIK0Lgn",
        "outputId": "92574480-f5b1-4e6f-c1cb-ec0611bc61de"
      },
      "outputs": [
        {
          "output_type": "stream",
          "name": "stdout",
          "text": [
            "Cloning into 'SpikeGPT-OpenWebText-216M'...\n",
            "remote: Enumerating objects: 13, done.\u001b[K\n",
            "remote: Total 13 (delta 0), reused 0 (delta 0), pack-reused 13\u001b[K\n",
            "Unpacking objects: 100% (13/13), 1.51 KiB | 257.00 KiB/s, done.\n",
            "Cloning into 'SpikeGPT'...\n",
            "remote: Enumerating objects: 267, done.\u001b[K\n",
            "remote: Counting objects: 100% (80/80), done.\u001b[K\n",
            "remote: Compressing objects: 100% (73/73), done.\u001b[K\n",
            "remote: Total 267 (delta 47), reused 15 (delta 7), pack-reused 187\u001b[K\n",
            "Receiving objects: 100% (267/267), 1.28 MiB | 5.10 MiB/s, done.\n",
            "Resolving deltas: 100% (104/104), done.\n",
            "Requirement already satisfied: torch in /usr/local/lib/python3.10/dist-packages (2.1.0+cu118)\n",
            "Requirement already satisfied: matplotlib in /usr/local/lib/python3.10/dist-packages (3.7.1)\n",
            "Requirement already satisfied: numpy in /usr/local/lib/python3.10/dist-packages (1.23.5)\n",
            "Requirement already satisfied: tqdm in /usr/local/lib/python3.10/dist-packages (4.66.1)\n",
            "Requirement already satisfied: torchvision in /usr/local/lib/python3.10/dist-packages (0.16.0+cu118)\n",
            "Requirement already satisfied: scipy in /usr/local/lib/python3.10/dist-packages (1.11.3)\n",
            "Collecting ninja\n",
            "  Downloading ninja-1.11.1.1-py2.py3-none-manylinux1_x86_64.manylinux_2_5_x86_64.whl (307 kB)\n",
            "\u001b[2K     \u001b[90m━━━━━━━━━━━━━━━━━━━━━━━━━━━━━━━━━━━━━━━━\u001b[0m \u001b[32m307.2/307.2 kB\u001b[0m \u001b[31m4.8 MB/s\u001b[0m eta \u001b[36m0:00:00\u001b[0m\n",
            "\u001b[?25hCollecting accelerate\n",
            "  Downloading accelerate-0.24.1-py3-none-any.whl (261 kB)\n",
            "\u001b[2K     \u001b[90m━━━━━━━━━━━━━━━━━━━━━━━━━━━━━━━━━━━━━━━━\u001b[0m \u001b[32m261.4/261.4 kB\u001b[0m \u001b[31m29.8 MB/s\u001b[0m eta \u001b[36m0:00:00\u001b[0m\n",
            "\u001b[?25hRequirement already satisfied: transformers in /usr/local/lib/python3.10/dist-packages (4.35.2)\n",
            "Collecting torch_geometric\n",
            "  Downloading torch_geometric-2.4.0-py3-none-any.whl (1.0 MB)\n",
            "\u001b[2K     \u001b[90m━━━━━━━━━━━━━━━━━━━━━━━━━━━━━━━━━━━━━━━━\u001b[0m \u001b[32m1.0/1.0 MB\u001b[0m \u001b[31m53.9 MB/s\u001b[0m eta \u001b[36m0:00:00\u001b[0m\n",
            "\u001b[?25hRequirement already satisfied: filelock in /usr/local/lib/python3.10/dist-packages (from torch) (3.13.1)\n",
            "Requirement already satisfied: typing-extensions in /usr/local/lib/python3.10/dist-packages (from torch) (4.5.0)\n",
            "Requirement already satisfied: sympy in /usr/local/lib/python3.10/dist-packages (from torch) (1.12)\n",
            "Requirement already satisfied: networkx in /usr/local/lib/python3.10/dist-packages (from torch) (3.2.1)\n",
            "Requirement already satisfied: jinja2 in /usr/local/lib/python3.10/dist-packages (from torch) (3.1.2)\n",
            "Requirement already satisfied: fsspec in /usr/local/lib/python3.10/dist-packages (from torch) (2023.6.0)\n",
            "Requirement already satisfied: triton==2.1.0 in /usr/local/lib/python3.10/dist-packages (from torch) (2.1.0)\n",
            "Requirement already satisfied: contourpy>=1.0.1 in /usr/local/lib/python3.10/dist-packages (from matplotlib) (1.2.0)\n",
            "Requirement already satisfied: cycler>=0.10 in /usr/local/lib/python3.10/dist-packages (from matplotlib) (0.12.1)\n",
            "Requirement already satisfied: fonttools>=4.22.0 in /usr/local/lib/python3.10/dist-packages (from matplotlib) (4.44.3)\n",
            "Requirement already satisfied: kiwisolver>=1.0.1 in /usr/local/lib/python3.10/dist-packages (from matplotlib) (1.4.5)\n",
            "Requirement already satisfied: packaging>=20.0 in /usr/local/lib/python3.10/dist-packages (from matplotlib) (23.2)\n",
            "Requirement already satisfied: pillow>=6.2.0 in /usr/local/lib/python3.10/dist-packages (from matplotlib) (9.4.0)\n",
            "Requirement already satisfied: pyparsing>=2.3.1 in /usr/local/lib/python3.10/dist-packages (from matplotlib) (3.1.1)\n",
            "Requirement already satisfied: python-dateutil>=2.7 in /usr/local/lib/python3.10/dist-packages (from matplotlib) (2.8.2)\n",
            "Requirement already satisfied: requests in /usr/local/lib/python3.10/dist-packages (from torchvision) (2.31.0)\n",
            "Requirement already satisfied: psutil in /usr/local/lib/python3.10/dist-packages (from accelerate) (5.9.5)\n",
            "Requirement already satisfied: pyyaml in /usr/local/lib/python3.10/dist-packages (from accelerate) (6.0.1)\n",
            "Requirement already satisfied: huggingface-hub in /usr/local/lib/python3.10/dist-packages (from accelerate) (0.19.4)\n",
            "Requirement already satisfied: regex!=2019.12.17 in /usr/local/lib/python3.10/dist-packages (from transformers) (2023.6.3)\n",
            "Requirement already satisfied: tokenizers<0.19,>=0.14 in /usr/local/lib/python3.10/dist-packages (from transformers) (0.15.0)\n",
            "Requirement already satisfied: safetensors>=0.3.1 in /usr/local/lib/python3.10/dist-packages (from transformers) (0.4.0)\n",
            "Requirement already satisfied: scikit-learn in /usr/local/lib/python3.10/dist-packages (from torch_geometric) (1.2.2)\n",
            "Requirement already satisfied: six>=1.5 in /usr/local/lib/python3.10/dist-packages (from python-dateutil>=2.7->matplotlib) (1.16.0)\n",
            "Requirement already satisfied: MarkupSafe>=2.0 in /usr/local/lib/python3.10/dist-packages (from jinja2->torch) (2.1.3)\n",
            "Requirement already satisfied: charset-normalizer<4,>=2 in /usr/local/lib/python3.10/dist-packages (from requests->torchvision) (3.3.2)\n",
            "Requirement already satisfied: idna<4,>=2.5 in /usr/local/lib/python3.10/dist-packages (from requests->torchvision) (3.4)\n",
            "Requirement already satisfied: urllib3<3,>=1.21.1 in /usr/local/lib/python3.10/dist-packages (from requests->torchvision) (2.0.7)\n",
            "Requirement already satisfied: certifi>=2017.4.17 in /usr/local/lib/python3.10/dist-packages (from requests->torchvision) (2023.7.22)\n",
            "Requirement already satisfied: joblib>=1.1.1 in /usr/local/lib/python3.10/dist-packages (from scikit-learn->torch_geometric) (1.3.2)\n",
            "Requirement already satisfied: threadpoolctl>=2.0.0 in /usr/local/lib/python3.10/dist-packages (from scikit-learn->torch_geometric) (3.2.0)\n",
            "Requirement already satisfied: mpmath>=0.19 in /usr/local/lib/python3.10/dist-packages (from sympy->torch) (1.3.0)\n",
            "Installing collected packages: ninja, torch_geometric, accelerate\n",
            "Successfully installed accelerate-0.24.1 ninja-1.11.1.1 torch_geometric-2.4.0\n"
          ]
        }
      ],
      "source": [
        "# Clone needed data and repositories\n",
        "!git clone https://huggingface.co/ridger/SpikeGPT-OpenWebText-216M\n",
        "!git clone https://github.com/ridgerchu/SpikeGPT.git\n",
        "!pip install torch matplotlib numpy tqdm torchvision scipy ninja accelerate transformers torch_geometric\n"
      ]
    },
    {
      "cell_type": "code",
      "execution_count": 2,
      "metadata": {
        "id": "wJIbnk6H0Lgo"
      },
      "outputs": [],
      "source": [
        "import matplotlib.ticker as ticker\n",
        "import numpy as np\n",
        "import math, os, sys, types, time, gc\n",
        "import torch\n",
        "from torch import nn\n",
        "\n",
        "def prepare_env():\n",
        "    try:\n",
        "        os.environ[\"CUDA_VISIBLE_DEVICES\"] = sys.argv[1]\n",
        "    except:\n",
        "        pass\n",
        "    torch.backends.cudnn.benchmark = True\n",
        "    torch.backends.cudnn.allow_tf32 = True\n",
        "    torch.backends.cuda.matmul.allow_tf32 = True\n",
        "    np.set_printoptions(precision=4, suppress=True, linewidth=200)\n",
        "    args = types.SimpleNamespace()\n",
        "\n",
        "    args.RUN_DEVICE = \"cpu\" # 'cuda' // 'cpu' (already fast)\n",
        "    args.FLOAT_MODE = \"fp32\" # fp16 (good for GPU, does not work for CPU) // fp32 (good for CPU) // bf16 (less accurate, but works for CPU)\n",
        "    os.environ[\"RWKV_JIT_ON\"] = '1' # '1' or '0'. very useful for GPU/CPU fp32, but might be harmful for GPU fp16. please benchmark !!!\n",
        "    vocab_size = 50277\n",
        "\n",
        "    # MODEL_NAME = model_path + 'SpikeGPT-216M'\n",
        "    n_layer = 18\n",
        "    n_embd = 768\n",
        "    ctx_len = 1024\n",
        "\n",
        "    # args.MODEL_NAME = MODEL_NAME\n",
        "    args.n_layer = n_layer\n",
        "    args.n_embd = n_embd\n",
        "    args.ctx_len = ctx_len\n",
        "    args.vocab_size = vocab_size\n",
        "    args.head_qk = 0\n",
        "    args.pre_ffn = 0\n",
        "    args.grad_cp = 0\n",
        "    args.my_pos_emb = 0\n",
        "    os.environ[\"RWKV_RUN_DEVICE\"] = args.RUN_DEVICE\n",
        "    return args"
      ]
    },
    {
      "cell_type": "code",
      "execution_count": 3,
      "metadata": {
        "colab": {
          "base_uri": "https://localhost:8080/"
        },
        "id": "zurQmRLc0Lgo",
        "outputId": "44bf0878-728a-4616-bcc6-cb27a8523e4b"
      },
      "outputs": [
        {
          "output_type": "stream",
          "name": "stdout",
          "text": [
            "/content/SpikeGPT\n",
            "\n",
            "RWKV_HEAD_QK_DIM 0 RWKV_JIT_ON 1\n",
            "\n",
            "emb.weight                               float32    cpu\n",
            "blocks.0.ln1.weight                      float32    cpu\n",
            "blocks.0.ln1.bias                        float32    cpu\n",
            "blocks.0.ln2.weight                      float32    cpu\n",
            "blocks.0.ln2.bias                        float32    cpu\n",
            "blocks.0.ln0.weight                      float32    cpu\n",
            "blocks.0.ln0.bias                        float32    cpu\n",
            "blocks.0.att.time_decay                  float32    cpu\n",
            "blocks.0.att.time_first                  float32    cpu\n",
            "blocks.0.att.time_mix_k                  float32    cpu\n",
            "blocks.0.att.time_mix_v                  float32    cpu\n",
            "blocks.0.att.time_mix_r                  float32    cpu\n",
            "blocks.0.att.key.weight                  float32    cpu\n",
            "blocks.0.att.value.weight                float32    cpu\n",
            "blocks.0.att.receptance.weight           float32    cpu\n",
            "blocks.0.att.output.weight               float32    cpu\n",
            "blocks.0.ffn.time_mix_k                  float32    cpu\n",
            "blocks.0.ffn.time_mix_r                  float32    cpu\n",
            "blocks.0.ffn.key.weight                  float32    cpu\n",
            "blocks.0.ffn.receptance.weight           float32    cpu\n",
            "blocks.0.ffn.value.weight                float32    cpu\n",
            "..................................................................................................................................................................................................................................................................................................................\n",
            "ln_out.weight                            float32    cpu\n",
            "ln_out.bias                              float32    cpu\n",
            "head.weight                              float32    cpu\n",
            "/content\n"
          ]
        }
      ],
      "source": [
        "%cd SpikeGPT\n",
        "args = prepare_env()\n",
        "\n",
        "from src.utils import TOKENIZER\n",
        "from src.model_run import RWKV_RNN\n",
        "\n",
        "def load_embedding_weights(model_path, args):\n",
        "    # Return nn.Embedding with weights from SpikeGPT embedding\n",
        "    MODEL_NAME = model_path + 'SpikeGPT-216M'\n",
        "    args.MODEL_NAME = MODEL_NAME\n",
        "\n",
        "    # Load pretrained state\n",
        "    model = RWKV_RNN(args)\n",
        "\n",
        "    # Get embedding layer from the model\n",
        "    emb = nn.Embedding(num_embeddings=args.vocab_size, embedding_dim=args.n_embd)\n",
        "    emb.weight.data = model.w.emb.weight.data\n",
        "\n",
        "    return emb\n",
        "\n",
        "def load_tokenizer():\n",
        "    TOKEN_MODE = \"pile\"\n",
        "    WORD_NAME = [\n",
        "        \"20B_tokenizer.json\",\n",
        "        \"20B_tokenizer.json\",\n",
        "    ]  # [vocab, vocab] for Pile model\n",
        "    UNKNOWN_CHAR = None\n",
        "\n",
        "    tokenizer = TOKENIZER(WORD_NAME, UNKNOWN_CHAR=UNKNOWN_CHAR)\n",
        "    if TOKEN_MODE == \"pile\":\n",
        "        assert tokenizer.tokenizer.decode([187]) == '\\n'\n",
        "    return tokenizer\n",
        "\n",
        "\n",
        "def transform_text_pretrained_embedding(text, emb, tokenizer):\n",
        "    if tokenizer.charMode:\n",
        "        context = tokenizer.refine_context(text)\n",
        "        ctx = [tokenizer.stoi.get(s, tokenizer.UNKNOWN_CHAR) for s in text]\n",
        "    else:\n",
        "        ctx = tokenizer.tokenizer.encode(text)\n",
        "    # print(\"Number of tokens:\", len(ctx))\n",
        "\n",
        "    return emb(torch.tensor(ctx))\n",
        "\n",
        "\n",
        "emb = load_embedding_weights(\"/content/SpikeGPT-OpenWebText-216M/\", args)\n",
        "tokenizer = load_tokenizer()\n",
        "%cd .."
      ]
    },
    {
      "cell_type": "code",
      "execution_count": 4,
      "metadata": {
        "colab": {
          "base_uri": "https://localhost:8080/"
        },
        "id": "ZXREOSqOXVtM",
        "outputId": "af6c25e4-062c-40ef-cb5e-805508870946"
      },
      "outputs": [
        {
          "output_type": "execute_result",
          "data": {
            "text/plain": [
              "24"
            ]
          },
          "metadata": {},
          "execution_count": 4
        }
      ],
      "source": [
        "text = \"In a shocking finding, scientist discovered a herd of dragons living in a remote, previously unexplored valley, in Tibet.\"\n",
        "len(tokenizer.tokenizer.encode(text))"
      ]
    },
    {
      "cell_type": "code",
      "execution_count": 5,
      "metadata": {
        "colab": {
          "base_uri": "https://localhost:8080/"
        },
        "id": "dx1FzEl8MEch",
        "outputId": "75c7b5b3-5f76-4673-ab9b-a72f37948263"
      },
      "outputs": [
        {
          "output_type": "execute_result",
          "data": {
            "text/plain": [
              "torch.Size([24, 768])"
            ]
          },
          "metadata": {},
          "execution_count": 5
        }
      ],
      "source": [
        "text = \"In a shocking finding, scientist discovered a herd of dragons living in a remote, previously unexplored valley, in Tibet.\"\n",
        "result = transform_text_pretrained_embedding(text, emb, tokenizer)\n",
        "result.shape"
      ]
    },
    {
      "cell_type": "markdown",
      "metadata": {
        "id": "Yg-ONWh2IJVd"
      },
      "source": [
        "# Graph creation"
      ]
    },
    {
      "cell_type": "code",
      "execution_count": 7,
      "metadata": {
        "id": "zm5zvB4X07E1",
        "colab": {
          "base_uri": "https://localhost:8080/"
        },
        "outputId": "b8650819-0b2c-4a96-cf0f-e13e6823a945"
      },
      "outputs": [
        {
          "output_type": "stream",
          "name": "stdout",
          "text": [
            "Requirement already satisfied: gdown in /usr/local/lib/python3.10/dist-packages (4.6.6)\n",
            "Requirement already satisfied: filelock in /usr/local/lib/python3.10/dist-packages (from gdown) (3.13.1)\n",
            "Requirement already satisfied: requests[socks] in /usr/local/lib/python3.10/dist-packages (from gdown) (2.31.0)\n",
            "Requirement already satisfied: six in /usr/local/lib/python3.10/dist-packages (from gdown) (1.16.0)\n",
            "Requirement already satisfied: tqdm in /usr/local/lib/python3.10/dist-packages (from gdown) (4.66.1)\n",
            "Requirement already satisfied: beautifulsoup4 in /usr/local/lib/python3.10/dist-packages (from gdown) (4.11.2)\n",
            "Requirement already satisfied: soupsieve>1.2 in /usr/local/lib/python3.10/dist-packages (from beautifulsoup4->gdown) (2.5)\n",
            "Requirement already satisfied: charset-normalizer<4,>=2 in /usr/local/lib/python3.10/dist-packages (from requests[socks]->gdown) (3.3.2)\n",
            "Requirement already satisfied: idna<4,>=2.5 in /usr/local/lib/python3.10/dist-packages (from requests[socks]->gdown) (3.4)\n",
            "Requirement already satisfied: urllib3<3,>=1.21.1 in /usr/local/lib/python3.10/dist-packages (from requests[socks]->gdown) (2.0.7)\n",
            "Requirement already satisfied: certifi>=2017.4.17 in /usr/local/lib/python3.10/dist-packages (from requests[socks]->gdown) (2023.7.22)\n",
            "Requirement already satisfied: PySocks!=1.5.7,>=1.5.6 in /usr/local/lib/python3.10/dist-packages (from requests[socks]->gdown) (1.7.1)\n",
            "Requirement already satisfied: torch_geometric in /usr/local/lib/python3.10/dist-packages (2.4.0)\n",
            "Requirement already satisfied: tqdm in /usr/local/lib/python3.10/dist-packages (from torch_geometric) (4.66.1)\n",
            "Requirement already satisfied: numpy in /usr/local/lib/python3.10/dist-packages (from torch_geometric) (1.23.5)\n",
            "Requirement already satisfied: scipy in /usr/local/lib/python3.10/dist-packages (from torch_geometric) (1.11.3)\n",
            "Requirement already satisfied: jinja2 in /usr/local/lib/python3.10/dist-packages (from torch_geometric) (3.1.2)\n",
            "Requirement already satisfied: requests in /usr/local/lib/python3.10/dist-packages (from torch_geometric) (2.31.0)\n",
            "Requirement already satisfied: pyparsing in /usr/local/lib/python3.10/dist-packages (from torch_geometric) (3.1.1)\n",
            "Requirement already satisfied: scikit-learn in /usr/local/lib/python3.10/dist-packages (from torch_geometric) (1.2.2)\n",
            "Requirement already satisfied: psutil>=5.8.0 in /usr/local/lib/python3.10/dist-packages (from torch_geometric) (5.9.5)\n",
            "Requirement already satisfied: MarkupSafe>=2.0 in /usr/local/lib/python3.10/dist-packages (from jinja2->torch_geometric) (2.1.3)\n",
            "Requirement already satisfied: charset-normalizer<4,>=2 in /usr/local/lib/python3.10/dist-packages (from requests->torch_geometric) (3.3.2)\n",
            "Requirement already satisfied: idna<4,>=2.5 in /usr/local/lib/python3.10/dist-packages (from requests->torch_geometric) (3.4)\n",
            "Requirement already satisfied: urllib3<3,>=1.21.1 in /usr/local/lib/python3.10/dist-packages (from requests->torch_geometric) (2.0.7)\n",
            "Requirement already satisfied: certifi>=2017.4.17 in /usr/local/lib/python3.10/dist-packages (from requests->torch_geometric) (2023.7.22)\n",
            "Requirement already satisfied: joblib>=1.1.1 in /usr/local/lib/python3.10/dist-packages (from scikit-learn->torch_geometric) (1.3.2)\n",
            "Requirement already satisfied: threadpoolctl>=2.0.0 in /usr/local/lib/python3.10/dist-packages (from scikit-learn->torch_geometric) (3.2.0)\n"
          ]
        }
      ],
      "source": [
        "!pip install gdown\n",
        "!pip install torch_geometric"
      ]
    },
    {
      "cell_type": "code",
      "execution_count": 8,
      "metadata": {
        "colab": {
          "base_uri": "https://localhost:8080/"
        },
        "id": "JdbklB0iuA3x",
        "outputId": "34ff40bd-8583-4248-ac02-ec6568a3e03e"
      },
      "outputs": [
        {
          "output_type": "execute_result",
          "data": {
            "text/plain": [
              "['./webnlg/test.json',\n",
              " './webnlg/test.source',\n",
              " './webnlg/test.target',\n",
              " './webnlg/train.json',\n",
              " './webnlg/val.json']"
            ]
          },
          "metadata": {},
          "execution_count": 8
        }
      ],
      "source": [
        "import gdown\n",
        "\n",
        "url = \"https://drive.google.com/drive/folders/1Jx3Cz7t0hiNdtlBWUdPjhtLwPOH3LtzC\"\n",
        "output = './'\n",
        "\n",
        "gdown.download_folder(url, output = output, quiet = True)"
      ]
    },
    {
      "cell_type": "code",
      "execution_count": 9,
      "metadata": {
        "colab": {
          "base_uri": "https://localhost:8080/"
        },
        "id": "-5-GuAKz88NH",
        "outputId": "df9e3fed-769a-4dd4-d4d6-62cba23ebb6b"
      },
      "outputs": [
        {
          "output_type": "execute_result",
          "data": {
            "text/plain": [
              "{'W1016': ['California',\n",
              "  'California',\n",
              "  [['is part of', 'Anaheim, California']]],\n",
              " 'W1277': ['United States',\n",
              "  'United States',\n",
              "  [['location', 'United States House of Representatives']]],\n",
              " 'W3706': ['United States House of Representatives',\n",
              "  'United States House of Representatives',\n",
              "  [['leader title', 'Anaheim, California']]]}"
            ]
          },
          "metadata": {},
          "execution_count": 9
        }
      ],
      "source": [
        "import json\n",
        "file_dir = \"./webnlg/\"\n",
        "\n",
        "with open (file_dir + \"train.json\", \"r\") as f:\n",
        "    train_set = json.load(f)\n",
        "\n",
        "\n",
        "with open (file_dir + \"val.json\", \"r\") as f:\n",
        "    val_set = json.load(f)\n",
        "\n",
        "\n",
        "with open (file_dir + \"test.json\", \"r\") as f:\n",
        "    test_set = json.load(f)\n",
        "\n",
        "test_set[2]['kbs']"
      ]
    },
    {
      "cell_type": "code",
      "execution_count": 10,
      "metadata": {
        "colab": {
          "base_uri": "https://localhost:8080/"
        },
        "id": "RteVK-C3-bdW",
        "outputId": "09dd6516-785d-4aa9-9632-3f2946f6955e"
      },
      "outputs": [
        {
          "output_type": "execute_result",
          "data": {
            "text/plain": [
              "[['California', 'is part of', 'Anaheim, California'],\n",
              " ['United States', 'location', 'United States House of Representatives'],\n",
              " ['United States House of Representatives',\n",
              "  'leader title',\n",
              "  'Anaheim, California']]"
            ]
          },
          "metadata": {},
          "execution_count": 10
        }
      ],
      "source": [
        "def get_triplets(dataset_element):\n",
        "    triplets = []\n",
        "    for key, value in dataset_element['kbs'].items():\n",
        "        triplets.append([value[0]]+value[-1][0])\n",
        "    return triplets\n",
        "\n",
        "get_triplets(test_set[2])"
      ]
    },
    {
      "cell_type": "markdown",
      "metadata": {
        "id": "GUGt-YUFCUQz"
      },
      "source": [
        "Albany , Georgia is in the United States , a country led by the President of the United States and where the inhabitants are called Americans . One of the ethnic groups in the country are the African Americans"
      ]
    },
    {
      "cell_type": "code",
      "execution_count": 11,
      "metadata": {
        "id": "-j9EkTElDq4V"
      },
      "outputs": [],
      "source": [
        "import numpy as np\n",
        "import torch\n",
        "from torch_geometric.data import Data\n",
        "\n",
        "def get_tokens(nodes_list, averaging=False):\n",
        "    global emb, tokenizer\n",
        "    result = []\n",
        "    for el in nodes_list:\n",
        "        embeddings = transform_text_pretrained_embedding(el, emb, tokenizer)\n",
        "        result.append(embeddings.detach().tolist())\n",
        "    return result\n",
        "\n",
        "def replace_embedding(nodes_tokens):\n",
        "    global emb\n",
        "    res = []\n",
        "    for n in nodes_tokens:\n",
        "        res.append([])\n",
        "        for i in n:\n",
        "            print(i)\n",
        "            res[-1].append(emb(i))\n",
        "    return res\n",
        "\n",
        "def create_graph(triplets, text, with_text=True):\n",
        "    x = []\n",
        "    edge_index = []\n",
        "    y = text\n",
        "\n",
        "    for t in triplets:\n",
        "\n",
        "        # Create nodes as unique words\n",
        "        if t[0] not in x:\n",
        "            x.append(t[0])\n",
        "        if t[2] not in x:\n",
        "            x.append(t[2])\n",
        "\n",
        "        # Add edge\n",
        "        edge_index.append([x.index(t[0]), x.index(t[2])])\n",
        "\n",
        "    x = get_tokens(x, averaging=True)\n",
        "    k = 3\n",
        "    # print(len(x))\n",
        "    for i in range(len(x)):\n",
        "        if len(x[i]) < k:\n",
        "            x[i] += emb(torch.tensor( [1] * (k - len(x[i])))).detach().tolist()\n",
        "        else:\n",
        "            x[i] = x[i][:k]\n",
        "        x[i] = sum(x[i], [])\n",
        "    x = torch.tensor(x)\n",
        "\n",
        "    edge_index = np.array(edge_index).T\n",
        "    edge_index = torch.tensor(edge_index, dtype=torch.long)\n",
        "\n",
        "    # Do not store initial text for train sets\n",
        "    data = Data(x=x, edge_index=edge_index, edge_attr=edge_attr, y=y)\n",
        "    return data\n",
        "\n",
        "data = create_graph(get_triplets(test_set[0]), test_set[0]['text'][0], with_text=True)"
      ]
    },
    {
      "cell_type": "code",
      "execution_count": 13,
      "metadata": {
        "colab": {
          "base_uri": "https://localhost:8080/"
        },
        "id": "FKnURcgUTFza",
        "outputId": "53316c3c-2f07-4f3a-e3e5-7049897c383e"
      },
      "outputs": [
        {
          "output_type": "execute_result",
          "data": {
            "text/plain": [
              "[['Pakistan', 'location', 'Allama Iqbal International Airport'],\n",
              " ['2900.0', 'runway length', 'Allama Iqbal International Airport'],\n",
              " ['Pakistan Civil Aviation Authority',\n",
              "  'operating organisation',\n",
              "  'Allama Iqbal International Airport'],\n",
              " ['Lahore', 'city served', 'Allama Iqbal International Airport']]"
            ]
          },
          "metadata": {},
          "execution_count": 13
        }
      ],
      "source": [
        "get_triplets(test_set[0])"
      ]
    },
    {
      "cell_type": "code",
      "execution_count": 14,
      "metadata": {
        "id": "pomhrp18UGiw"
      },
      "outputs": [],
      "source": [
        "import torch\n",
        "from torch_geometric.data import InMemoryDataset, download_url\n",
        "import json\n",
        "\n",
        "class GraphDataset(InMemoryDataset):\n",
        "    def __init__(self, root, file_path, transform=None, pre_transform=None, pre_filter=None):\n",
        "        self.file_path = file_path\n",
        "        super().__init__(root, transform, pre_transform, pre_filter)\n",
        "        self.load(self.processed_paths[0])\n",
        "\n",
        "    @property\n",
        "    def raw_file_names(self):\n",
        "        return [self.file_path]\n",
        "\n",
        "    @property\n",
        "    def processed_file_names(self):\n",
        "        return [\".\".join(self.file_path.split(\".\")[:-1])+\".pt\"]\n",
        "\n",
        "    def download(self):\n",
        "        # Download to `self.raw_dir`.\n",
        "        if \".pt\" not in self.raw_file_names[0]:\n",
        "            with open (self.raw_file_names[0], \"r\") as f:\n",
        "                return json.load(f)\n",
        "        else:\n",
        "            return torch.load(\"processed/\"+self.raw_file_names[0])\n",
        "\n",
        "    def process(self):\n",
        "        # Read data into huge `Data` list.\n",
        "        data_list = []\n",
        "\n",
        "        if \".pt\" in self.raw_file_names[0]:\n",
        "            return\n",
        "        data  = self.download()\n",
        "        for datapoint in data:\n",
        "            data_list.append(create_graph(get_triplets(datapoint), datapoint['text'][0]))\n",
        "        # print(\"processing\")\n",
        "        if self.pre_filter is not None:\n",
        "            data_list = [data for data in data_list if self.pre_filter(data)]\n",
        "\n",
        "        if self.pre_transform is not None:\n",
        "            data_list = [self.pre_transform(data) for data in data_list]\n",
        "\n",
        "        self.save(data_list, self.processed_paths[0])"
      ]
    },
    {
      "cell_type": "code",
      "execution_count": null,
      "metadata": {
        "id": "GhMaT-xD2wQf"
      },
      "outputs": [],
      "source": [
        "%mkdir processed\n",
        "%mkdir processed/webnlg\n",
        "\n",
        "val_dataset = GraphDataset(\"./\", \"webnlg/val.json\")\n",
        "train_dataset = GraphDataset(\"./\", \"webnlg/train.json\")\n",
        "test_dataset = GraphDataset(\"./\", \"webnlg/test.json\")"
      ]
    },
    {
      "cell_type": "code",
      "execution_count": 16,
      "metadata": {
        "colab": {
          "base_uri": "https://localhost:8080/"
        },
        "id": "SSG0m3zSfbGL",
        "outputId": "581bbb7b-afca-4c59-dc8c-758e3cd86e10"
      },
      "outputs": [
        {
          "output_type": "execute_result",
          "data": {
            "text/plain": [
              "9"
            ]
          },
          "metadata": {},
          "execution_count": 16
        }
      ],
      "source": [
        "import gc\n",
        "gc.collect()"
      ]
    },
    {
      "cell_type": "code",
      "execution_count": 17,
      "metadata": {
        "colab": {
          "base_uri": "https://localhost:8080/"
        },
        "id": "lZlaEI9KMoDh",
        "outputId": "713df720-082d-43eb-ef28-0b7873d66259"
      },
      "outputs": [
        {
          "output_type": "execute_result",
          "data": {
            "text/plain": [
              "torch.Size([4, 2304])"
            ]
          },
          "metadata": {},
          "execution_count": 17
        }
      ],
      "source": [
        "val_dataset[0].x.shape"
      ]
    },
    {
      "cell_type": "markdown",
      "source": [
        "## Graph visualization"
      ],
      "metadata": {
        "id": "gU_-4rFFRMli"
      }
    },
    {
      "cell_type": "code",
      "source": [
        "import numpy as np\n",
        "import torch\n",
        "from torch_geometric.data import Data\n",
        "import torch_geometric\n",
        "import networkx as nx\n",
        "\n",
        "def get_tokens(nodes_list, averaging=False):\n",
        "    global emb, tokenizer\n",
        "    result = []\n",
        "    for el in nodes_list:\n",
        "        embeddings = transform_text_pretrained_embedding(el, emb, tokenizer)\n",
        "        result.append(embeddings.detach().tolist())\n",
        "    return result\n",
        "\n",
        "def replace_embedding(nodes_tokens):\n",
        "    global emb\n",
        "    res = []\n",
        "    for n in nodes_tokens:\n",
        "        res.append([])\n",
        "        for i in n:\n",
        "            print(i)\n",
        "            res[-1].append(emb(i))\n",
        "    return res\n",
        "\n",
        "def create_graph_in_text(triplets, text):\n",
        "    x = []\n",
        "    edge_index = []\n",
        "    edge_attr = []\n",
        "    y = text\n",
        "\n",
        "    for t in triplets:\n",
        "\n",
        "        # Create nodes as unique words\n",
        "        if t[0] not in x:\n",
        "            x.append(t[0])\n",
        "        if t[2] not in x:\n",
        "            x.append(t[2])\n",
        "\n",
        "        # Add edge\n",
        "        ind1, ind2 = x.index(t[0]), x.index(t[2])\n",
        "        edge_index.append([min(ind1, ind2), max(ind1, ind2)])\n",
        "\n",
        "        # Add edge attribute\n",
        "        edge_attr.append(t[1])\n",
        "\n",
        "    edge_index = np.array(edge_index).T\n",
        "    edge_index = torch.tensor(edge_index, dtype=torch.long)\n",
        "\n",
        "    # Do not store initial text for train sets\n",
        "    data = Data(x=x, edge_index=edge_index, edge_attr=edge_attr, y=text)\n",
        "    return data\n",
        "\n",
        "def draw_graph(graph):\n",
        "    data = create_graph_in_text(get_triplets(graph),graph['text'][0])\n",
        "    g = torch_geometric.utils.to_networkx(data, to_undirected=True)\n",
        "    nx.draw_shell(g, labels={i:p for i, p in enumerate(data.x)})\n",
        "\n",
        "draw_graph(test_set[2])"
      ],
      "metadata": {
        "colab": {
          "base_uri": "https://localhost:8080/",
          "height": 516
        },
        "id": "zDP4Xmn2OOjf",
        "outputId": "50cda573-4463-4d60-b317-64c31a6d92d5"
      },
      "execution_count": null,
      "outputs": [
        {
          "output_type": "display_data",
          "data": {
            "text/plain": [
              "<Figure size 640x480 with 1 Axes>"
            ],
            "image/png": "[encoded data removed]"
          },
          "metadata": {}
        }
      ]
    },
    {
      "cell_type": "markdown",
      "metadata": {
        "id": "W45LGUAXpL_7"
      },
      "source": [
        "# Load Spike GPT model"
      ]
    },
    {
      "cell_type": "code",
      "execution_count": 18,
      "metadata": {
        "id": "9ZiRWzzFISEF"
      },
      "outputs": [],
      "source": [
        "# !git clone https://huggingface.co/ridger/SpikeGPT-OpenWebText-216M\n",
        "# !git clone https://github.com/ridgerchu/SpikeGPT.git\n",
        "# !pip install torch matplotlib numpy tqdm torchvision scipy ninja accelerate transformers\n",
        "# !pip install gdown torch_geometric"
      ]
    },
    {
      "cell_type": "code",
      "execution_count": 19,
      "metadata": {
        "colab": {
          "base_uri": "https://localhost:8080/"
        },
        "id": "NDInBmgUpxes",
        "outputId": "e8b01d50-59da-4dd6-9330-7b550dd9b33c"
      },
      "outputs": [
        {
          "output_type": "stream",
          "name": "stdout",
          "text": [
            "Cloning into 'SpikeGPT-OpenWebText-216M'...\n",
            "remote: Enumerating objects: 13, done.\u001b[K\n",
            "remote: Total 13 (delta 0), reused 0 (delta 0), pack-reused 13\u001b[K\n",
            "Unpacking objects: 100% (13/13), 1.51 KiB | 386.00 KiB/s, done.\n"
          ]
        }
      ],
      "source": [
        "import os\n",
        "os.rename(\"./SpikeGPT-OpenWebText-216M/SpikeGPT-216M.pth\", \"./SpikeGPT/SpikeGPT-216M.pth\")\n",
        "%rm -r \"./SpikeGPT-OpenWebText-216M/\"\n",
        "!git clone https://huggingface.co/ridger/SpikeGPT-OpenWebText-216M"
      ]
    },
    {
      "cell_type": "code",
      "execution_count": 20,
      "metadata": {
        "id": "0N05Yu3IL0MB"
      },
      "outputs": [],
      "source": [
        "import matplotlib.ticker as ticker\n",
        "import numpy as np\n",
        "import math, os, sys, types, time, gc\n",
        "import torch\n",
        "from torch import nn\n",
        "\n",
        "def prepare_env():\n",
        "    try:\n",
        "        os.environ[\"CUDA_VISIBLE_DEVICES\"] = sys.argv[1]\n",
        "    except:\n",
        "        pass\n",
        "    torch.backends.cudnn.benchmark = True\n",
        "    torch.backends.cudnn.allow_tf32 = True\n",
        "    torch.backends.cuda.matmul.allow_tf32 = True\n",
        "    np.set_printoptions(precision=4, suppress=True, linewidth=200)\n",
        "    args = types.SimpleNamespace()\n",
        "\n",
        "    args.RUN_DEVICE = 'cuda' if torch.cuda.is_available() else 'cpu' # 'cuda' // 'cpu' (already fast)\n",
        "    args.FLOAT_MODE = \"fp32\" # fp16 (good for GPU, does not work for CPU) // fp32 (good for CPU) // bf16 (less accurate, but works for CPU)\n",
        "    os.environ[\"RWKV_JIT_ON\"] = '1' # '1' or '0'. very useful for GPU/CPU fp32, but might be harmful for GPU fp16. please benchmark !!!\n",
        "    vocab_size = 50277\n",
        "\n",
        "    # MODEL_NAME = model_path + 'SpikeGPT-216M'\n",
        "    n_layer = 18\n",
        "    n_embd = 768\n",
        "    ctx_len = 1024\n",
        "\n",
        "    args.MODEL_NAME = 'SpikeGPT-216M'\n",
        "\n",
        "    # args.MODEL_NAME = MODEL_NAME\n",
        "    args.n_layer = n_layer\n",
        "    args.n_embd = n_embd\n",
        "    args.ctx_len = ctx_len\n",
        "    args.vocab_size = vocab_size\n",
        "    args.head_qk = 0\n",
        "    args.pre_ffn = 0\n",
        "    args.grad_cp = 0\n",
        "    args.my_pos_emb = 0\n",
        "    os.environ[\"RWKV_RUN_DEVICE\"] = args.RUN_DEVICE\n",
        "    return args"
      ]
    },
    {
      "cell_type": "code",
      "execution_count": 21,
      "metadata": {
        "colab": {
          "base_uri": "https://localhost:8080/"
        },
        "id": "vvbrKHhyIPwj",
        "outputId": "a7751d57-5d38-4238-f3d8-f5cee843849b"
      },
      "outputs": [
        {
          "output_type": "stream",
          "name": "stdout",
          "text": [
            "/content/SpikeGPT\n",
            "emb.weight                               float32    cpu\n",
            "blocks.0.ln1.weight                      float32    cpu\n",
            "blocks.0.ln1.bias                        float32    cpu\n",
            "blocks.0.ln2.weight                      float32    cpu\n",
            "blocks.0.ln2.bias                        float32    cpu\n",
            "blocks.0.ln0.weight                      float32    cpu\n",
            "blocks.0.ln0.bias                        float32    cpu\n",
            "blocks.0.att.time_decay                  float32    cpu\n",
            "blocks.0.att.time_first                  float32    cpu\n",
            "blocks.0.att.time_mix_k                  float32    cpu\n",
            "blocks.0.att.time_mix_v                  float32    cpu\n",
            "blocks.0.att.time_mix_r                  float32    cpu\n",
            "blocks.0.att.key.weight                  float32    cpu\n",
            "blocks.0.att.value.weight                float32    cpu\n",
            "blocks.0.att.receptance.weight           float32    cpu\n",
            "blocks.0.att.output.weight               float32    cpu\n",
            "blocks.0.ffn.time_mix_k                  float32    cpu\n",
            "blocks.0.ffn.time_mix_r                  float32    cpu\n",
            "blocks.0.ffn.key.weight                  float32    cpu\n",
            "blocks.0.ffn.receptance.weight           float32    cpu\n",
            "blocks.0.ffn.value.weight                float32    cpu\n",
            "..................................................................................................................................................................................................................................................................................................................\n",
            "ln_out.weight                            float32    cpu\n",
            "ln_out.bias                              float32    cpu\n",
            "head.weight                              float32    cpu\n",
            "\n",
            "Optimizing speed...\n",
            "/content\n"
          ]
        }
      ],
      "source": [
        "%cd SpikeGPT\n",
        "args = prepare_env()\n",
        "\n",
        "from src.utils import TOKENIZER\n",
        "from src.model_run import RWKV_RNN\n",
        "\n",
        "def load_tokenizer():\n",
        "    TOKEN_MODE = \"pile\"\n",
        "    WORD_NAME = [\n",
        "        \"20B_tokenizer.json\",\n",
        "        \"20B_tokenizer.json\",\n",
        "    ]  # [vocab, vocab] for Pile model\n",
        "    UNKNOWN_CHAR = None\n",
        "\n",
        "    tokenizer = TOKENIZER(WORD_NAME, UNKNOWN_CHAR=UNKNOWN_CHAR)\n",
        "    if TOKEN_MODE == \"pile\":\n",
        "        assert tokenizer.tokenizer.decode([187]) == '\\n'\n",
        "    return tokenizer\n",
        "\n",
        "def tokenize(text, tokenizer):\n",
        "    if type(text) == str:\n",
        "        text = text.lower()\n",
        "    if tokenizer.charMode:\n",
        "        context = tokenizer.refine_context(text)\n",
        "        ctx = [tokenizer.stoi.get(s, tokenizer.UNKNOWN_CHAR) for s in context]\n",
        "    else:\n",
        "        ctx = tokenizer.tokenizer.encode(text)\n",
        "    # print(\"Number of tokens:\", len(ctx))\n",
        "\n",
        "    return ctx\n",
        "\n",
        "def run_spike_gpt(model, context, ctx, args, tokenizer, num_trials=2, length_per_trial = 100):\n",
        "    # Code is based on SpikeGPT run.py, but changed for this project\n",
        "    # To be able to use with the created model\n",
        "    # ctx = sequence of input tokens\n",
        "    # Context - real sentence\n",
        "    ctx_len = args.ctx_len\n",
        "\n",
        "    TOKEN_MODE = \"pile\"\n",
        "\n",
        "    src_len = len(ctx)\n",
        "    src_ctx = ctx.copy()\n",
        "\n",
        "    TEMPERATURE = 1.5\n",
        "    top_p = 0.7\n",
        "    top_p_newline = 0.9  # only used in TOKEN_MODE = char\n",
        "\n",
        "    DEBUG_DEBUG = False  # True False --> show softmax output\n",
        "\n",
        "    print(\"\\nYour prompt has \" + str(src_len) + \" tokens.\")\n",
        "\n",
        "    time_slot = {}\n",
        "    time_ref = time.time_ns()\n",
        "\n",
        "    def record_time(name):\n",
        "        if name not in time_slot:\n",
        "            time_slot[name] = 1e20\n",
        "        tt = (time.time_ns() - time_ref) / 1e9\n",
        "        if tt < time_slot[name]:\n",
        "            time_slot[name] = tt\n",
        "\n",
        "    init_state = None\n",
        "    init_out = None\n",
        "    state = None\n",
        "    mem1 = None\n",
        "    mem2 = None\n",
        "    out = None\n",
        "\n",
        "    for TRIAL in range(1 if DEBUG_DEBUG else num_trials):\n",
        "        print((\"-\" * 50) + '\\n' + context)\n",
        "\n",
        "        time_ref = time.time_ns()\n",
        "        ctx = src_ctx.copy()\n",
        "\n",
        "        if TRIAL == 0:\n",
        "            for i in range(src_len):\n",
        "                x = ctx[: i + 1]\n",
        "                if i == src_len - 1:\n",
        "                    init_out, init_state, mem1, mem2 = model.forward(x, init_state, mem1, mem2)\n",
        "                else:\n",
        "                    init_state, mem1, mem2 = model.forward(x, init_state, mem1, mem2, preprocess_only=True)\n",
        "            gc.collect()\n",
        "            torch.cuda.empty_cache()\n",
        "\n",
        "        record_time('preprocess')\n",
        "        out_last = src_len\n",
        "        for i in range(src_len, src_len + (1 if DEBUG_DEBUG else length_per_trial)):\n",
        "            x = ctx[: i + 1]\n",
        "            x = x[-ctx_len:]\n",
        "\n",
        "            if i == src_len:\n",
        "                out = init_out.clone()\n",
        "                state = init_state.clone()\n",
        "            else:\n",
        "                out, state, mem1, mem2 = model.forward(x, state, mem1, mem2)\n",
        "            if DEBUG_DEBUG:\n",
        "                print(\"model\", np.array(x), \"==>\", np.array(out), np.max(out.cpu().numpy()), np.min(out.cpu().numpy()))\n",
        "            if TOKEN_MODE == \"pile\":\n",
        "                out[0] = -999999999  # disable <|endoftext|>\n",
        "\n",
        "            ttt = tokenizer.sample_logits(\n",
        "                out,\n",
        "                x,\n",
        "                ctx_len,\n",
        "                temperature=TEMPERATURE,\n",
        "                top_p_usual=top_p,\n",
        "                top_p_newline=top_p_newline,\n",
        "            )\n",
        "            ttt = int(ttt)\n",
        "            ctx += [ttt]\n",
        "\n",
        "            if tokenizer.charMode:\n",
        "                char = tokenizer.itos[ttt]\n",
        "                print(char, end=\"\", flush=True)\n",
        "            else:\n",
        "                char = tokenizer.tokenizer.decode(ctx[out_last:])\n",
        "                if '\\ufffd' not in char: # is valid utf8 string?\n",
        "                    print(char, end=\"\", flush=True)\n",
        "                    out_last = i+1\n",
        "\n",
        "        record_time('total')\n",
        "        print(\n",
        "            f\"\\n\\n--- preprocess {round(time_slot['preprocess'], 2)}s, generation {round(time_slot['total']-time_slot['preprocess'], 2)}s \", end = ''\n",
        "        )\n",
        "\n",
        "    print((\"-\" * 50) + '\\n')\n",
        "\n",
        "\n",
        "tokenizer = load_tokenizer()\n",
        "spike_gpt = get_spike_gpt_model(args)\n",
        "%cd .."
      ]
    },
    {
      "cell_type": "code",
      "execution_count": 23,
      "metadata": {
        "colab": {
          "base_uri": "https://localhost:8080/"
        },
        "id": "KPkVi3e_kHac",
        "outputId": "761c575a-01ff-45ee-d064-71f6825a29e5"
      },
      "outputs": [
        {
          "output_type": "stream",
          "name": "stdout",
          "text": [
            "\n",
            "Your prompt has 4 tokens.\n",
            "--------------------------------------------------\n",
            "Hello, my friend\n",
            " for many"
          ]
        },
        {
          "output_type": "stream",
          "name": "stderr",
          "text": [
            "/content/SpikeGPT/src/utils.py:116: UserWarning: To copy construct from a tensor, it is recommended to use sourceTensor.clone().detach() or sourceTensor.clone().detach().requires_grad_(True), rather than torch.tensor(sourceTensor).\n",
            "  probs = F.softmax(torch.tensor(out), dim=-1)\n"
          ]
        },
        {
          "output_type": "stream",
          "name": "stdout",
          "text": [
            " years now. I love a blog post on you and this is my first place to start writing. I think this is a great time to try it out, so please be clear! If you like it, don’t forget to post it on Facebook, and enjoy it. I would love to hear what you think about this post!\n",
            "\n",
            "UPDATE (January 15, 2014): This article has been updated with additional details. I have removed this post because it was incorrect. The article\n",
            "\n",
            "--- preprocess 0.59s, generation 8.85s --------------------------------------------------\n",
            "Hello, my friend\n",
            " who is my cat who is all about you, and who just got upset and said, “Oh my God, there are no cats out there, there’s no cats.” So when you went back and saw him and said, “Yeah, yeah, I think I’m not going to see you. I don’t care if it’s you or not.” And that was when it got weird, and the dogs were like, “Yeah, it’s funny.” And it\n",
            "\n",
            "--- preprocess 0.0s, generation 9.44s --------------------------------------------------\n",
            "\n"
          ]
        }
      ],
      "source": [
        "text = \"Hello, my friend\"\n",
        "run_spike_gpt(spike_gpt, text, tokenize(text, tokenizer), args, tokenizer)"
      ]
    },
    {
      "cell_type": "markdown",
      "metadata": {
        "id": "3UkudSTLbq7i"
      },
      "source": [
        "# Load preprocessed data\n",
        "\n"
      ]
    },
    {
      "cell_type": "code",
      "execution_count": null,
      "metadata": {
        "colab": {
          "base_uri": "https://localhost:8080/"
        },
        "id": "dUZy1_MU6MeE",
        "outputId": "dcfde5de-f37f-4b37-82ab-1f188740d4da"
      },
      "outputs": [
        {
          "name": "stderr",
          "output_type": "stream",
          "text": [
            "Retrieving folder list\n"
          ]
        },
        {
          "name": "stdout",
          "output_type": "stream",
          "text": [
            "Processing file 1Qy2NnIbg0NuZm-8SkvNoh3a8VBOhhmRm test.pt\n",
            "Processing file 1OlEdxK6u4CmEHFPPy05avSD3nICxkXj5 train.pt\n",
            "Processing file 174XxA3OJx6CWw7cVvdYGUbMy7Yvtx1Rp val.pt\n",
            "Building directory structure completed\n"
          ]
        },
        {
          "name": "stderr",
          "output_type": "stream",
          "text": [
            "Retrieving folder list completed\n",
            "Building directory structure\n",
            "Downloading...\n",
            "From: https://drive.google.com/uc?id=1Qy2NnIbg0NuZm-8SkvNoh3a8VBOhhmRm\n",
            "To: /content/WebNLG_graph_dataset/test.pt\n",
            "100%|██████████| 174M/174M [00:06<00:00, 28.9MB/s]\n",
            "Downloading...\n",
            "From: https://drive.google.com/uc?id=1OlEdxK6u4CmEHFPPy05avSD3nICxkXj5\n",
            "To: /content/WebNLG_graph_dataset/train.pt\n",
            "100%|██████████| 1.40G/1.40G [00:23<00:00, 59.6MB/s]\n",
            "Downloading...\n",
            "From: https://drive.google.com/uc?id=174XxA3OJx6CWw7cVvdYGUbMy7Yvtx1Rp\n",
            "To: /content/WebNLG_graph_dataset/val.pt\n",
            "100%|██████████| 178M/178M [00:03<00:00, 47.9MB/s]\n",
            "Download completed\n"
          ]
        }
      ],
      "source": [
        "import gdown\n",
        "import os\n",
        "\n",
        "url = \"https://drive.google.com/drive/folders/1w8wUtjpC_3FgNFK9URWTsqcg5h6QpqAY\"\n",
        "gdown.download_folder(url)\n",
        "os.rename('./WebNLG_graph_dataset', './processed')"
      ]
    },
    {
      "cell_type": "code",
      "execution_count": null,
      "metadata": {
        "id": "MnkZ1KQOCW2g"
      },
      "outputs": [],
      "source": [
        "import torch\n",
        "from torch_geometric.data import InMemoryDataset, download_url\n",
        "import json\n",
        "\n",
        "\n",
        "class GraphDataset(InMemoryDataset):\n",
        "    def __init__(self, root, file_path, transform=None, pre_transform=None, pre_filter=None):\n",
        "        self.file_path = file_path\n",
        "        super().__init__(root, transform, pre_transform, pre_filter)\n",
        "        self.load(self.processed_paths[0])\n",
        "\n",
        "    @property\n",
        "    def raw_file_names(self):\n",
        "        return [self.file_path]\n",
        "\n",
        "    @property\n",
        "    def processed_file_names(self):\n",
        "        return [\".\".join(self.file_path.split(\".\")[:-1])+\".pt\"]\n",
        "\n",
        "    def download(self):\n",
        "        # Download to `self.raw_dir`.\n",
        "        if \".pt\" not in self.raw_file_names[0]:\n",
        "            with open (self.raw_file_names[0], \"r\") as f:\n",
        "                return json.load(f)\n",
        "        else:\n",
        "            return torch.load(\"processed/\"+self.raw_file_names[0])\n",
        "\n",
        "    def process(self):\n",
        "        # Read data into huge `Data` list.\n",
        "        data_list = []\n",
        "\n",
        "        if \".pt\" in self.raw_file_names[0]:\n",
        "            return\n",
        "        data  = self.download()\n",
        "        for datapoint in data:\n",
        "            data_list.append(create_graph(get_triplets(datapoint), datapoint['text'][0]))\n",
        "        # print(\"processing\")\n",
        "        if self.pre_filter is not None:\n",
        "            data_list = [data for data in data_list if self.pre_filter(data)]\n",
        "\n",
        "        if self.pre_transform is not None:\n",
        "            data_list = [self.pre_transform(data) for data in data_list]\n",
        "\n",
        "        self.save(data_list, self.processed_paths[0])"
      ]
    },
    {
      "cell_type": "code",
      "execution_count": null,
      "metadata": {
        "id": "B4ZmtFAMCYw3"
      },
      "outputs": [],
      "source": [
        "train_dataset = GraphDataset(\"./\", \"train.pt\")\n",
        "val_dataset = GraphDataset(\"./\", \"val.pt\")\n",
        "test_dataset = GraphDataset(\"./\", \"test.pt\")"
      ]
    },
    {
      "cell_type": "markdown",
      "metadata": {
        "id": "gsn5Ej5OiRf5"
      },
      "source": [
        "# Huge model"
      ]
    },
    {
      "cell_type": "code",
      "execution_count": 24,
      "metadata": {
        "id": "ORk5YWk4qoyr"
      },
      "outputs": [],
      "source": [
        "import math\n",
        "import time\n",
        "import random\n",
        "from typing import Tuple\n",
        "\n",
        "import torch.nn as nn\n",
        "import torch.optim as optim\n",
        "import torch.nn.functional as F\n",
        "from torch import Tensor\n",
        "\n",
        "from torch_geometric.nn import GCNConv , GraphConv\n",
        "from tqdm import tqdm"
      ]
    },
    {
      "cell_type": "code",
      "source": [
        "import warnings\n",
        "warnings.simplefilter('ignore')"
      ],
      "metadata": {
        "id": "IKCXs7Uq9Dgs"
      },
      "execution_count": null,
      "outputs": []
    },
    {
      "cell_type": "code",
      "execution_count": 25,
      "metadata": {
        "id": "_Aha1eXEhdZf"
      },
      "outputs": [],
      "source": [
        "class Encoder(nn.Module):\n",
        "    def __init__(self,\n",
        "                 input_dim: int,\n",
        "                 emb_dim: int,\n",
        "                 enc_hid_dim: int,\n",
        "                 dec_hid_dim: int,\n",
        "                 dropout: float):\n",
        "        super().__init__()\n",
        "\n",
        "        self.input_dim = input_dim\n",
        "        self.emb_dim = emb_dim\n",
        "        self.enc_hid_dim = enc_hid_dim\n",
        "        self.dec_hid_dim = dec_hid_dim\n",
        "        self.dropout = dropout\n",
        "\n",
        "        self.conv = GraphConv(input_dim, emb_dim)\n",
        "\n",
        "        self.rnn = nn.GRU(emb_dim, enc_hid_dim, bidirectional = True)\n",
        "\n",
        "        self.fc = nn.Linear(enc_hid_dim * 2, dec_hid_dim)\n",
        "\n",
        "        self.dropout = nn.Dropout(dropout)\n",
        "\n",
        "\n",
        "    def forward(self, src: Tensor, edge_index):\n",
        "        emb = self.conv(src, edge_index)\n",
        "\n",
        "        embedded = self.dropout(emb)\n",
        "        embedded = torch.mean(embedded, dim=0).unsqueeze(0).unsqueeze(0)\n",
        "\n",
        "        outputs, hidden = self.rnn(embedded)\n",
        "\n",
        "        hidden = torch.cat((hidden[-2,:,:], hidden[-1,:,:]), dim = 1)\n",
        "        hidden = torch.tanh(self.fc(hidden))\n",
        "\n",
        "        return outputs, hidden\n",
        "\n",
        "\n",
        "class Attention(nn.Module):\n",
        "    def __init__(self,\n",
        "                 enc_hid_dim: int,\n",
        "                 dec_hid_dim: int,\n",
        "                 attn_dim: int):\n",
        "        super().__init__()\n",
        "\n",
        "        self.enc_hid_dim = enc_hid_dim\n",
        "        self.dec_hid_dim = dec_hid_dim\n",
        "\n",
        "        self.attn_in = (enc_hid_dim * 2) + dec_hid_dim\n",
        "\n",
        "        self.attn = nn.Linear(self.attn_in, attn_dim)\n",
        "\n",
        "    def forward(self,\n",
        "                decoder_hidden: Tensor,\n",
        "                encoder_outputs: Tensor) -> Tensor:\n",
        "\n",
        "        src_len = encoder_outputs.shape[0]\n",
        "\n",
        "        repeated_decoder_hidden = decoder_hidden.unsqueeze(1).repeat(1, src_len, 1)\n",
        "\n",
        "        encoder_outputs = encoder_outputs.permute(1, 0, 2)\n",
        "\n",
        "        energy = torch.tanh(self.attn(torch.cat((\n",
        "            repeated_decoder_hidden,\n",
        "            encoder_outputs),\n",
        "            dim = 2)))\n",
        "\n",
        "        attention = torch.sum(energy, dim=2)\n",
        "\n",
        "        return F.softmax(attention, dim=1)\n",
        "\n",
        "class Decoder(nn.Module):\n",
        "    def __init__(self,\n",
        "                 output_dim: int,\n",
        "                 emb_dim: int,\n",
        "                 enc_hid_dim: int,\n",
        "                 dec_hid_dim: int,\n",
        "                 dropout: int,\n",
        "                 attention: nn.Module):\n",
        "        super().__init__()\n",
        "\n",
        "        self.emb_dim = emb_dim\n",
        "        self.enc_hid_dim = enc_hid_dim\n",
        "        self.dec_hid_dim = dec_hid_dim\n",
        "        self.output_dim = output_dim\n",
        "        self.dropout = dropout\n",
        "        self.attention = attention\n",
        "\n",
        "        self.embedding = nn.Embedding(output_dim, emb_dim)\n",
        "\n",
        "        self.rnn = nn.GRU((enc_hid_dim * 2) + emb_dim, dec_hid_dim)\n",
        "\n",
        "        self.out = nn.Linear(self.attention.attn_in + emb_dim, output_dim)\n",
        "\n",
        "        self.dropout = nn.Dropout(dropout)\n",
        "\n",
        "\n",
        "    def _weighted_encoder_rep(self,\n",
        "                              decoder_hidden: Tensor,\n",
        "                              encoder_outputs: Tensor) -> Tensor:\n",
        "\n",
        "        a = self.attention(decoder_hidden, encoder_outputs)\n",
        "\n",
        "        a = a.unsqueeze(1)\n",
        "\n",
        "        encoder_outputs = encoder_outputs.permute(1, 0, 2)\n",
        "\n",
        "        weighted_encoder_rep = torch.bmm(a, encoder_outputs)\n",
        "\n",
        "        weighted_encoder_rep = weighted_encoder_rep.permute(1, 0, 2)\n",
        "\n",
        "        return weighted_encoder_rep\n",
        "\n",
        "\n",
        "    def forward(self,\n",
        "                input: Tensor,\n",
        "                decoder_hidden: Tensor,\n",
        "                encoder_outputs: Tensor):\n",
        "\n",
        "        input = input.unsqueeze(0)\n",
        "\n",
        "        embedded = self.embedding(input)\n",
        "\n",
        "        weighted_encoder_rep = self._weighted_encoder_rep(decoder_hidden,\n",
        "                                                          encoder_outputs)\n",
        "\n",
        "        rnn_input = torch.cat((embedded, weighted_encoder_rep), dim = 2)\n",
        "        output, decoder_hidden = self.rnn(rnn_input, decoder_hidden.unsqueeze(0))\n",
        "\n",
        "        embedded = embedded.squeeze(0)\n",
        "        output = output.squeeze(0)\n",
        "        weighted_encoder_rep = weighted_encoder_rep.squeeze(0)\n",
        "\n",
        "        output = self.out(torch.cat((output,\n",
        "                                     weighted_encoder_rep,\n",
        "                                     embedded), dim = 1))\n",
        "\n",
        "        return output, decoder_hidden.squeeze(0)\n",
        "\n",
        "class Graph2Seq(nn.Module):\n",
        "    def __init__(self,\n",
        "                 encoder: nn.Module,\n",
        "                 decoder: nn.Module,\n",
        "                 device: torch.device):\n",
        "        super().__init__()\n",
        "\n",
        "        self.encoder = encoder\n",
        "        self.decoder = decoder\n",
        "        self.device = device\n",
        "\n",
        "    def forward(self,\n",
        "                src: Tensor, edge_index,\n",
        "                trg: Tensor,\n",
        "                teacher_forcing_ratio: float = 0.5) -> Tensor:\n",
        "\n",
        "        batch_size = 1\n",
        "        if type(trg) == int:\n",
        "            max_len = trg\n",
        "            output = torch.tensor([1])\n",
        "        else:\n",
        "            max_len = trg.shape[0]\n",
        "            trg = trg.unsqueeze(1)\n",
        "            output = trg[0]\n",
        "\n",
        "        trg_vocab_size = self.decoder.output_dim\n",
        "\n",
        "        outputs = torch.zeros(max_len, batch_size, trg_vocab_size).to(self.device)\n",
        "\n",
        "        encoder_outputs, hidden = self.encoder(src, edge_index)\n",
        "\n",
        "        for t in range(1, max_len):\n",
        "            output, hidden = self.decoder(output, hidden, encoder_outputs)\n",
        "            outputs[t] = output\n",
        "            teacher_force = random.random() < teacher_forcing_ratio\n",
        "            top1 = output.max(1)[1]\n",
        "            output = (trg[t] if teacher_force and type(trg) != int else top1)\n",
        "\n",
        "        return outputs"
      ]
    },
    {
      "cell_type": "code",
      "execution_count": 26,
      "metadata": {
        "id": "okuOKQbQiLgR"
      },
      "outputs": [],
      "source": [
        "# HIDDEN_DIM = 1024\n",
        "# OUTPUT_DIM = 50277\n",
        "# MAX_OUT_SIZE = 103\n",
        "\n",
        "INPUT_DIM = train_dataset.num_features\n",
        "OUTPUT_DIM = 50277\n",
        "\n",
        "ENC_EMB_DIM = 768\n",
        "DEC_EMB_DIM = 768\n",
        "ENC_HID_DIM = 512\n",
        "DEC_HID_DIM = 512\n",
        "ATTN_DIM = 64\n",
        "ENC_DROPOUT = 0.5\n",
        "DEC_DROPOUT = 0.5\n",
        "\n",
        "# ENC_EMB_DIM = 32\n",
        "# DEC_EMB_DIM = 768\n",
        "# ENC_HID_DIM = 64\n",
        "# DEC_HID_DIM = 64\n",
        "# ATTN_DIM = 8\n",
        "# ENC_DROPOUT = 0.5\n",
        "# DEC_DROPOUT = 0.5\n",
        "\n",
        "enc = Encoder(INPUT_DIM, ENC_EMB_DIM, ENC_HID_DIM, DEC_HID_DIM, ENC_DROPOUT)\n",
        "\n",
        "attn = Attention(ENC_HID_DIM, DEC_HID_DIM, ATTN_DIM)\n",
        "\n",
        "dec = Decoder(OUTPUT_DIM, DEC_EMB_DIM, ENC_HID_DIM, DEC_HID_DIM, DEC_DROPOUT, attn)\n",
        "\n",
        "device = torch.device('cuda' if torch.cuda.is_available() else 'cpu')\n",
        "\n",
        "graph_to_tokens = Graph2Seq(enc, dec, device).to(device)\n",
        "\n",
        "\n",
        "def init_weights(m: nn.Module):\n",
        "    for name, param in m.named_parameters():\n",
        "        if 'weight' in name:\n",
        "            nn.init.normal_(param.data, mean=0, std=0.01)\n",
        "        else:\n",
        "            nn.init.constant_(param.data, 0)\n",
        "\n",
        "\n",
        "graph_to_tokens.apply(init_weights)\n",
        "graph_to_tokens.decoder.embedding.weight.data = spike_gpt.w.emb.weight.data\n",
        "# graph_to_tokens.decoder.embedding.requires_grad = False\n",
        "\n",
        "optimizer = torch.optim.Adam(graph_to_tokens.parameters())\n",
        "\n",
        "PAD_IDX = 1\n",
        "\n",
        "criterion = nn.CrossEntropyLoss(ignore_index=PAD_IDX)\n"
      ]
    },
    {
      "cell_type": "code",
      "execution_count": 50,
      "metadata": {
        "id": "Q2Q7R50IEX6Z"
      },
      "outputs": [],
      "source": [
        "import math\n",
        "import time\n",
        "\n",
        "\n",
        "def train(model: nn.Module,\n",
        "          train_dataset,\n",
        "          optimizer: torch.optim.Optimizer,\n",
        "          criterion: nn.Module,\n",
        "          clip: float, batch_num, batch_size):\n",
        "    # Training loop\n",
        "\n",
        "    model.train()\n",
        "\n",
        "    epoch_loss = 0\n",
        "    counter = 0\n",
        "\n",
        "    # progress bar\n",
        "    progress = tqdm(range(batch_num * batch_size, min((batch_num + 1) * batch_size, len(train_dataset))), desc=\"Train loss: \", total=batch_size)\n",
        "\n",
        "    for i in progress:\n",
        "\n",
        "        # training step for single batch\n",
        "        labels = tokenize(train_dataset[i].y, tokenizer)\n",
        "        labels = F.pad(torch.tensor(labels), (1, 0), value=PAD_IDX).to(device)\n",
        "\n",
        "        graphs = train_dataset[i].to(device)\n",
        "        output = model(graphs.x, graphs.edge_index, labels, 0.5)\n",
        "        output = output[1:].view(-1, output.shape[-1])\n",
        "        trg = labels[1:].view(-1)\n",
        "\n",
        "        loss = criterion(output, trg)\n",
        "\n",
        "        loss.backward()\n",
        "\n",
        "        torch.nn.utils.clip_grad_norm_(model.parameters(), clip)\n",
        "\n",
        "        optimizer.step()\n",
        "\n",
        "        cur_loss = loss.item()\n",
        "        epoch_loss += cur_loss\n",
        "        counter+=1\n",
        "\n",
        "        progress.set_description(\"Train loss: {:.7f}\".format(epoch_loss / counter ))\n",
        "\n",
        "    if counter == 0:\n",
        "        return 0\n",
        "    return epoch_loss / batch_size\n",
        "\n",
        "\n",
        "def evaluate(model: nn.Module,\n",
        "             train_dataset,\n",
        "             criterion: nn.Module, batch_num, batch_size):\n",
        "\n",
        "    model.eval()\n",
        "    counter = 0\n",
        "    epoch_loss = 0\n",
        "\n",
        "    with torch.no_grad():\n",
        "        # progress bar\n",
        "        progress = tqdm(range(batch_num * batch_size, min((batch_num + 1) * batch_size, len(train_dataset))), desc=\"Validation loss:\", total=batch_size)\n",
        "\n",
        "        for i in progress:\n",
        "            graphs = train_dataset[i].to(device)\n",
        "\n",
        "            # training step for single batch\n",
        "            labels = tokenize(train_dataset[i].y, tokenizer)\n",
        "            labels = F.pad(torch.tensor(labels), (1, 0), value=PAD_IDX).to(device)\n",
        "            output = model(graphs.x, graphs.edge_index, labels.shape[0], 0)\n",
        "\n",
        "            output = output[1:].view(-1, output.shape[-1])\n",
        "            trg = labels[1:].view(-1)\n",
        "            loss = criterion(output, trg)\n",
        "\n",
        "\n",
        "            cur_loss = loss.item()\n",
        "            epoch_loss += cur_loss\n",
        "            counter+=1\n",
        "\n",
        "            progress.set_description(\"Validation loss: {:.7f}\".format(epoch_loss / counter ))\n",
        "\n",
        "    if counter == 0:\n",
        "        return 0\n",
        "    return epoch_loss / counter\n",
        "\n",
        "\n",
        "def epoch_time(start_time: int,\n",
        "               end_time: int):\n",
        "    elapsed_time = end_time - start_time\n",
        "    elapsed_mins = int(elapsed_time / 60)\n",
        "    elapsed_secs = int(elapsed_time - (elapsed_mins * 60))\n",
        "    return elapsed_mins, elapsed_secs\n",
        "\n",
        "def run_epochs(batch_size, val_size, test_size, train_batch_num, tokenizer, n_epochs=1):\n",
        "    CLIP = 1\n",
        "    batch_num = train_batch_num\n",
        "    graph_to_tokens.to(device)\n",
        "\n",
        "    train_losses = []\n",
        "    val_losses = []\n",
        "\n",
        "    for epoch in range(n_epochs):\n",
        "\n",
        "        start_time = time.time()\n",
        "        for batch_id in range(batch_num):\n",
        "            # Train on subset\n",
        "            train_loss = train(graph_to_tokens, train_dataset, optimizer, criterion, CLIP, batch_id, batch_size,\n",
        "                               tokenizer)\n",
        "            # Evaluate on subset\n",
        "            valid_loss = evaluate(graph_to_tokens, val_dataset, criterion, batch_id, val_size, tokenizer)\n",
        "\n",
        "            train_losses.append(train_loss)\n",
        "            val_losses.append(valid_loss)\n",
        "\n",
        "        end_time = time.time()\n",
        "\n",
        "        epoch_mins, epoch_secs = epoch_time(start_time, end_time)\n",
        "\n",
        "        print(f'\\n\\nEpoch: {epoch + 1:02} | Time: {epoch_mins}m {epoch_secs}s')\n",
        "        print(f'\\tTrain Loss: {train_loss:.3f} | Train PPL: {math.exp(train_loss):7.3f}')\n",
        "        print(f'\\t Val. Loss: {valid_loss:.3f} |  Val. PPL: {math.exp(valid_loss):7.3f}')\n",
        "\n",
        "    test_loss = evaluate(graph_to_tokens, test_dataset, criterion, 1, test_size)\n",
        "\n",
        "    print(f'| Test Loss: {test_loss:.3f} | Test PPL: {math.exp(test_loss):7.3f} |')\n",
        "    return train_losses, val_losses, test_loss\n"
      ]
    },
    {
      "cell_type": "code",
      "execution_count": 51,
      "metadata": {
        "colab": {
          "base_uri": "https://localhost:8080/"
        },
        "id": "nZ1N02IqNx-M",
        "outputId": "09512374-a830-4e9a-f58d-f0ad84a095f7"
      },
      "outputs": [
        {
          "output_type": "stream",
          "name": "stderr",
          "text": [
            "Train loss: 10.8398197: 100%|██████████| 15/15 [04:25<00:00, 17.67s/it]\n",
            "Validation loss: 8.9601978: 100%|██████████| 3/3 [00:04<00:00,  1.58s/it]\n",
            "Train loss: 8.6324277: 100%|██████████| 15/15 [03:59<00:00, 15.99s/it]\n",
            "Validation loss: 8.3505319: 100%|██████████| 3/3 [00:04<00:00,  1.52s/it]\n",
            "Train loss: 7.8184622: 100%|██████████| 15/15 [05:00<00:00, 20.05s/it]\n",
            "Validation loss: 7.9184319: 100%|██████████| 3/3 [00:04<00:00,  1.36s/it]\n",
            "Train loss: 7.9415722: 100%|██████████| 15/15 [04:35<00:00, 18.34s/it]\n",
            "Validation loss: 8.8140300: 100%|██████████| 3/3 [00:05<00:00,  1.74s/it]\n",
            "Train loss: 7.9451793: 100%|██████████| 15/15 [04:43<00:00, 18.92s/it]\n",
            "Validation loss: 7.8856626: 100%|██████████| 3/3 [00:04<00:00,  1.40s/it]\n",
            "Train loss: 7.2799178: 100%|██████████| 15/15 [04:39<00:00, 18.63s/it]\n",
            "Validation loss: 7.1394585: 100%|██████████| 3/3 [00:04<00:00,  1.52s/it]\n",
            "Train loss: 7.3703152: 100%|██████████| 15/15 [04:22<00:00, 17.47s/it]\n",
            "Validation loss: 8.3972155: 100%|██████████| 3/3 [00:03<00:00,  1.20s/it]\n",
            "Train loss: 7.2078625: 100%|██████████| 15/15 [03:56<00:00, 15.79s/it]\n",
            "Validation loss: 7.0378119: 100%|██████████| 3/3 [00:03<00:00,  1.18s/it]\n",
            "Train loss: 7.5689531: 100%|██████████| 15/15 [04:12<00:00, 16.82s/it]\n",
            "Validation loss: 7.0239186: 100%|██████████| 3/3 [00:02<00:00,  1.41it/s]\n",
            "Train loss: 6.8098831: 100%|██████████| 15/15 [05:19<00:00, 21.28s/it]\n",
            "Validation loss: 7.7509658: 100%|██████████| 3/3 [00:04<00:00,  1.50s/it]\n",
            "Train loss: 7.3921959: 100%|██████████| 15/15 [04:31<00:00, 18.07s/it]\n",
            "Validation loss: 8.1241364: 100%|██████████| 3/3 [00:03<00:00,  1.15s/it]\n",
            "Train loss: 7.2731165: 100%|██████████| 15/15 [04:21<00:00, 17.41s/it]\n",
            "Validation loss: 6.5480773: 100%|██████████| 3/3 [00:05<00:00,  1.75s/it]\n",
            "Train loss: 7.0268748: 100%|██████████| 15/15 [04:09<00:00, 16.66s/it]\n",
            "Validation loss: 7.6090151: 100%|██████████| 3/3 [00:03<00:00,  1.24s/it]\n",
            "Train loss: 7.0806002: 100%|██████████| 15/15 [04:23<00:00, 17.55s/it]\n",
            "Validation loss: 6.8132625: 100%|██████████| 3/3 [00:03<00:00,  1.17s/it]\n",
            "Train loss: 6.7518555: 100%|██████████| 15/15 [04:39<00:00, 18.62s/it]\n",
            "Validation loss: 7.6338514: 100%|██████████| 3/3 [00:02<00:00,  1.34it/s]\n",
            "Train loss: 6.8271913: 100%|██████████| 15/15 [04:37<00:00, 18.52s/it]\n",
            "Validation loss: 6.5821935: 100%|██████████| 3/3 [00:03<00:00,  1.19s/it]\n",
            "Train loss: 6.8984026: 100%|██████████| 15/15 [05:48<00:00, 23.23s/it]\n",
            "Validation loss: 7.9504614: 100%|██████████| 3/3 [00:03<00:00,  1.24s/it]\n",
            "Train loss: 6.9184896: 100%|██████████| 15/15 [04:42<00:00, 18.81s/it]\n",
            "Validation loss: 7.6663971: 100%|██████████| 3/3 [00:02<00:00,  1.12it/s]\n",
            "Train loss: 6.9693465: 100%|██████████| 15/15 [04:52<00:00, 19.50s/it]\n",
            "Validation loss: 7.4674382: 100%|██████████| 3/3 [00:02<00:00,  1.02it/s]\n",
            "Train loss: 6.8416499: 100%|██████████| 15/15 [04:39<00:00, 18.61s/it]\n",
            "Validation loss: 7.7749152: 100%|██████████| 3/3 [00:02<00:00,  1.13it/s]\n"
          ]
        },
        {
          "output_type": "stream",
          "name": "stdout",
          "text": [
            "\n",
            "\n",
            "Epoch: 01 | Time: 93m 14s\n",
            "\tTrain Loss: 6.842 | Train PPL: 936.032\n",
            "\t Val. Loss: 7.775 |  Val. PPL: 2380.141\n"
          ]
        },
        {
          "output_type": "stream",
          "name": "stderr",
          "text": [
            "Validation loss: 7.2161287: 100%|██████████| 15/15 [00:16<00:00,  1.11s/it]"
          ]
        },
        {
          "output_type": "stream",
          "name": "stdout",
          "text": [
            "| Test Loss: 7.216 | Test PPL: 1361.209 |\n"
          ]
        },
        {
          "output_type": "stream",
          "name": "stderr",
          "text": [
            "\n"
          ]
        }
      ],
      "source": [
        "# Run epoch 1\n",
        "train_losses, val_losses, test_losses = run_epochs(15, 3, 15, 20)"
      ]
    },
    {
      "cell_type": "code",
      "source": [
        "# Run epoch 2\n",
        "tr_losses, v_losses, te_losses = run_epochs(15, 3, 15, 20)"
      ],
      "metadata": {
        "colab": {
          "base_uri": "https://localhost:8080/"
        },
        "id": "uiE-9A3xil6I",
        "outputId": "71316321-7510-41b5-97c4-5611e3aa3bb1"
      },
      "execution_count": 72,
      "outputs": [
        {
          "output_type": "stream",
          "name": "stderr",
          "text": [
            "Train loss: 5.6240227: 100%|██████████| 15/15 [04:42<00:00, 18.82s/it]\n",
            "Validation loss: 8.0670199: 100%|██████████| 3/3 [00:05<00:00,  1.69s/it]\n",
            "Train loss: 5.3995557: 100%|██████████| 15/15 [04:13<00:00, 16.92s/it]\n",
            "Validation loss: 7.7123408: 100%|██████████| 3/3 [00:04<00:00,  1.59s/it]\n",
            "Train loss: 5.5682105: 100%|██████████| 15/15 [05:16<00:00, 21.11s/it]\n",
            "Validation loss: 7.2663862: 100%|██████████| 3/3 [00:04<00:00,  1.49s/it]\n",
            "Train loss: 5.5900153: 100%|██████████| 15/15 [04:40<00:00, 18.70s/it]\n",
            "Validation loss: 8.2235470: 100%|██████████| 3/3 [00:04<00:00,  1.61s/it]\n",
            "Train loss: 5.6963770: 100%|██████████| 15/15 [04:50<00:00, 19.38s/it]\n",
            "Validation loss: 7.7785908: 100%|██████████| 3/3 [00:04<00:00,  1.37s/it]\n",
            "Train loss: 5.3130239: 100%|██████████| 15/15 [04:43<00:00, 18.88s/it]\n",
            "Validation loss: 7.1164640: 100%|██████████| 3/3 [00:04<00:00,  1.50s/it]\n",
            "Train loss: 5.5547789: 100%|██████████| 15/15 [04:27<00:00, 17.85s/it]\n",
            "Validation loss: 8.8003451: 100%|██████████| 3/3 [00:03<00:00,  1.24s/it]\n",
            "Train loss: 5.2430963: 100%|██████████| 15/15 [04:02<00:00, 16.18s/it]\n",
            "Validation loss: 7.1880468: 100%|██████████| 3/3 [00:03<00:00,  1.24s/it]\n",
            "Train loss: 5.3861307: 100%|██████████| 15/15 [04:20<00:00, 17.37s/it]\n",
            "Validation loss: 7.1653069: 100%|██████████| 3/3 [00:02<00:00,  1.39it/s]\n",
            "Train loss: 5.1308980: 100%|██████████| 15/15 [05:33<00:00, 22.25s/it]\n",
            "Validation loss: 7.9213228: 100%|██████████| 3/3 [00:04<00:00,  1.55s/it]\n",
            "Train loss: 5.6571452: 100%|██████████| 15/15 [04:46<00:00, 19.10s/it]\n",
            "Validation loss: 8.4903722: 100%|██████████| 3/3 [00:03<00:00,  1.11s/it]\n",
            "Train loss: 5.7665114: 100%|██████████| 15/15 [04:34<00:00, 18.33s/it]\n",
            "Validation loss: 7.0898126: 100%|██████████| 3/3 [00:05<00:00,  1.80s/it]\n",
            "Train loss: 5.4551858: 100%|██████████| 15/15 [04:18<00:00, 17.22s/it]\n",
            "Validation loss: 8.1371539: 100%|██████████| 3/3 [00:03<00:00,  1.25s/it]\n",
            "Train loss: 5.4483365: 100%|██████████| 15/15 [04:24<00:00, 17.62s/it]\n",
            "Validation loss: 7.2429140: 100%|██████████| 3/3 [00:03<00:00,  1.13s/it]\n",
            "Train loss: 5.4324019: 100%|██████████| 15/15 [04:39<00:00, 18.63s/it]\n",
            "Validation loss: 7.9666588: 100%|██████████| 3/3 [00:02<00:00,  1.37it/s]\n",
            "Train loss: 5.5374565: 100%|██████████| 15/15 [04:34<00:00, 18.30s/it]\n",
            "Validation loss: 6.9898496: 100%|██████████| 3/3 [00:03<00:00,  1.17s/it]\n",
            "Train loss: 5.2776640: 100%|██████████| 15/15 [05:41<00:00, 22.80s/it]\n",
            "Validation loss: 8.7917369: 100%|██████████| 3/3 [00:03<00:00,  1.24s/it]\n",
            "Train loss: 5.5606529: 100%|██████████| 15/15 [04:36<00:00, 18.46s/it]\n",
            "Validation loss: 7.6497405: 100%|██████████| 3/3 [00:02<00:00,  1.20it/s]\n",
            "Train loss: 5.6689169: 100%|██████████| 15/15 [04:45<00:00, 19.03s/it]\n",
            "Validation loss: 8.4210641: 100%|██████████| 3/3 [00:02<00:00,  1.08it/s]\n",
            "Train loss: 5.6842863: 100%|██████████| 15/15 [04:35<00:00, 18.34s/it]\n",
            "Validation loss: 8.4784368: 100%|██████████| 3/3 [00:02<00:00,  1.31it/s]\n"
          ]
        },
        {
          "output_type": "stream",
          "name": "stdout",
          "text": [
            "\n",
            "\n",
            "Epoch: 01 | Time: 95m 4s\n",
            "\tTrain Loss: 5.684 | Train PPL: 294.208\n",
            "\t Val. Loss: 8.478 |  Val. PPL: 4809.925\n"
          ]
        },
        {
          "output_type": "stream",
          "name": "stderr",
          "text": [
            "Validation loss: 7.9139579: 100%|██████████| 15/15 [00:15<00:00,  1.04s/it]"
          ]
        },
        {
          "output_type": "stream",
          "name": "stdout",
          "text": [
            "| Test Loss: 7.914 | Test PPL: 2735.195 |\n"
          ]
        },
        {
          "output_type": "stream",
          "name": "stderr",
          "text": [
            "\n"
          ]
        }
      ]
    },
    {
      "cell_type": "code",
      "source": [
        "# Save model weights\n",
        "torch.save(graph_to_tokens.state_dict(), \"/content/model_graph_to_tokens.pt\")"
      ],
      "metadata": {
        "id": "OUlcSiQus3h6"
      },
      "execution_count": 53,
      "outputs": []
    },
    {
      "cell_type": "markdown",
      "source": [
        "## Predictions"
      ],
      "metadata": {
        "id": "ICMgAAo6dWBd"
      }
    },
    {
      "cell_type": "code",
      "execution_count": 66,
      "metadata": {
        "id": "zK4HoeYzLf_H"
      },
      "outputs": [],
      "source": [
        "def predict(model: nn.Module,\n",
        "             graph,\n",
        "             criterion: nn.Module, tokenizer):\n",
        "    # Make a single prediction\n",
        "    model.eval()\n",
        "\n",
        "    with torch.no_grad():\n",
        "\n",
        "        graphs = graph.to(device)\n",
        "\n",
        "        # training step for single batch\n",
        "        labels = tokenize(graph.y.lower(), tokenizer)\n",
        "        labels = F.pad(torch.tensor(labels), (1, 0), value=PAD_IDX).to(device)\n",
        "        # print(labels)\n",
        "        false_trg = torch.ones(labels.shape)\n",
        "        output = model(graphs.x, graphs.edge_index, labels.shape[0] , 0)\n",
        "\n",
        "        output = output[1:].view(-1, output.shape[-1])\n",
        "        trg = labels[1:]\n",
        "        # .view(-1, output.shape[-1])\n",
        "\n",
        "        loss = criterion(output, trg)\n",
        "\n",
        "\n",
        "        cur_loss = loss.item()\n",
        "        print(\"Loss:\", cur_loss)\n",
        "\n",
        "\n",
        "    return output.max(1)[1]\n"
      ]
    },
    {
      "cell_type": "code",
      "source": [
        "def run_graph_spike_gpt(graph, spike_gpt, args, graph_to_tokens, criterion, tokenizer, device, num_trials=2, length_per_trial = 100):\n",
        "    # Run full model\n",
        "    # GraphSpikeGPT\n",
        "    context = graph.y\n",
        "    ctx = predict(graph_to_tokens, graph, criterion, tokenizer, device).tolist()\n",
        "    run_spike_gpt(spike_gpt, context, ctx, args, tokenizer, num_trials, length_per_trial)"
      ],
      "metadata": {
        "id": "d6B-Hfea-xRl"
      },
      "execution_count": 78,
      "outputs": []
    },
    {
      "cell_type": "markdown",
      "source": [
        "# Vizualization"
      ],
      "metadata": {
        "id": "-yT9Evd7KL_s"
      }
    },
    {
      "cell_type": "code",
      "source": [
        "run_graph_spike_gpt(test_dataset[2], spike_gpt, args, graph_to_tokens, criterion, tokenizer, device)"
      ],
      "metadata": {
        "colab": {
          "base_uri": "https://localhost:8080/"
        },
        "id": "IKJgoh-GaaSv",
        "outputId": "c6824aa6-4e44-43b9-a171-79a1af876628"
      },
      "execution_count": null,
      "outputs": [
        {
          "output_type": "stream",
          "name": "stdout",
          "text": [
            "Loss: 5.986928939819336\n",
            "\n",
            "Your prompt has 24 tokens.\n",
            "--------------------------------------------------\n",
            "Anaheim is part of California and is led by the United States House of Representatives located in the US .\n",
            "President of France today told the press that the U.S. is \"looking to push back\" against U.S. sanctions against Iran.\n",
            "\n",
            "“We want to get our help to counter Iran, but they're going to have to do better,\" he told reporters at the White House on Thursday, according to the Washington Post.\n",
            "\n",
            "--- preprocess 2.21s, generation 9.01s --------------------------------------------------\n"
          ]
        }
      ]
    },
    {
      "cell_type": "code",
      "source": [
        "# Plot train and validation loss\n",
        "import matplotlib.pyplot as plt\n",
        "import numpy as np\n",
        "\n",
        "plt.figure(figsize=(10,6))\n",
        "# train_losses = []\n",
        "# val_losses = []\n",
        "xaxis = np.arange(0, 30, 1)\n",
        "plt.plot(xaxis, t_loss, label='Training Loss')\n",
        "plt.plot(xaxis, val_loss, label='Validation Loss')\n",
        "\n",
        "# Add in a title and axes labels\n",
        "plt.title('Training and Validation Loss')\n",
        "plt.xlabel('Iteration')\n",
        "plt.ylabel('Loss')\n",
        "\n",
        "# Set the tick locations\n",
        "plt.xticks(xaxis)\n",
        "\n",
        "# Display the plot\n",
        "plt.legend(loc='best')\n",
        "plt.show()"
      ],
      "metadata": {
        "colab": {
          "base_uri": "https://localhost:8080/",
          "height": 564
        },
        "outputId": "1bc4c671-2bf6-40c4-ab02-0347984dba09",
        "id": "ylAh8LYaXzpN"
      },
      "execution_count": null,
      "outputs": [
        {
          "output_type": "display_data",
          "data": {
            "text/plain": [
              "<Figure size 1000x600 with 1 Axes>"
            ],
            "image/png": "[encoded data removed]"
          },
          "metadata": {}
        }
      ]
    }
  ],
  "metadata": {
    "colab": {
      "collapsed_sections": [
        "sD5nQk1XIMZL",
        "3UkudSTLbq7i",
        "TVJAAwuRRuT1",
        "fyHlgD4lXix2",
        "QIEAgDWVEqSn"
      ],
      "provenance": [],
      "gpuType": "T4"
    },
    "kernelspec": {
      "display_name": "Python 3",
      "name": "python3"
    },
    "language_info": {
      "codemirror_mode": {
        "name": "ipython",
        "version": 3
      },
      "file_extension": ".py",
      "mimetype": "text/x-python",
      "name": "python",
      "nbconvert_exporter": "python",
      "pygments_lexer": "ipython3",
      "version": "3.9.5"
    },
    "accelerator": "GPU"
  },
  "nbformat": 4,
  "nbformat_minor": 0
}